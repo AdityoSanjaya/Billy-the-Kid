{
 "cells": [
  {
   "cell_type": "markdown",
   "metadata": {},
   "source": [
    "## Uploading data Adinda"
   ]
  },
  {
   "cell_type": "code",
   "execution_count": 96,
   "metadata": {
    "collapsed": false
   },
   "outputs": [],
   "source": [
    "data <- read.csv(\"adinda.clean.csv\")"
   ]
  },
  {
   "cell_type": "code",
   "execution_count": 97,
   "metadata": {
    "collapsed": false
   },
   "outputs": [
    {
     "data": {
      "text/html": [
       "<table>\n",
       "<thead><tr><th></th><th scope=col>Firm</th><th scope=col>Year</th><th scope=col>CEI</th><th scope=col>BRIB_CORR</th><th scope=col>BUSS_ETH</th><th scope=col>FAIR_COMP</th><th scope=col>POL_CONTR</th><th scope=col>INDIG_PPL</th><th scope=col>IND_EC_IMP</th><th scope=col>X0TH_ENG</th><th scope=col>ellip.h</th><th scope=col>DIVIDEND</th><th scope=col>LOSS</th><th scope=col>TOT_ASSETS</th><th scope=col>SLACK</th><th scope=col>ROE</th><th scope=col>BRD_INDP_DIV</th><th scope=col>BRD_MEET_DIV</th><th scope=col>BRD_SIZE_DIV</th><th scope=col>BRD_COMPT_DIV</th><th scope=col>BRD_EFFC_DIV</th></tr></thead>\n",
       "<tbody>\n",
       "\t<tr><th scope=row>1</th><td>1</td><td>2011</td><td>0.57143</td><td>0</td><td>0.5</td><td>0.5</td><td>0.25</td><td>0.25</td><td>1</td><td>1</td><td>⋯</td><td>30.35</td><td>0</td><td>5.144545e+13</td><td>5.081927e+12</td><td>0.22</td><td>60.7</td><td>75.875</td><td>91.05</td><td>75.875</td><td>75.875</td></tr>\n",
       "\t<tr><th scope=row>2</th><td>1</td><td>2012</td><td>0.54762</td><td>0</td><td>0.25</td><td>0.25</td><td>0.5</td><td>1</td><td>1</td><td>0.8333</td><td>⋯</td><td>55.82524</td><td>0</td><td>6.497336e+13</td><td>4.857942e+12</td><td>0.141</td><td>93.04225</td><td>158.1713</td><td>167.4757</td><td>139.5631</td><td>131.3534</td></tr>\n",
       "\t<tr><th scope=row>3</th><td>1</td><td>2013</td><td>0.52381</td><td>0</td><td>0.5</td><td>0.25</td><td>0.25</td><td>1</td><td>1</td><td>0.6667</td><td>⋯</td><td>15.36585</td><td>0</td><td>8.212195e+13</td><td>8.308451e+12</td><td>0.074</td><td>28.17067</td><td>35.8536</td><td>46.09755</td><td>38.41463</td><td>34.34713</td></tr>\n",
       "\t<tr><th scope=row>4</th><td>1</td><td>2014</td><td>0.52381</td><td>0</td><td>0.5</td><td>0.25</td><td>0.25</td><td>1</td><td>1</td><td>0.6667</td><td>⋯</td><td>29.375</td><td>0</td><td>8.0175e+13</td><td>9.3156e+12</td><td>0.056</td><td>44.0625</td><td>73.4375</td><td>88.125</td><td>73.4375</td><td>63.93381</td></tr>\n",
       "\t<tr><th scope=row>5</th><td>2</td><td>2011</td><td>0.4881</td><td>0</td><td>0.5</td><td>0.75</td><td>0</td><td>1</td><td>1</td><td>0.1667</td><td>⋯</td><td>0</td><td>0</td><td>2.301384e+12</td><td>3.59163e+11</td><td>0.0569</td><td>0</td><td>0</td><td>0</td><td>0</td><td>0</td></tr>\n",
       "\t<tr><th scope=row>6</th><td>2</td><td>2012</td><td>0.7381</td><td>0</td><td>1</td><td>1</td><td>1</td><td>0.667</td><td>1</td><td>0.5</td><td>⋯</td><td>0</td><td>1</td><td>2.903932e+12</td><td>152631066954</td><td>-0.0773</td><td>0</td><td>0</td><td>0</td><td>0</td><td>0</td></tr>\n",
       "</tbody>\n",
       "</table>\n"
      ],
      "text/latex": [
       "\\begin{tabular}{r|llllllllllllllllllllllllll}\n",
       "  & Firm & Year & CEI & BRIB_CORR & BUSS_ETH & FAIR_COMP & POL_CONTR & INDIG_PPL & IND_EC_IMP & X0TH_ENG & ellip.h & DIVIDEND & LOSS & TOT_ASSETS & SLACK & ROE & BRD_INDP_DIV & BRD_MEET_DIV & BRD_SIZE_DIV & BRD_COMPT_DIV & BRD_EFFC_DIV\\\\\n",
       "\\hline\n",
       "\t1 & 1 & 2011 & 0.57143 & 0 & 0.5 & 0.5 & 0.25 & 0.25 & 1 & 1 & ⋯ & 30.35 & 0 & 5.144545e+13 & 5.081927e+12 & 0.22 & 60.7 & 75.875 & 91.05 & 75.875 & 75.875\\\\\n",
       "\t2 & 1 & 2012 & 0.54762 & 0 & 0.25 & 0.25 & 0.5 & 1 & 1 & 0.8333 & ⋯ & 55.82524 & 0 & 6.497336e+13 & 4.857942e+12 & 0.141 & 93.04225 & 158.1713 & 167.4757 & 139.5631 & 131.3534\\\\\n",
       "\t3 & 1 & 2013 & 0.52381 & 0 & 0.5 & 0.25 & 0.25 & 1 & 1 & 0.6667 & ⋯ & 15.36585 & 0 & 8.212195e+13 & 8.308451e+12 & 0.074 & 28.17067 & 35.8536 & 46.09755 & 38.41463 & 34.34713\\\\\n",
       "\t4 & 1 & 2014 & 0.52381 & 0 & 0.5 & 0.25 & 0.25 & 1 & 1 & 0.6667 & ⋯ & 29.375 & 0 & 8.0175e+13 & 9.3156e+12 & 0.056 & 44.0625 & 73.4375 & 88.125 & 73.4375 & 63.93381\\\\\n",
       "\t5 & 2 & 2011 & 0.4881 & 0 & 0.5 & 0.75 & 0 & 1 & 1 & 0.1667 & ⋯ & 0 & 0 & 2.301384e+12 & 3.59163e+11 & 0.0569 & 0 & 0 & 0 & 0 & 0\\\\\n",
       "\t6 & 2 & 2012 & 0.7381 & 0 & 1 & 1 & 1 & 0.667 & 1 & 0.5 & ⋯ & 0 & 1 & 2.903932e+12 & 152631066954 & -0.0773 & 0 & 0 & 0 & 0 & 0\\\\\n",
       "\\end{tabular}\n"
      ],
      "text/plain": [
       "  Firm Year     CEI BRIB_CORR BUSS_ETH FAIR_COMP POL_CONTR INDIG_PPL IND_EC_IMP\n",
       "1    1 2011 0.57143         0     0.50      0.50      0.25     0.250          1\n",
       "2    1 2012 0.54762         0     0.25      0.25      0.50     1.000          1\n",
       "3    1 2013 0.52381         0     0.50      0.25      0.25     1.000          1\n",
       "4    1 2014 0.52381         0     0.50      0.25      0.25     1.000          1\n",
       "5    2 2011 0.48810         0     0.50      0.75      0.00     1.000          1\n",
       "6    2 2012 0.73810         0     1.00      1.00      1.00     0.667          1\n",
       "  X0TH_ENG ALT_CEI BRD_EFFC BRD_INDP BRD_MEET BRD_SIZE BRD_COMPT DIVIDEND LOSS\n",
       "1   1.0000     0.7  2.50000  2.00000  2.50000        3     2.500 30.35000    0\n",
       "2   0.8333     0.5  2.35294  1.66667  2.83333        3     2.500 55.82524    0\n",
       "3   0.6667     0.5  2.23529  1.83333  2.33333        3     2.500 15.36585    0\n",
       "4   0.6667     0.5  2.17647  1.50000  2.50000        3     2.500 29.37500    0\n",
       "5   0.1667     0.3  2.26458  1.83333  2.00000        3     2.225  0.00000    0\n",
       "6   0.5000     0.5  2.17647  1.83333  2.16667        3     2.500  0.00000    1\n",
       "    TOT_ASSETS        SLACK     ROE BRD_INDP_DIV BRD_MEET_DIV BRD_SIZE_DIV\n",
       "1 5.144545e+13 5.081927e+12  0.2200     60.70000      75.8750     91.05000\n",
       "2 6.497336e+13 4.857942e+12  0.1410     93.04225     158.1713    167.47572\n",
       "3 8.212195e+13 8.308451e+12  0.0740     28.17067      35.8536     46.09755\n",
       "4 8.017500e+13 9.315600e+12  0.0560     44.06250      73.4375     88.12500\n",
       "5 2.301384e+12 3.591630e+11  0.0569      0.00000       0.0000      0.00000\n",
       "6 2.903932e+12 1.526311e+11 -0.0773      0.00000       0.0000      0.00000\n",
       "  BRD_COMPT_DIV BRD_EFFC_DIV\n",
       "1      75.87500     75.87500\n",
       "2     139.56310    131.35344\n",
       "3      38.41463     34.34713\n",
       "4      73.43750     63.93381\n",
       "5       0.00000      0.00000\n",
       "6       0.00000      0.00000"
      ]
     },
     "execution_count": 97,
     "metadata": {},
     "output_type": "execute_result"
    }
   ],
   "source": [
    "head(data)"
   ]
  },
  {
   "cell_type": "code",
   "execution_count": 98,
   "metadata": {
    "collapsed": false
   },
   "outputs": [
    {
     "data": {
      "text/html": [
       "<table>\n",
       "<thead><tr><th></th><th scope=col>Firm</th><th scope=col>Year</th><th scope=col>CEI</th><th scope=col>BRIB_CORR</th><th scope=col>BUSS_ETH</th><th scope=col>FAIR_COMP</th><th scope=col>POL_CONTR</th><th scope=col>INDIG_PPL</th><th scope=col>IND_EC_IMP</th><th scope=col>X0TH_ENG</th><th scope=col>ellip.h</th><th scope=col>DIVIDEND</th><th scope=col>LOSS</th><th scope=col>TOT_ASSETS</th><th scope=col>SLACK</th><th scope=col>ROE</th><th scope=col>BRD_INDP_DIV</th><th scope=col>BRD_MEET_DIV</th><th scope=col>BRD_SIZE_DIV</th><th scope=col>BRD_COMPT_DIV</th><th scope=col>BRD_EFFC_DIV</th></tr></thead>\n",
       "<tbody>\n",
       "\t<tr><th scope=row>139</th><td>35</td><td>2013</td><td>0.9</td><td>0.8</td><td>1</td><td>1</td><td>1</td><td>1</td><td>1</td><td>0.5</td><td>⋯</td><td>0</td><td>0</td><td>1.517317e+12</td><td>1.03378e+11</td><td>0.0065</td><td>0</td><td>0</td><td>0</td><td>0</td><td>0</td></tr>\n",
       "\t<tr><th scope=row>140</th><td>35</td><td>2014</td><td>0.9</td><td>0.8</td><td>1</td><td>1</td><td>1</td><td>1</td><td>1</td><td>0.5</td><td>⋯</td><td>0</td><td>1</td><td>155237500000</td><td>6.4325e+10</td><td>-0.2002</td><td>0</td><td>0</td><td>0</td><td>0</td><td>0</td></tr>\n",
       "\t<tr><th scope=row>141</th><td>36</td><td>2011</td><td>0</td><td>0</td><td>0</td><td>0</td><td>0</td><td>0</td><td>0</td><td>0</td><td>⋯</td><td>0</td><td>0</td><td>5.44282e+11</td><td>23752819524</td><td>0.2485</td><td>0</td><td>0</td><td>0</td><td>0</td><td>0</td></tr>\n",
       "\t<tr><th scope=row>142</th><td>36</td><td>2012</td><td>0</td><td>0</td><td>0</td><td>0</td><td>0</td><td>0</td><td>0</td><td>0</td><td>⋯</td><td>0</td><td>0</td><td>3.89007e+11</td><td>55782539000</td><td>0.1998</td><td>0</td><td>0</td><td>0</td><td>0</td><td>0</td></tr>\n",
       "\t<tr><th scope=row>143</th><td>36</td><td>2013</td><td>0.09524</td><td>0</td><td>0</td><td>0</td><td>0</td><td>0.6667</td><td>0</td><td>0</td><td>⋯</td><td>50</td><td>0</td><td>765881409376</td><td>72298136315</td><td>0.0397</td><td>90</td><td>91.6665</td><td>50</td><td>112.5</td><td>93.75</td></tr>\n",
       "\t<tr><th scope=row>144</th><td>36</td><td>2014</td><td>0.09524</td><td>0</td><td>0</td><td>0</td><td>0</td><td>0.6667</td><td>0</td><td>0</td><td>⋯</td><td>8</td><td>0</td><td>897281657710</td><td>42022184000</td><td>0.1792</td><td>14.4</td><td>14.66664</td><td>8</td><td>18</td><td>15</td></tr>\n",
       "</tbody>\n",
       "</table>\n"
      ],
      "text/latex": [
       "\\begin{tabular}{r|llllllllllllllllllllllllll}\n",
       "  & Firm & Year & CEI & BRIB_CORR & BUSS_ETH & FAIR_COMP & POL_CONTR & INDIG_PPL & IND_EC_IMP & X0TH_ENG & ellip.h & DIVIDEND & LOSS & TOT_ASSETS & SLACK & ROE & BRD_INDP_DIV & BRD_MEET_DIV & BRD_SIZE_DIV & BRD_COMPT_DIV & BRD_EFFC_DIV\\\\\n",
       "\\hline\n",
       "\t139 & 35 & 2013 & 0.9 & 0.8 & 1 & 1 & 1 & 1 & 1 & 0.5 & ⋯ & 0 & 0 & 1.517317e+12 & 1.03378e+11 & 0.0065 & 0 & 0 & 0 & 0 & 0\\\\\n",
       "\t140 & 35 & 2014 & 0.9 & 0.8 & 1 & 1 & 1 & 1 & 1 & 0.5 & ⋯ & 0 & 1 & 155237500000 & 6.4325e+10 & -0.2002 & 0 & 0 & 0 & 0 & 0\\\\\n",
       "\t141 & 36 & 2011 & 0 & 0 & 0 & 0 & 0 & 0 & 0 & 0 & ⋯ & 0 & 0 & 5.44282e+11 & 23752819524 & 0.2485 & 0 & 0 & 0 & 0 & 0\\\\\n",
       "\t142 & 36 & 2012 & 0 & 0 & 0 & 0 & 0 & 0 & 0 & 0 & ⋯ & 0 & 0 & 3.89007e+11 & 55782539000 & 0.1998 & 0 & 0 & 0 & 0 & 0\\\\\n",
       "\t143 & 36 & 2013 & 0.09524 & 0 & 0 & 0 & 0 & 0.6667 & 0 & 0 & ⋯ & 50 & 0 & 765881409376 & 72298136315 & 0.0397 & 90 & 91.6665 & 50 & 112.5 & 93.75\\\\\n",
       "\t144 & 36 & 2014 & 0.09524 & 0 & 0 & 0 & 0 & 0.6667 & 0 & 0 & ⋯ & 8 & 0 & 897281657710 & 42022184000 & 0.1792 & 14.4 & 14.66664 & 8 & 18 & 15\\\\\n",
       "\\end{tabular}\n"
      ],
      "text/plain": [
       "    Firm Year     CEI BRIB_CORR BUSS_ETH FAIR_COMP POL_CONTR INDIG_PPL\n",
       "139   35 2013 0.90000       0.8        1         1         1    1.0000\n",
       "140   35 2014 0.90000       0.8        1         1         1    1.0000\n",
       "141   36 2011 0.00000       0.0        0         0         0    0.0000\n",
       "142   36 2012 0.00000       0.0        0         0         0    0.0000\n",
       "143   36 2013 0.09524       0.0        0         0         0    0.6667\n",
       "144   36 2014 0.09524       0.0        0         0         0    0.6667\n",
       "    IND_EC_IMP X0TH_ENG ALT_CEI BRD_EFFC BRD_INDP BRD_MEET BRD_SIZE BRD_COMPT\n",
       "139          1      0.5     0.5  2.29412  2.00000  2.33333        3      2.50\n",
       "140          1      0.5     0.5  2.29412  2.00000  2.33333        3      2.50\n",
       "141          0      0.0     0.0  2.14583  1.16667  2.16667        3      2.25\n",
       "142          0      0.0     0.0  1.88235  1.16667  2.16667        3      2.25\n",
       "143          0      0.0     0.0  1.87500  1.80000  1.83333        1      2.25\n",
       "144          0      0.0     0.0  1.87500  1.80000  1.83333        1      2.25\n",
       "    DIVIDEND LOSS   TOT_ASSETS        SLACK     ROE BRD_INDP_DIV BRD_MEET_DIV\n",
       "139        0    0 1.517317e+12 103378048346  0.0065          0.0      0.00000\n",
       "140        0    1 1.552375e+11  64325000000 -0.2002          0.0      0.00000\n",
       "141        0    0 5.442820e+11  23752819524  0.2485          0.0      0.00000\n",
       "142        0    0 3.890070e+11  55782539000  0.1998          0.0      0.00000\n",
       "143       50    0 7.658814e+11  72298136315  0.0397         90.0     91.66650\n",
       "144        8    0 8.972817e+11  42022184000  0.1792         14.4     14.66664\n",
       "    BRD_SIZE_DIV BRD_COMPT_DIV BRD_EFFC_DIV\n",
       "139            0           0.0         0.00\n",
       "140            0           0.0         0.00\n",
       "141            0           0.0         0.00\n",
       "142            0           0.0         0.00\n",
       "143           50         112.5        93.75\n",
       "144            8          18.0        15.00"
      ]
     },
     "execution_count": 98,
     "metadata": {},
     "output_type": "execute_result"
    }
   ],
   "source": [
    "tail(data)"
   ]
  },
  {
   "cell_type": "code",
   "execution_count": 99,
   "metadata": {
    "collapsed": false
   },
   "outputs": [
    {
     "data": {
      "text/html": [
       "<ol class=list-inline>\n",
       "\t<li>'Firm'</li>\n",
       "\t<li>'Year'</li>\n",
       "\t<li>'CEI'</li>\n",
       "\t<li>'BRIB_CORR'</li>\n",
       "\t<li>'BUSS_ETH'</li>\n",
       "\t<li>'FAIR_COMP'</li>\n",
       "\t<li>'POL_CONTR'</li>\n",
       "\t<li>'INDIG_PPL'</li>\n",
       "\t<li>'IND_EC_IMP'</li>\n",
       "\t<li>'X0TH_ENG'</li>\n",
       "\t<li>'ALT_CEI'</li>\n",
       "\t<li>'BRD_EFFC'</li>\n",
       "\t<li>'BRD_INDP'</li>\n",
       "\t<li>'BRD_MEET'</li>\n",
       "\t<li>'BRD_SIZE'</li>\n",
       "\t<li>'BRD_COMPT'</li>\n",
       "\t<li>'DIVIDEND'</li>\n",
       "\t<li>'LOSS'</li>\n",
       "\t<li>'TOT_ASSETS'</li>\n",
       "\t<li>'SLACK'</li>\n",
       "\t<li>'ROE'</li>\n",
       "\t<li>'BRD_INDP_DIV'</li>\n",
       "\t<li>'BRD_MEET_DIV'</li>\n",
       "\t<li>'BRD_SIZE_DIV'</li>\n",
       "\t<li>'BRD_COMPT_DIV'</li>\n",
       "\t<li>'BRD_EFFC_DIV'</li>\n",
       "</ol>\n"
      ],
      "text/latex": [
       "\\begin{enumerate*}\n",
       "\\item 'Firm'\n",
       "\\item 'Year'\n",
       "\\item 'CEI'\n",
       "\\item 'BRIB_CORR'\n",
       "\\item 'BUSS_ETH'\n",
       "\\item 'FAIR_COMP'\n",
       "\\item 'POL_CONTR'\n",
       "\\item 'INDIG_PPL'\n",
       "\\item 'IND_EC_IMP'\n",
       "\\item 'X0TH_ENG'\n",
       "\\item 'ALT_CEI'\n",
       "\\item 'BRD_EFFC'\n",
       "\\item 'BRD_INDP'\n",
       "\\item 'BRD_MEET'\n",
       "\\item 'BRD_SIZE'\n",
       "\\item 'BRD_COMPT'\n",
       "\\item 'DIVIDEND'\n",
       "\\item 'LOSS'\n",
       "\\item 'TOT_ASSETS'\n",
       "\\item 'SLACK'\n",
       "\\item 'ROE'\n",
       "\\item 'BRD_INDP_DIV'\n",
       "\\item 'BRD_MEET_DIV'\n",
       "\\item 'BRD_SIZE_DIV'\n",
       "\\item 'BRD_COMPT_DIV'\n",
       "\\item 'BRD_EFFC_DIV'\n",
       "\\end{enumerate*}\n"
      ],
      "text/markdown": [
       "1. 'Firm'\n",
       "2. 'Year'\n",
       "3. 'CEI'\n",
       "4. 'BRIB_CORR'\n",
       "5. 'BUSS_ETH'\n",
       "6. 'FAIR_COMP'\n",
       "7. 'POL_CONTR'\n",
       "8. 'INDIG_PPL'\n",
       "9. 'IND_EC_IMP'\n",
       "10. 'X0TH_ENG'\n",
       "11. 'ALT_CEI'\n",
       "12. 'BRD_EFFC'\n",
       "13. 'BRD_INDP'\n",
       "14. 'BRD_MEET'\n",
       "15. 'BRD_SIZE'\n",
       "16. 'BRD_COMPT'\n",
       "17. 'DIVIDEND'\n",
       "18. 'LOSS'\n",
       "19. 'TOT_ASSETS'\n",
       "20. 'SLACK'\n",
       "21. 'ROE'\n",
       "22. 'BRD_INDP_DIV'\n",
       "23. 'BRD_MEET_DIV'\n",
       "24. 'BRD_SIZE_DIV'\n",
       "25. 'BRD_COMPT_DIV'\n",
       "26. 'BRD_EFFC_DIV'\n",
       "\n",
       "\n"
      ],
      "text/plain": [
       " [1] \"Firm\"          \"Year\"          \"CEI\"           \"BRIB_CORR\"    \n",
       " [5] \"BUSS_ETH\"      \"FAIR_COMP\"     \"POL_CONTR\"     \"INDIG_PPL\"    \n",
       " [9] \"IND_EC_IMP\"    \"X0TH_ENG\"      \"ALT_CEI\"       \"BRD_EFFC\"     \n",
       "[13] \"BRD_INDP\"      \"BRD_MEET\"      \"BRD_SIZE\"      \"BRD_COMPT\"    \n",
       "[17] \"DIVIDEND\"      \"LOSS\"          \"TOT_ASSETS\"    \"SLACK\"        \n",
       "[21] \"ROE\"           \"BRD_INDP_DIV\"  \"BRD_MEET_DIV\"  \"BRD_SIZE_DIV\" \n",
       "[25] \"BRD_COMPT_DIV\" \"BRD_EFFC_DIV\" "
      ]
     },
     "execution_count": 99,
     "metadata": {},
     "output_type": "execute_result"
    }
   ],
   "source": [
    "names(data)"
   ]
  },
  {
   "cell_type": "code",
   "execution_count": 103,
   "metadata": {
    "collapsed": false
   },
   "outputs": [
    {
     "name": "stderr",
     "output_type": "stream",
     "text": [
      "Warning message:\n",
      "In `[<-.factor`(`*tmp*`, ri, value = \"⋱\"): invalid factor level, NA generatedWarning message:\n",
      "In `[<-.factor`(`*tmp*`, ri, value = \"⋱\"): invalid factor level, NA generated"
     ]
    },
    {
     "data": {
      "text/html": [
       "<table>\n",
       "<thead><tr><th></th><th scope=col>CEI</th><th scope=col>BRIB_CORR</th><th scope=col>BUSS_ETH</th><th scope=col>FAIR_COMP</th><th scope=col>POL_CONTR</th><th scope=col>INDIG_PPL</th><th scope=col>IND_EC_IMP</th><th scope=col>X0TH_ENG</th><th scope=col>ALT_CEI</th><th scope=col>BRD_EFFC</th><th scope=col>ellip.h</th><th scope=col>DIVIDEND</th><th scope=col>LOSS</th><th scope=col>TOT_ASSETS</th><th scope=col>SLACK</th><th scope=col>ROE</th><th scope=col>BRD_INDP_DIV</th><th scope=col>BRD_MEET_DIV</th><th scope=col>BRD_SIZE_DIV</th><th scope=col>BRD_COMPT_DIV</th><th scope=col>BRD_EFFC_DIV</th></tr></thead>\n",
       "<tbody>\n",
       "\t<tr><th scope=row>1</th><td>0.57143</td><td>0</td><td>0.5</td><td>0.5</td><td>0.25</td><td>0.25</td><td>1</td><td>1</td><td>0.7</td><td>2.5</td><td>⋯</td><td>30.35</td><td>0</td><td>51445454031000</td><td>5081927221910</td><td>0.22</td><td>60.7</td><td>75.875</td><td>91.05</td><td>75.875</td><td>75.875</td></tr>\n",
       "\t<tr><th scope=row>2</th><td>0.54762</td><td>0</td><td>0.25</td><td>0.25</td><td>0.5</td><td>1</td><td>1</td><td>0.8333</td><td>0.5</td><td>2.35294</td><td>⋯</td><td>55.82524</td><td>0</td><td>64973358794500</td><td>4857941715510</td><td>0.141</td><td>93.0422527508</td><td>158.171327249</td><td>167.47572</td><td>139.5631</td><td>131.353440206</td></tr>\n",
       "\t<tr><th scope=row>3</th><td>0.52381</td><td>0</td><td>0.5</td><td>0.25</td><td>0.25</td><td>1</td><td>1</td><td>0.6667</td><td>0.5</td><td>2.23529</td><td>⋯</td><td>15.36585</td><td>0</td><td>82121950874600</td><td>8308451184620</td><td>0.074</td><td>28.1706737805</td><td>35.8535987805</td><td>46.09755</td><td>38.414625</td><td>34.3471308465</td></tr>\n",
       "\t<tr><th scope=row>4</th><td>0.52381</td><td>0</td><td>0.5</td><td>0.25</td><td>0.25</td><td>1</td><td>1</td><td>0.6667</td><td>0.5</td><td>2.17647</td><td>⋯</td><td>29.375</td><td>0</td><td>8.0175e+13</td><td>9.3156e+12</td><td>0.056</td><td>44.0625</td><td>73.4375</td><td>88.125</td><td>73.4375</td><td>63.93380625</td></tr>\n",
       "\t<tr><th scope=row>5</th><td>0.4881</td><td>0</td><td>0.5</td><td>0.75</td><td>0</td><td>1</td><td>1</td><td>0.1667</td><td>0.3</td><td>2.26458</td><td>⋯</td><td>0</td><td>0</td><td>2.301384e+12</td><td>3.59163e+11</td><td>0.0569</td><td>0</td><td>0</td><td>0</td><td>0</td><td>0</td></tr>\n",
       "\t<tr><th scope=row>6</th><td>0.7381</td><td>0</td><td>1</td><td>1</td><td>1</td><td>0.667</td><td>1</td><td>0.5</td><td>0.5</td><td>2.17647</td><td>⋯</td><td>0</td><td>1</td><td>2903932019670</td><td>152631066954</td><td>-0.0773</td><td>0</td><td>0</td><td>0</td><td>0</td><td>0</td></tr>\n",
       "\t<tr><th scope=row>7</th><td>0.45238</td><td>0</td><td>1</td><td>0</td><td>0</td><td>0.6667</td><td>1</td><td>0.5</td><td>0.6</td><td>2.41176</td><td>⋯</td><td>0</td><td>1</td><td>3855817056980</td><td>22475609661.7</td><td>-0.0799</td><td>0</td><td>0</td><td>0</td><td>0</td><td>0</td></tr>\n",
       "\t<tr><th scope=row>8</th><td>0.78571</td><td>0</td><td>1</td><td>1</td><td>1</td><td>1</td><td>1</td><td>0.5</td><td>0.4</td><td>2.29412</td><td>⋯</td><td>0</td><td>1</td><td>4239362500000</td><td>5.275e+10</td><td>-0.2293</td><td>0</td><td>0</td><td>0</td><td>0</td><td>0</td></tr>\n",
       "\t<tr><th scope=row>9</th><td>0</td><td>0</td><td>0</td><td>0</td><td>0</td><td>0</td><td>0</td><td>0</td><td>0</td><td>1.77083</td><td>⋯</td><td>0</td><td>1</td><td>111660087000</td><td>3469378000</td><td>-0.6431</td><td>0</td><td>0</td><td>0</td><td>0</td><td>0</td></tr>\n",
       "\t<tr><th scope=row>10</th><td>0.19444</td><td>0</td><td>0</td><td>0</td><td>0</td><td>1</td><td>0.5</td><td>0.1667</td><td>0.3</td><td>2.05882</td><td>⋯</td><td>0</td><td>1</td><td>150829601</td><td>2807016</td><td>-0.382</td><td>0</td><td>0</td><td>0</td><td>0</td><td>0</td></tr>\n",
       "\t<tr><th scope=row>11</th><td>0.19048</td><td>0</td><td>0</td><td>0</td><td>0</td><td>0.6667</td><td>0.5</td><td>0.1667</td><td>0.2</td><td>2.11765</td><td>⋯</td><td>0</td><td>0</td><td>1489339945000</td><td>30159881</td><td>0.012</td><td>0</td><td>0</td><td>0</td><td>0</td><td>0</td></tr>\n",
       "\t<tr><th scope=row>12</th><td>0.4881</td><td>0</td><td>0.25</td><td>0</td><td>0.5</td><td>1</td><td>1</td><td>0.6667</td><td>0.4</td><td>2.05882</td><td>⋯</td><td>0</td><td>1</td><td>150829601000</td><td>3185917000</td><td>-0.361</td><td>0</td><td>0</td><td>0</td><td>0</td><td>0</td></tr>\n",
       "\t<tr><th scope=row>13</th><td>0.40476</td><td>0</td><td>0</td><td>0</td><td>0</td><td>1</td><td>1</td><td>0.8333</td><td>0.6</td><td>2.08333</td><td>⋯</td><td>3.55</td><td>0</td><td>18718181631000</td><td>4729745407250</td><td>0.3073</td><td>9.4666785</td><td>7.6916785</td><td>3.55</td><td>8.875</td><td>7.3958215</td></tr>\n",
       "\t<tr><th scope=row>14</th><td>0.48611</td><td>0</td><td>1</td><td>0.25</td><td>0</td><td>1</td><td>1</td><td>0.6667</td><td>0.6</td><td>2.41176</td><td>⋯</td><td>7.76699</td><td>1</td><td>20854368794400</td><td>3534436869880</td><td>-0.7409</td><td>18.1229507767</td><td>15.53398</td><td>23.30097</td><td>23.30097</td><td>18.7321158024</td></tr>\n",
       "\t<tr><th scope=row>15</th><td>0.72143</td><td>0.8</td><td>1</td><td>0.25</td><td>0</td><td>1</td><td>1</td><td>1</td><td>0.6</td><td>2.41176</td><td>⋯</td><td>0</td><td>1</td><td>24402707214600</td><td>4977426808360</td><td>-2.03</td><td>0</td><td>0</td><td>0</td><td>0</td><td>0</td></tr>\n",
       "\t<tr><th scope=row>16</th><td>0.80476</td><td>0.8</td><td>1</td><td>1</td><td>0</td><td>1</td><td>1</td><td>0.83333</td><td>0.6</td><td>1.66667</td><td>⋯</td><td>0</td><td>1</td><td>2.21625e+13</td><td>4.243275e+12</td><td>-2.02</td><td>0</td><td>0</td><td>0</td><td>0</td><td>0</td></tr>\n",
       "\t<tr><th scope=row>17</th><td>0.77619</td><td>0.6</td><td>1</td><td>0</td><td>1</td><td>1</td><td>1</td><td>0.8333</td><td>0.6</td><td>2.10417</td><td>⋯</td><td>0</td><td>0</td><td>17404410972000</td><td>1124180892000</td><td>0.04726</td><td>0</td><td>0</td><td>0</td><td>0</td><td>0</td></tr>\n",
       "\t<tr><th scope=row>18</th><td>0.675</td><td>0.8</td><td>0.5</td><td>0.25</td><td>1</td><td>1</td><td>1</td><td>0.5</td><td>0.7</td><td>2.52941</td><td>⋯</td><td>0</td><td>1</td><td>19292300552300</td><td>1131750089620</td><td>-0.04</td><td>0</td><td>0</td><td>0</td><td>0</td><td>0</td></tr>\n",
       "\t<tr><th scope=row>19</th><td>0.7881</td><td>0.6</td><td>0.75</td><td>0.75</td><td>0.75</td><td>1</td><td>1</td><td>0.6667</td><td>0.6</td><td>2.4</td><td>⋯</td><td>0</td><td>1</td><td>24233011727500</td><td>1421649506220</td><td>0.04</td><td>0</td><td>0</td><td>0</td><td>0</td><td>0</td></tr>\n",
       "\t<tr><th scope=row>20</th><td>0.68095</td><td>0.6</td><td>0.75</td><td>0</td><td>0.75</td><td>1</td><td>1</td><td>0.6667</td><td>0.6</td><td>2.35294</td><td>⋯</td><td>0</td><td>1</td><td>23294135262500</td><td>78455012500</td><td>-0.125</td><td>0</td><td>0</td><td>0</td><td>0</td><td>0</td></tr>\n",
       "\t<tr><th scope=row>21</th><td>0.64286</td><td>0</td><td>1</td><td>1</td><td>0</td><td>1</td><td>1</td><td>0.5</td><td>0.5</td><td>2.45833</td><td>⋯</td><td>80</td><td>0</td><td>1.43862e+13</td><td>1.527995e+12</td><td>0.285</td><td>160</td><td>186.6664</td><td>240</td><td>200</td><td>196.6664</td></tr>\n",
       "\t<tr><th scope=row>22</th><td>0.64286</td><td>0</td><td>1</td><td>1</td><td>0</td><td>1</td><td>1</td><td>0.5</td><td>0.5</td><td>2</td><td>⋯</td><td>200</td><td>0</td><td>3.61116785817e+26</td><td>4.0232875061e+26</td><td>0.078</td><td>400</td><td>300</td><td>600</td><td>500</td><td>400</td></tr>\n",
       "\t<tr><th scope=row>23</th><td>0.58095</td><td>0.4</td><td>0.75</td><td>0</td><td>0.75</td><td>0.6667</td><td>1</td><td>0.5</td><td>0.5</td><td>1.94118</td><td>⋯</td><td>200</td><td>0</td><td>23281768048600</td><td>1863040540960</td><td>0.078</td><td>366.666</td><td>300</td><td>600</td><td>500</td><td>388.236</td></tr>\n",
       "\t<tr><th scope=row>24</th><td>0.52381</td><td>0</td><td>0.5</td><td>0.5</td><td>0</td><td>1</td><td>1</td><td>0.6667</td><td>0.7</td><td>2.05882</td><td>⋯</td><td>0</td><td>1</td><td>14520703925000</td><td>1000979487500</td><td>-0.74</td><td>0</td><td>0</td><td>0</td><td>0</td><td>0</td></tr>\n",
       "\t<tr><th scope=row>25</th><td>0.54048</td><td>0.2</td><td>0.25</td><td>0.25</td><td>0.25</td><td>1</td><td>1</td><td>0.8333</td><td>0.7</td><td>2.0625</td><td>⋯</td><td>0</td><td>1</td><td>3692053635810</td><td>337790360258</td><td>-0.08</td><td>0</td><td>0</td><td>0</td><td>0</td><td>0</td></tr>\n",
       "\t<tr><th scope=row>26</th><td>0.48889</td><td>0.6</td><td>0.5</td><td>0.5</td><td>0</td><td>0.667</td><td>1</td><td>0.6667</td><td>0.5</td><td>2.41176</td><td>⋯</td><td>0</td><td>1</td><td>4266755311650</td><td>229220299458</td><td>-0.14</td><td>0</td><td>0</td><td>0</td><td>0</td><td>0</td></tr>\n",
       "\t<tr><th scope=row>27</th><td>0.5619</td><td>0.6</td><td>0.5</td><td>0.5</td><td>0</td><td>0.6667</td><td>1</td><td>0.6667</td><td>0.5</td><td>2.17647</td><td>⋯</td><td>0</td><td>1</td><td>5359460953100</td><td>287923059766</td><td>0.14</td><td>0</td><td>0</td><td>0</td><td>0</td><td>0</td></tr>\n",
       "\t<tr><th scope=row>28</th><td>0.87619</td><td>0.8</td><td>1</td><td>1</td><td>0.5</td><td>1</td><td>1</td><td>0.8333</td><td>0.7</td><td>2.35294</td><td>⋯</td><td>0</td><td>0</td><td>4448237587500</td><td>169956800000</td><td>0</td><td>0</td><td>0</td><td>0</td><td>0</td><td>0</td></tr>\n",
       "\t<tr><th scope=row>29</th><td>0.45238</td><td>0</td><td>0.25</td><td>0.25</td><td>0</td><td>1</td><td>1</td><td>0.6667</td><td>0.6</td><td>2.85417</td><td>⋯</td><td>0</td><td>1</td><td>1.082e+13</td><td>1.932e+12</td><td>-0.16021</td><td>0</td><td>0</td><td>0</td><td>0</td><td>0</td></tr>\n",
       "\t<tr><th scope=row>30</th><td>0.45238</td><td>0</td><td>0.25</td><td>0.25</td><td>0</td><td>1</td><td>1</td><td>0.6667</td><td>0.6</td><td>2.76471</td><td>⋯</td><td>0</td><td>1</td><td>11262135848000</td><td>553398054600</td><td>0.16</td><td>0</td><td>0</td><td>0</td><td>0</td><td>0</td></tr>\n",
       "\t<tr><th scope=row>31</th><td>⋮</td><td>⋮</td><td>⋮</td><td>⋮</td><td>⋮</td><td>⋮</td><td>⋮</td><td>⋮</td><td>⋮</td><td>⋮</td><td>NA</td><td>⋮</td><td>⋮</td><td>⋮</td><td>⋮</td><td>⋮</td><td>⋮</td><td>⋮</td><td>⋮</td><td>⋮</td><td>⋮</td></tr>\n",
       "\t<tr><th scope=row>115</th><td>0.70952</td><td>0.8</td><td>0.5</td><td>0</td><td>1</td><td>1</td><td>1</td><td>0.6667</td><td>0.5</td><td>2.52941</td><td>⋯</td><td>56.29</td><td>0</td><td>7.883294e+12</td><td>6.13698e+11</td><td>0.13</td><td>140.725</td><td>140.725</td><td>168.87</td><td>140.725</td><td>142.3804889</td></tr>\n",
       "\t<tr><th scope=row>116</th><td>0.70952</td><td>0.8</td><td>0.5</td><td>0</td><td>1</td><td>1</td><td>1</td><td>0.6667</td><td>0.6</td><td>2.52941</td><td>⋯</td><td>0</td><td>0</td><td>9.752477e+12</td><td>3.64496e+11</td><td>0.13</td><td>0</td><td>0</td><td>0</td><td>0</td><td>0</td></tr>\n",
       "\t<tr><th scope=row>117</th><td>0.28571</td><td>0</td><td>0.5</td><td>0</td><td>0</td><td>0.3333</td><td>1</td><td>0.1667</td><td>0.1</td><td>1.79167</td><td>⋯</td><td>0</td><td>0</td><td>218251524639</td><td>10421127472</td><td>0.01</td><td>0</td><td>0</td><td>0</td><td>0</td><td>0</td></tr>\n",
       "\t<tr><th scope=row>118</th><td>0.36111</td><td>0</td><td>0.25</td><td>0.25</td><td>0.5</td><td>1</td><td>1</td><td>0.1667</td><td>0.4</td><td>1.875</td><td>⋯</td><td>0</td><td>0</td><td>1.76001e+11</td><td>14199545260</td><td>0.035</td><td>0</td><td>0</td><td>0</td><td>0</td><td>0</td></tr>\n",
       "\t<tr><th scope=row>119</th><td>0.5</td><td>0</td><td>0.75</td><td>0</td><td>0.75</td><td>0.6667</td><td>1</td><td>0.3333</td><td>0.2</td><td>1.88235</td><td>⋯</td><td>0</td><td>0</td><td>3.2696e+11</td><td>13048575536</td><td>0.0061</td><td>0</td><td>0</td><td>0</td><td>0</td><td>0</td></tr>\n",
       "\t<tr><th scope=row>120</th><td>0.46429</td><td>0</td><td>0.5</td><td>0</td><td>0.75</td><td>0.6667</td><td>1</td><td>0.3333</td><td>0.2</td><td>1.88235</td><td>⋯</td><td>0</td><td>0</td><td>3.66053e+11</td><td>10313943601</td><td>0.0115</td><td>0</td><td>0</td><td>0</td><td>0</td><td>0</td></tr>\n",
       "\t<tr><th scope=row>121</th><td>0.42857</td><td>0</td><td>0</td><td>0.5</td><td>0.5</td><td>1</td><td>1</td><td>0</td><td>0.3</td><td>2.0625</td><td>⋯</td><td>0</td><td>0</td><td>148540732335</td><td>33277276437</td><td>0.4375</td><td>0</td><td>0</td><td>0</td><td>0</td><td>0</td></tr>\n",
       "\t<tr><th scope=row>122</th><td>0.19444</td><td>0</td><td>0</td><td>0</td><td>0</td><td>1</td><td>1</td><td>0.1667</td><td>0.3</td><td>2.3125</td><td>⋯</td><td>0</td><td>0</td><td>1.48541e+11</td><td>33277276437</td><td>0.233</td><td>0</td><td>0</td><td>0</td><td>0</td><td>0</td></tr>\n",
       "\t<tr><th scope=row>123</th><td>0.21429</td><td>0</td><td>0</td><td>0</td><td>0</td><td>0.3333</td><td>1</td><td>0.1667</td><td>0.1</td><td>2.52941</td><td>⋯</td><td>2</td><td>0</td><td>1.56993e+11</td><td>50006905442</td><td>0.1972</td><td>5</td><td>5</td><td>6</td><td>5</td><td>5.05882</td></tr>\n",
       "\t<tr><th scope=row>124</th><td>0.40476</td><td>0</td><td>0.5</td><td>0</td><td>0</td><td>1</td><td>1</td><td>0.3333</td><td>0.3</td><td>2.52941</td><td>⋯</td><td>0</td><td>0</td><td>3.62679e+11</td><td>47588267793</td><td>0.0278</td><td>0</td><td>0</td><td>0</td><td>0</td><td>0</td></tr>\n",
       "\t<tr><th scope=row>125</th><td>0.21429</td><td>0</td><td>0</td><td>0</td><td>0</td><td>0.3333</td><td>1</td><td>0.1667</td><td>0.1</td><td>1.875</td><td>⋯</td><td>0</td><td>0</td><td>1710689375000</td><td>29855938000</td><td>0.11</td><td>0</td><td>0</td><td>0</td><td>0</td><td>0</td></tr>\n",
       "\t<tr><th scope=row>126</th><td>0.08333</td><td>0</td><td>0</td><td>0</td><td>0</td><td>0.3333</td><td>1</td><td>0.1667</td><td>0</td><td>1.94118</td><td>⋯</td><td>0</td><td>0</td><td>1503500075000</td><td>27228598000</td><td>0.09</td><td>0</td><td>0</td><td>0</td><td>0</td><td>0</td></tr>\n",
       "\t<tr><th scope=row>127</th><td>0.21429</td><td>0</td><td>0</td><td>0</td><td>0</td><td>0.3333</td><td>1</td><td>0.1667</td><td>0.1</td><td>1.86667</td><td>⋯</td><td>0</td><td>0</td><td>5516122336000</td><td>1529415959</td><td>0.026</td><td>0</td><td>0</td><td>0</td><td>0</td><td>0</td></tr>\n",
       "\t<tr><th scope=row>128</th><td>0.21429</td><td>0</td><td>0</td><td>0</td><td>0</td><td>0.3333</td><td>1</td><td>0.167</td><td>0.1</td><td>1.86667</td><td>⋯</td><td>0</td><td>1</td><td>5512452937000</td><td>225319391000</td><td>-0.031</td><td>0</td><td>0</td><td>0</td><td>0</td><td>0</td></tr>\n",
       "\t<tr><th scope=row>129</th><td>0.65476</td><td>0</td><td>0.75</td><td>0.75</td><td>0.75</td><td>0.6667</td><td>1</td><td>0.6667</td><td>0.5</td><td>2.25</td><td>⋯</td><td>190.90909</td><td>0</td><td>2238390623070</td><td>551267676306</td><td>0.34</td><td>286.363635</td><td>381.81818</td><td>572.72727</td><td>477.272725</td><td>429.5454525</td></tr>\n",
       "\t<tr><th scope=row>130</th><td>0.43056</td><td>0</td><td>0.5</td><td>0.5</td><td>0.25</td><td>0.6667</td><td>1</td><td>0.6667</td><td>0.2</td><td>2.11765</td><td>⋯</td><td>436.8932</td><td>0</td><td>2606194157560</td><td>276620415650</td><td>0.24</td><td>728.156789644</td><td>946.603389644</td><td>1310.6796</td><td>1092.233</td><td>925.18688498</td></tr>\n",
       "\t<tr><th scope=row>131</th><td>0.69762</td><td>0.8</td><td>0.25</td><td>0</td><td>1</td><td>1</td><td>1</td><td>0.8333</td><td>0.6</td><td>2.11765</td><td>⋯</td><td>457.31707</td><td>0</td><td>3343304864010</td><td>508152973476</td><td>0.25</td><td>685.975605</td><td>1067.07163894</td><td>1371.95121</td><td>1143.292675</td><td>968.437493285</td></tr>\n",
       "\t<tr><th scope=row>132</th><td>0.69762</td><td>0.8</td><td>0.25</td><td>0</td><td>1</td><td>1</td><td>1</td><td>0.8333</td><td>0.6</td><td>2.11765</td><td>⋯</td><td>468.5</td><td>0</td><td>3248687500000</td><td>496212500000</td><td>0.17</td><td>702.75</td><td>1093.165105</td><td>1405.5</td><td>1171.25</td><td>992.119025</td></tr>\n",
       "\t<tr><th scope=row>133</th><td>0.74048</td><td>0.6</td><td>0.75</td><td>0.75</td><td>0.75</td><td>1</td><td>1</td><td>0.3333</td><td>0.3</td><td>2.375</td><td>⋯</td><td>74</td><td>0</td><td>1.8253817e+13</td><td>3.433645e+12</td><td>0.14</td><td>123.33358</td><td>172.66642</td><td>222</td><td>185</td><td>175.75</td></tr>\n",
       "\t<tr><th scope=row>134</th><td>0.62222</td><td>0.4</td><td>0.5</td><td>0.5</td><td>0.5</td><td>1</td><td>1</td><td>0.8333</td><td>0.7</td><td>2.23529</td><td>⋯</td><td>60</td><td>0</td><td>22788971267100</td><td>3401705472690</td><td>0.03</td><td>109.9998</td><td>139.9998</td><td>180</td><td>150</td><td>134.1174</td></tr>\n",
       "\t<tr><th scope=row>135</th><td>0.67619</td><td>0.4</td><td>0.5</td><td>0.5</td><td>0.5</td><td>1</td><td>1</td><td>0.8333</td><td>0.7</td><td>2.29412</td><td>⋯</td><td>44.47561</td><td>1</td><td>28247845198400</td><td>3982529775960</td><td>-7e-04</td><td>81.5384700813</td><td>111.189025</td><td>133.42683</td><td>111.189025</td><td>102.032386413</td></tr>\n",
       "\t<tr><th scope=row>136</th><td>0.67619</td><td>0.4</td><td>0.5</td><td>0.5</td><td>0.5</td><td>1</td><td>1</td><td>0.83333</td><td>0.7</td><td>2.29412</td><td>⋯</td><td>0</td><td>1</td><td>28629403650000</td><td>4158715150000</td><td>-0.0315</td><td>0</td><td>0</td><td>0</td><td>0</td><td>0</td></tr>\n",
       "\t<tr><th scope=row>137</th><td>0.78095</td><td>0.8</td><td>1</td><td>1</td><td>1</td><td>0</td><td>1</td><td>0.6667</td><td>0.6</td><td>2.375</td><td>⋯</td><td>10</td><td>1</td><td>921277510000</td><td>85076059000</td><td>-0.0434</td><td>18.3333</td><td>21.6667</td><td>30</td><td>25</td><td>23.75</td></tr>\n",
       "\t<tr><th scope=row>138</th><td>0.74444</td><td>0.8</td><td>1</td><td>1</td><td>1</td><td>0</td><td>1</td><td>0.6667</td><td>0.5</td><td>2.29412</td><td>⋯</td><td>0</td><td>1</td><td>1073941740480</td><td>77320387839.2</td><td>-0.1516</td><td>0</td><td>0</td><td>0</td><td>0</td><td>0</td></tr>\n",
       "\t<tr><th scope=row>139</th><td>0.9</td><td>0.8</td><td>1</td><td>1</td><td>1</td><td>1</td><td>1</td><td>0.5</td><td>0.5</td><td>2.29412</td><td>⋯</td><td>0</td><td>0</td><td>1517317066800</td><td>103378048346</td><td>0.0065</td><td>0</td><td>0</td><td>0</td><td>0</td><td>0</td></tr>\n",
       "\t<tr><th scope=row>140</th><td>0.9</td><td>0.8</td><td>1</td><td>1</td><td>1</td><td>1</td><td>1</td><td>0.5</td><td>0.5</td><td>2.29412</td><td>⋯</td><td>0</td><td>1</td><td>155237500000</td><td>6.4325e+10</td><td>-0.2002</td><td>0</td><td>0</td><td>0</td><td>0</td><td>0</td></tr>\n",
       "\t<tr><th scope=row>141</th><td>0</td><td>0</td><td>0</td><td>0</td><td>0</td><td>0</td><td>0</td><td>0</td><td>0</td><td>2.14583</td><td>⋯</td><td>0</td><td>0</td><td>5.44282e+11</td><td>23752819524</td><td>0.2485</td><td>0</td><td>0</td><td>0</td><td>0</td><td>0</td></tr>\n",
       "\t<tr><th scope=row>142</th><td>0</td><td>0</td><td>0</td><td>0</td><td>0</td><td>0</td><td>0</td><td>0</td><td>0</td><td>1.88235</td><td>⋯</td><td>0</td><td>0</td><td>3.89007e+11</td><td>55782539000</td><td>0.1998</td><td>0</td><td>0</td><td>0</td><td>0</td><td>0</td></tr>\n",
       "\t<tr><th scope=row>143</th><td>0.09524</td><td>0</td><td>0</td><td>0</td><td>0</td><td>0.6667</td><td>0</td><td>0</td><td>0</td><td>1.875</td><td>⋯</td><td>50</td><td>0</td><td>765881409376</td><td>72298136315</td><td>0.0397</td><td>90</td><td>91.6665</td><td>50</td><td>112.5</td><td>93.75</td></tr>\n",
       "\t<tr><th scope=row>144</th><td>0.09524</td><td>0</td><td>0</td><td>0</td><td>0</td><td>0.6667</td><td>0</td><td>0</td><td>0</td><td>1.875</td><td>⋯</td><td>8</td><td>0</td><td>897281657710</td><td>42022184000</td><td>0.1792</td><td>14.4</td><td>14.66664</td><td>8</td><td>18</td><td>15</td></tr>\n",
       "</tbody>\n",
       "</table>\n"
      ],
      "text/latex": [
       "\\begin{tabular}{r|llllllllllllllllllllllll}\n",
       "  & CEI & BRIB_CORR & BUSS_ETH & FAIR_COMP & POL_CONTR & INDIG_PPL & IND_EC_IMP & X0TH_ENG & ALT_CEI & BRD_EFFC & ellip.h & DIVIDEND & LOSS & TOT_ASSETS & SLACK & ROE & BRD_INDP_DIV & BRD_MEET_DIV & BRD_SIZE_DIV & BRD_COMPT_DIV & BRD_EFFC_DIV\\\\\n",
       "\\hline\n",
       "\t1 & 0.57143 & 0 & 0.5 & 0.5 & 0.25 & 0.25 & 1 & 1 & 0.7 & 2.5 & ⋯ & 30.35 & 0 & 51445454031000 & 5081927221910 & 0.22 & 60.7 & 75.875 & 91.05 & 75.875 & 75.875\\\\\n",
       "\t2 & 0.54762 & 0 & 0.25 & 0.25 & 0.5 & 1 & 1 & 0.8333 & 0.5 & 2.35294 & ⋯ & 55.82524 & 0 & 64973358794500 & 4857941715510 & 0.141 & 93.0422527508 & 158.171327249 & 167.47572 & 139.5631 & 131.353440206\\\\\n",
       "\t3 & 0.52381 & 0 & 0.5 & 0.25 & 0.25 & 1 & 1 & 0.6667 & 0.5 & 2.23529 & ⋯ & 15.36585 & 0 & 82121950874600 & 8308451184620 & 0.074 & 28.1706737805 & 35.8535987805 & 46.09755 & 38.414625 & 34.3471308465\\\\\n",
       "\t4 & 0.52381 & 0 & 0.5 & 0.25 & 0.25 & 1 & 1 & 0.6667 & 0.5 & 2.17647 & ⋯ & 29.375 & 0 & 8.0175e+13 & 9.3156e+12 & 0.056 & 44.0625 & 73.4375 & 88.125 & 73.4375 & 63.93380625\\\\\n",
       "\t5 & 0.4881 & 0 & 0.5 & 0.75 & 0 & 1 & 1 & 0.1667 & 0.3 & 2.26458 & ⋯ & 0 & 0 & 2.301384e+12 & 3.59163e+11 & 0.0569 & 0 & 0 & 0 & 0 & 0\\\\\n",
       "\t6 & 0.7381 & 0 & 1 & 1 & 1 & 0.667 & 1 & 0.5 & 0.5 & 2.17647 & ⋯ & 0 & 1 & 2903932019670 & 152631066954 & -0.0773 & 0 & 0 & 0 & 0 & 0\\\\\n",
       "\t7 & 0.45238 & 0 & 1 & 0 & 0 & 0.6667 & 1 & 0.5 & 0.6 & 2.41176 & ⋯ & 0 & 1 & 3855817056980 & 22475609661.7 & -0.0799 & 0 & 0 & 0 & 0 & 0\\\\\n",
       "\t8 & 0.78571 & 0 & 1 & 1 & 1 & 1 & 1 & 0.5 & 0.4 & 2.29412 & ⋯ & 0 & 1 & 4239362500000 & 5.275e+10 & -0.2293 & 0 & 0 & 0 & 0 & 0\\\\\n",
       "\t9 & 0 & 0 & 0 & 0 & 0 & 0 & 0 & 0 & 0 & 1.77083 & ⋯ & 0 & 1 & 111660087000 & 3469378000 & -0.6431 & 0 & 0 & 0 & 0 & 0\\\\\n",
       "\t10 & 0.19444 & 0 & 0 & 0 & 0 & 1 & 0.5 & 0.1667 & 0.3 & 2.05882 & ⋯ & 0 & 1 & 150829601 & 2807016 & -0.382 & 0 & 0 & 0 & 0 & 0\\\\\n",
       "\t11 & 0.19048 & 0 & 0 & 0 & 0 & 0.6667 & 0.5 & 0.1667 & 0.2 & 2.11765 & ⋯ & 0 & 0 & 1489339945000 & 30159881 & 0.012 & 0 & 0 & 0 & 0 & 0\\\\\n",
       "\t12 & 0.4881 & 0 & 0.25 & 0 & 0.5 & 1 & 1 & 0.6667 & 0.4 & 2.05882 & ⋯ & 0 & 1 & 150829601000 & 3185917000 & -0.361 & 0 & 0 & 0 & 0 & 0\\\\\n",
       "\t13 & 0.40476 & 0 & 0 & 0 & 0 & 1 & 1 & 0.8333 & 0.6 & 2.08333 & ⋯ & 3.55 & 0 & 18718181631000 & 4729745407250 & 0.3073 & 9.4666785 & 7.6916785 & 3.55 & 8.875 & 7.3958215\\\\\n",
       "\t14 & 0.48611 & 0 & 1 & 0.25 & 0 & 1 & 1 & 0.6667 & 0.6 & 2.41176 & ⋯ & 7.76699 & 1 & 20854368794400 & 3534436869880 & -0.7409 & 18.1229507767 & 15.53398 & 23.30097 & 23.30097 & 18.7321158024\\\\\n",
       "\t15 & 0.72143 & 0.8 & 1 & 0.25 & 0 & 1 & 1 & 1 & 0.6 & 2.41176 & ⋯ & 0 & 1 & 24402707214600 & 4977426808360 & -2.03 & 0 & 0 & 0 & 0 & 0\\\\\n",
       "\t16 & 0.80476 & 0.8 & 1 & 1 & 0 & 1 & 1 & 0.83333 & 0.6 & 1.66667 & ⋯ & 0 & 1 & 2.21625e+13 & 4.243275e+12 & -2.02 & 0 & 0 & 0 & 0 & 0\\\\\n",
       "\t17 & 0.77619 & 0.6 & 1 & 0 & 1 & 1 & 1 & 0.8333 & 0.6 & 2.10417 & ⋯ & 0 & 0 & 17404410972000 & 1124180892000 & 0.04726 & 0 & 0 & 0 & 0 & 0\\\\\n",
       "\t18 & 0.675 & 0.8 & 0.5 & 0.25 & 1 & 1 & 1 & 0.5 & 0.7 & 2.52941 & ⋯ & 0 & 1 & 19292300552300 & 1131750089620 & -0.04 & 0 & 0 & 0 & 0 & 0\\\\\n",
       "\t19 & 0.7881 & 0.6 & 0.75 & 0.75 & 0.75 & 1 & 1 & 0.6667 & 0.6 & 2.4 & ⋯ & 0 & 1 & 24233011727500 & 1421649506220 & 0.04 & 0 & 0 & 0 & 0 & 0\\\\\n",
       "\t20 & 0.68095 & 0.6 & 0.75 & 0 & 0.75 & 1 & 1 & 0.6667 & 0.6 & 2.35294 & ⋯ & 0 & 1 & 23294135262500 & 78455012500 & -0.125 & 0 & 0 & 0 & 0 & 0\\\\\n",
       "\t21 & 0.64286 & 0 & 1 & 1 & 0 & 1 & 1 & 0.5 & 0.5 & 2.45833 & ⋯ & 80 & 0 & 1.43862e+13 & 1.527995e+12 & 0.285 & 160 & 186.6664 & 240 & 200 & 196.6664\\\\\n",
       "\t22 & 0.64286 & 0 & 1 & 1 & 0 & 1 & 1 & 0.5 & 0.5 & 2 & ⋯ & 200 & 0 & 3.61116785817e+26 & 4.0232875061e+26 & 0.078 & 400 & 300 & 600 & 500 & 400\\\\\n",
       "\t23 & 0.58095 & 0.4 & 0.75 & 0 & 0.75 & 0.6667 & 1 & 0.5 & 0.5 & 1.94118 & ⋯ & 200 & 0 & 23281768048600 & 1863040540960 & 0.078 & 366.666 & 300 & 600 & 500 & 388.236\\\\\n",
       "\t24 & 0.52381 & 0 & 0.5 & 0.5 & 0 & 1 & 1 & 0.6667 & 0.7 & 2.05882 & ⋯ & 0 & 1 & 14520703925000 & 1000979487500 & -0.74 & 0 & 0 & 0 & 0 & 0\\\\\n",
       "\t25 & 0.54048 & 0.2 & 0.25 & 0.25 & 0.25 & 1 & 1 & 0.8333 & 0.7 & 2.0625 & ⋯ & 0 & 1 & 3692053635810 & 337790360258 & -0.08 & 0 & 0 & 0 & 0 & 0\\\\\n",
       "\t26 & 0.48889 & 0.6 & 0.5 & 0.5 & 0 & 0.667 & 1 & 0.6667 & 0.5 & 2.41176 & ⋯ & 0 & 1 & 4266755311650 & 229220299458 & -0.14 & 0 & 0 & 0 & 0 & 0\\\\\n",
       "\t27 & 0.5619 & 0.6 & 0.5 & 0.5 & 0 & 0.6667 & 1 & 0.6667 & 0.5 & 2.17647 & ⋯ & 0 & 1 & 5359460953100 & 287923059766 & 0.14 & 0 & 0 & 0 & 0 & 0\\\\\n",
       "\t28 & 0.87619 & 0.8 & 1 & 1 & 0.5 & 1 & 1 & 0.8333 & 0.7 & 2.35294 & ⋯ & 0 & 0 & 4448237587500 & 169956800000 & 0 & 0 & 0 & 0 & 0 & 0\\\\\n",
       "\t29 & 0.45238 & 0 & 0.25 & 0.25 & 0 & 1 & 1 & 0.6667 & 0.6 & 2.85417 & ⋯ & 0 & 1 & 1.082e+13 & 1.932e+12 & -0.16021 & 0 & 0 & 0 & 0 & 0\\\\\n",
       "\t30 & 0.45238 & 0 & 0.25 & 0.25 & 0 & 1 & 1 & 0.6667 & 0.6 & 2.76471 & ⋯ & 0 & 1 & 11262135848000 & 553398054600 & 0.16 & 0 & 0 & 0 & 0 & 0\\\\\n",
       "\t31 & ⋮ & ⋮ & ⋮ & ⋮ & ⋮ & ⋮ & ⋮ & ⋮ & ⋮ & ⋮ & NA & ⋮ & ⋮ & ⋮ & ⋮ & ⋮ & ⋮ & ⋮ & ⋮ & ⋮ & ⋮\\\\\n",
       "\t115 & 0.70952 & 0.8 & 0.5 & 0 & 1 & 1 & 1 & 0.6667 & 0.5 & 2.52941 & ⋯ & 56.29 & 0 & 7.883294e+12 & 6.13698e+11 & 0.13 & 140.725 & 140.725 & 168.87 & 140.725 & 142.3804889\\\\\n",
       "\t116 & 0.70952 & 0.8 & 0.5 & 0 & 1 & 1 & 1 & 0.6667 & 0.6 & 2.52941 & ⋯ & 0 & 0 & 9.752477e+12 & 3.64496e+11 & 0.13 & 0 & 0 & 0 & 0 & 0\\\\\n",
       "\t117 & 0.28571 & 0 & 0.5 & 0 & 0 & 0.3333 & 1 & 0.1667 & 0.1 & 1.79167 & ⋯ & 0 & 0 & 218251524639 & 10421127472 & 0.01 & 0 & 0 & 0 & 0 & 0\\\\\n",
       "\t118 & 0.36111 & 0 & 0.25 & 0.25 & 0.5 & 1 & 1 & 0.1667 & 0.4 & 1.875 & ⋯ & 0 & 0 & 1.76001e+11 & 14199545260 & 0.035 & 0 & 0 & 0 & 0 & 0\\\\\n",
       "\t119 & 0.5 & 0 & 0.75 & 0 & 0.75 & 0.6667 & 1 & 0.3333 & 0.2 & 1.88235 & ⋯ & 0 & 0 & 3.2696e+11 & 13048575536 & 0.0061 & 0 & 0 & 0 & 0 & 0\\\\\n",
       "\t120 & 0.46429 & 0 & 0.5 & 0 & 0.75 & 0.6667 & 1 & 0.3333 & 0.2 & 1.88235 & ⋯ & 0 & 0 & 3.66053e+11 & 10313943601 & 0.0115 & 0 & 0 & 0 & 0 & 0\\\\\n",
       "\t121 & 0.42857 & 0 & 0 & 0.5 & 0.5 & 1 & 1 & 0 & 0.3 & 2.0625 & ⋯ & 0 & 0 & 148540732335 & 33277276437 & 0.4375 & 0 & 0 & 0 & 0 & 0\\\\\n",
       "\t122 & 0.19444 & 0 & 0 & 0 & 0 & 1 & 1 & 0.1667 & 0.3 & 2.3125 & ⋯ & 0 & 0 & 1.48541e+11 & 33277276437 & 0.233 & 0 & 0 & 0 & 0 & 0\\\\\n",
       "\t123 & 0.21429 & 0 & 0 & 0 & 0 & 0.3333 & 1 & 0.1667 & 0.1 & 2.52941 & ⋯ & 2 & 0 & 1.56993e+11 & 50006905442 & 0.1972 & 5 & 5 & 6 & 5 & 5.05882\\\\\n",
       "\t124 & 0.40476 & 0 & 0.5 & 0 & 0 & 1 & 1 & 0.3333 & 0.3 & 2.52941 & ⋯ & 0 & 0 & 3.62679e+11 & 47588267793 & 0.0278 & 0 & 0 & 0 & 0 & 0\\\\\n",
       "\t125 & 0.21429 & 0 & 0 & 0 & 0 & 0.3333 & 1 & 0.1667 & 0.1 & 1.875 & ⋯ & 0 & 0 & 1710689375000 & 29855938000 & 0.11 & 0 & 0 & 0 & 0 & 0\\\\\n",
       "\t126 & 0.08333 & 0 & 0 & 0 & 0 & 0.3333 & 1 & 0.1667 & 0 & 1.94118 & ⋯ & 0 & 0 & 1503500075000 & 27228598000 & 0.09 & 0 & 0 & 0 & 0 & 0\\\\\n",
       "\t127 & 0.21429 & 0 & 0 & 0 & 0 & 0.3333 & 1 & 0.1667 & 0.1 & 1.86667 & ⋯ & 0 & 0 & 5516122336000 & 1529415959 & 0.026 & 0 & 0 & 0 & 0 & 0\\\\\n",
       "\t128 & 0.21429 & 0 & 0 & 0 & 0 & 0.3333 & 1 & 0.167 & 0.1 & 1.86667 & ⋯ & 0 & 1 & 5512452937000 & 225319391000 & -0.031 & 0 & 0 & 0 & 0 & 0\\\\\n",
       "\t129 & 0.65476 & 0 & 0.75 & 0.75 & 0.75 & 0.6667 & 1 & 0.6667 & 0.5 & 2.25 & ⋯ & 190.90909 & 0 & 2238390623070 & 551267676306 & 0.34 & 286.363635 & 381.81818 & 572.72727 & 477.272725 & 429.5454525\\\\\n",
       "\t130 & 0.43056 & 0 & 0.5 & 0.5 & 0.25 & 0.6667 & 1 & 0.6667 & 0.2 & 2.11765 & ⋯ & 436.8932 & 0 & 2606194157560 & 276620415650 & 0.24 & 728.156789644 & 946.603389644 & 1310.6796 & 1092.233 & 925.18688498\\\\\n",
       "\t131 & 0.69762 & 0.8 & 0.25 & 0 & 1 & 1 & 1 & 0.8333 & 0.6 & 2.11765 & ⋯ & 457.31707 & 0 & 3343304864010 & 508152973476 & 0.25 & 685.975605 & 1067.07163894 & 1371.95121 & 1143.292675 & 968.437493285\\\\\n",
       "\t132 & 0.69762 & 0.8 & 0.25 & 0 & 1 & 1 & 1 & 0.8333 & 0.6 & 2.11765 & ⋯ & 468.5 & 0 & 3248687500000 & 496212500000 & 0.17 & 702.75 & 1093.165105 & 1405.5 & 1171.25 & 992.119025\\\\\n",
       "\t133 & 0.74048 & 0.6 & 0.75 & 0.75 & 0.75 & 1 & 1 & 0.3333 & 0.3 & 2.375 & ⋯ & 74 & 0 & 1.8253817e+13 & 3.433645e+12 & 0.14 & 123.33358 & 172.66642 & 222 & 185 & 175.75\\\\\n",
       "\t134 & 0.62222 & 0.4 & 0.5 & 0.5 & 0.5 & 1 & 1 & 0.8333 & 0.7 & 2.23529 & ⋯ & 60 & 0 & 22788971267100 & 3401705472690 & 0.03 & 109.9998 & 139.9998 & 180 & 150 & 134.1174\\\\\n",
       "\t135 & 0.67619 & 0.4 & 0.5 & 0.5 & 0.5 & 1 & 1 & 0.8333 & 0.7 & 2.29412 & ⋯ & 44.47561 & 1 & 28247845198400 & 3982529775960 & -7e-04 & 81.5384700813 & 111.189025 & 133.42683 & 111.189025 & 102.032386413\\\\\n",
       "\t136 & 0.67619 & 0.4 & 0.5 & 0.5 & 0.5 & 1 & 1 & 0.83333 & 0.7 & 2.29412 & ⋯ & 0 & 1 & 28629403650000 & 4158715150000 & -0.0315 & 0 & 0 & 0 & 0 & 0\\\\\n",
       "\t137 & 0.78095 & 0.8 & 1 & 1 & 1 & 0 & 1 & 0.6667 & 0.6 & 2.375 & ⋯ & 10 & 1 & 921277510000 & 85076059000 & -0.0434 & 18.3333 & 21.6667 & 30 & 25 & 23.75\\\\\n",
       "\t138 & 0.74444 & 0.8 & 1 & 1 & 1 & 0 & 1 & 0.6667 & 0.5 & 2.29412 & ⋯ & 0 & 1 & 1073941740480 & 77320387839.2 & -0.1516 & 0 & 0 & 0 & 0 & 0\\\\\n",
       "\t139 & 0.9 & 0.8 & 1 & 1 & 1 & 1 & 1 & 0.5 & 0.5 & 2.29412 & ⋯ & 0 & 0 & 1517317066800 & 103378048346 & 0.0065 & 0 & 0 & 0 & 0 & 0\\\\\n",
       "\t140 & 0.9 & 0.8 & 1 & 1 & 1 & 1 & 1 & 0.5 & 0.5 & 2.29412 & ⋯ & 0 & 1 & 155237500000 & 6.4325e+10 & -0.2002 & 0 & 0 & 0 & 0 & 0\\\\\n",
       "\t141 & 0 & 0 & 0 & 0 & 0 & 0 & 0 & 0 & 0 & 2.14583 & ⋯ & 0 & 0 & 5.44282e+11 & 23752819524 & 0.2485 & 0 & 0 & 0 & 0 & 0\\\\\n",
       "\t142 & 0 & 0 & 0 & 0 & 0 & 0 & 0 & 0 & 0 & 1.88235 & ⋯ & 0 & 0 & 3.89007e+11 & 55782539000 & 0.1998 & 0 & 0 & 0 & 0 & 0\\\\\n",
       "\t143 & 0.09524 & 0 & 0 & 0 & 0 & 0.6667 & 0 & 0 & 0 & 1.875 & ⋯ & 50 & 0 & 765881409376 & 72298136315 & 0.0397 & 90 & 91.6665 & 50 & 112.5 & 93.75\\\\\n",
       "\t144 & 0.09524 & 0 & 0 & 0 & 0 & 0.6667 & 0 & 0 & 0 & 1.875 & ⋯ & 8 & 0 & 897281657710 & 42022184000 & 0.1792 & 14.4 & 14.66664 & 8 & 18 & 15\\\\\n",
       "\\end{tabular}\n"
      ],
      "text/plain": [
       "        CEI BRIB_CORR BUSS_ETH FAIR_COMP POL_CONTR INDIG_PPL IND_EC_IMP\n",
       "1   0.57143       0.0     0.50      0.50      0.25   0.25000        1.0\n",
       "2   0.54762       0.0     0.25      0.25      0.50   1.00000        1.0\n",
       "3   0.52381       0.0     0.50      0.25      0.25   1.00000        1.0\n",
       "4   0.52381       0.0     0.50      0.25      0.25   1.00000        1.0\n",
       "5   0.48810       0.0     0.50      0.75      0.00   1.00000        1.0\n",
       "6   0.73810       0.0     1.00      1.00      1.00   0.66700        1.0\n",
       "7   0.45238       0.0     1.00      0.00      0.00   0.66670        1.0\n",
       "8   0.78571       0.0     1.00      1.00      1.00   1.00000        1.0\n",
       "9   0.00000       0.0     0.00      0.00      0.00   0.00000        0.0\n",
       "10  0.19444       0.0     0.00      0.00      0.00   1.00000        0.5\n",
       "11  0.19048       0.0     0.00      0.00      0.00   0.66670        0.5\n",
       "12  0.48810       0.0     0.25      0.00      0.50   1.00000        1.0\n",
       "13  0.40476       0.0     0.00      0.00      0.00   1.00000        1.0\n",
       "14  0.48611       0.0     1.00      0.25      0.00   1.00000        1.0\n",
       "15  0.72143       0.8     1.00      0.25      0.00   1.00000        1.0\n",
       "16  0.80476       0.8     1.00      1.00      0.00   1.00000        1.0\n",
       "17  0.77619       0.6     1.00      0.00      1.00   1.00000        1.0\n",
       "18  0.67500       0.8     0.50      0.25      1.00   1.00000        1.0\n",
       "19  0.78810       0.6     0.75      0.75      0.75   1.00000        1.0\n",
       "20  0.68095       0.6     0.75      0.00      0.75   1.00000        1.0\n",
       "21  0.64286       0.0     1.00      1.00      0.00   1.00000        1.0\n",
       "22  0.64286       0.0     1.00      1.00      0.00   1.00000        1.0\n",
       "23  0.58095       0.4     0.75      0.00      0.75   0.66670        1.0\n",
       "24  0.52381       0.0     0.50      0.50      0.00   1.00000        1.0\n",
       "25  0.54048       0.2     0.25      0.25      0.25   1.00000        1.0\n",
       "26  0.48889       0.6     0.50      0.50      0.00   0.66700        1.0\n",
       "27  0.56190       0.6     0.50      0.50      0.00   0.66670        1.0\n",
       "28  0.87619       0.8     1.00      1.00      0.50   1.00000        1.0\n",
       "29  0.45238       0.0     0.25      0.25      0.00   1.00000        1.0\n",
       "30  0.45238       0.0     0.25      0.25      0.00   1.00000        1.0\n",
       "31  0.65238       0.4     0.50      0.50      0.50   1.00000        1.0\n",
       "32  0.60714       0.0     1.00      0.00      0.75   0.66670        1.0\n",
       "33  0.35714       0.0     0.00      0.00      0.00   1.00000        1.0\n",
       "34  0.36111       0.0     0.50      0.00      0.00   1.00000        1.0\n",
       "35  0.47619       0.0     0.50      0.00      0.00   1.00000        1.0\n",
       "36  0.75476       0.2     1.00      0.50      0.75   1.00000        1.0\n",
       "37  0.56905       0.4     0.75      0.75      0.75   0.66670        0.5\n",
       "38  0.27778       0.0     0.00      0.50      0.50   0.66700        1.0\n",
       "39  0.38095       0.0     0.00      0.50      0.50   0.66670        1.0\n",
       "40  0.61905       0.0     0.75      0.50      0.75   1.00000        1.0\n",
       "41  0.35714       0.0     0.00      0.00      0.00   1.00000        0.5\n",
       "42  0.33333       0.0     0.00      0.00      0.50   1.00000        1.0\n",
       "43  0.33333       0.0     0.00      0.00      0.00   1.00000        1.0\n",
       "44  0.38095       0.0     0.00      0.00      0.00   1.00000        1.0\n",
       "45  0.94762       0.8     1.00      1.00      1.00   1.00000        1.0\n",
       "46  0.78611       0.8     0.75      0.75      0.75   1.00000        1.0\n",
       "47  0.84048       0.8     0.75      0.75      0.75   1.00000        1.0\n",
       "48  0.81667       0.8     0.75      0.75      0.75   1.00000        1.0\n",
       "49  0.42857       0.0     0.50      0.00      0.50   0.66700        1.0\n",
       "50  0.57222       0.6     0.75      0.00      0.75   0.66700        1.0\n",
       "51  0.47619       0.0     0.50      0.50      0.00   1.00000        1.0\n",
       "52  0.76429       0.6     0.50      1.00      0.75   1.00000        1.0\n",
       "53  0.21429       0.0     0.00      0.00      0.00   0.66700        0.5\n",
       "54  0.42500       0.8     0.25      0.00      0.00   1.00000        1.0\n",
       "55  0.75714       0.8     0.75      0.75      1.00   0.66670        1.0\n",
       "56  0.74524       0.8     0.50      0.75      1.00   0.66670        1.0\n",
       "57  0.00000       0.0     0.00      0.00      0.00   0.00000        0.0\n",
       "58  0.02778       0.0     0.00      0.00      0.00   0.00000        0.0\n",
       "59  0.02381       0.0     0.00      0.00      0.00   0.00000        0.0\n",
       "60  0.00000       0.0     0.00      0.00      0.00   0.00000        0.0\n",
       "61  0.45238       0.0     0.50      0.00      0.00   1.00000        1.0\n",
       "62  0.44444       0.0     0.50      0.50      0.00   1.00000        1.0\n",
       "63  0.47619       0.0     0.50      0.00      0.50   0.66670        1.0\n",
       "64  0.73333       0.8     1.00      0.00      1.00   0.66670        1.0\n",
       "65  0.37500       0.0     0.50      0.00      0.25   1.00000        1.0\n",
       "66  0.37500       0.0     0.50      0.00      0.25   1.00000        1.0\n",
       "67  0.46429       0.0     0.50      0.00      0.25   1.00000        1.0\n",
       "68  0.46429       0.0     0.50      0.00      0.25   1.00000        1.0\n",
       "69  0.23810       0.0     0.00      0.00      0.00   0.33330        1.0\n",
       "70  0.16667       0.0     0.00      0.00      0.00   0.66700        0.0\n",
       "71  0.14286       0.0     0.00      0.00      0.00   0.66670        0.0\n",
       "72  0.14286       0.0     0.00      0.00      0.00   0.66670        0.0\n",
       "73  0.80476       0.8     1.00      1.00      0.00   1.00000        1.0\n",
       "74  0.65556       0.6     1.00      0.00      1.00   0.66700        1.0\n",
       "75  0.48571       0.4     1.00      0.00      0.00   0.66670        1.0\n",
       "76  0.70476       0.6     1.00      0.00      1.00   0.66670        1.0\n",
       "77  0.40476       0.0     0.50      0.00      0.00   0.66700        1.0\n",
       "78  0.37222       0.4     0.50      0.00      0.00   0.66700        1.0\n",
       "79  0.46190       0.4     0.50      0.00      0.00   0.66670        1.0\n",
       "80  0.48571       0.4     0.50      0.00      0.00   0.66670        1.0\n",
       "81  0.26190       0.0     0.00      0.00      0.00   0.33330        1.0\n",
       "82  0.22222       0.0     0.00      0.00      0.00   1.00000        1.0\n",
       "83  0.35714       0.0     0.00      0.00      0.00   1.00000        1.0\n",
       "84  0.45238       0.0     0.50      0.00      0.00   1.00000        1.0\n",
       "85  0.70000       0.4     1.00      1.00      0.50   0.33330        1.0\n",
       "86  0.50278       0.6     0.75      0.00      0.00   1.00000        1.0\n",
       "87  0.69524       0.2     0.75      1.00      0.25   1.00000        1.0\n",
       "88  0.57381       0.6     0.75      0.00      0.00   1.00000        1.0\n",
       "89  0.62619       0.8     0.75      0.00      0.00   1.00000        1.0\n",
       "90  0.93889       0.8     1.00      1.00      1.00   1.00000        1.0\n",
       "91  0.94762       0.8     1.00      1.00      1.00   1.00000        1.0\n",
       "92  0.94762       0.8     1.00      1.00      1.00   1.00000        1.0\n",
       "93  0.00000       0.0     0.00      0.00      0.00   0.00000        0.0\n",
       "94  0.26190       0.0     0.00      0.00      0.00   0.66670        1.0\n",
       "95  0.26190       0.0     0.00      0.00      0.00   0.66670        1.0\n",
       "96  0.26190       0.0     0.00      0.00      0.00   0.66670        1.0\n",
       "97  0.16667       0.0     0.00      0.00      0.00   0.66670        0.5\n",
       "98  0.29167       0.0     0.00      0.00      0.25   1.00000        1.0\n",
       "99  0.39286       0.0     0.00      0.00      0.25   1.00000        1.0\n",
       "100 0.36905       0.0     0.00      0.00      0.25   1.00000        1.0\n",
       "101 0.44048       0.0     0.25      0.00      0.00   1.00000        1.0\n",
       "102 0.93889       0.8     1.00      1.00      1.00   1.00000        1.0\n",
       "103 0.75714       0.8     1.00      0.00      0.50   1.00000        1.0\n",
       "104 0.75714       0.8     1.00      0.00      0.50   1.00000        1.0\n",
       "105 0.07143       0.0     0.00      0.00      0.00   0.33333        0.0\n",
       "106 0.11111       0.0     0.00      0.00      0.00   0.33330        1.0\n",
       "107 0.35714       0.0     0.00      0.00      0.00   1.00000        1.0\n",
       "108 0.30952       0.0     0.00      0.00      0.00   0.66670        1.0\n",
       "109 0.30952       0.0     0.00      0.00      0.00   1.00000        1.0\n",
       "110 0.19444       0.0     0.00      0.00      0.00   1.00000        0.0\n",
       "111 0.33333       0.0     0.00      0.00      0.00   1.00000        1.0\n",
       "112 0.16667       0.0     0.00      0.00      0.00   1.00000        0.0\n",
       "113 0.95238       1.0     1.00      1.00      1.00   1.00000        1.0\n",
       "114 0.94444       1.0     1.00      1.00      1.00   1.00000        1.0\n",
       "115 0.70952       0.8     0.50      0.00      1.00   1.00000        1.0\n",
       "116 0.70952       0.8     0.50      0.00      1.00   1.00000        1.0\n",
       "117 0.28571       0.0     0.50      0.00      0.00   0.33330        1.0\n",
       "118 0.36111       0.0     0.25      0.25      0.50   1.00000        1.0\n",
       "119 0.50000       0.0     0.75      0.00      0.75   0.66670        1.0\n",
       "120 0.46429       0.0     0.50      0.00      0.75   0.66670        1.0\n",
       "121 0.42857       0.0     0.00      0.50      0.50   1.00000        1.0\n",
       "122 0.19444       0.0     0.00      0.00      0.00   1.00000        1.0\n",
       "123 0.21429       0.0     0.00      0.00      0.00   0.33330        1.0\n",
       "124 0.40476       0.0     0.50      0.00      0.00   1.00000        1.0\n",
       "125 0.21429       0.0     0.00      0.00      0.00   0.33330        1.0\n",
       "126 0.08333       0.0     0.00      0.00      0.00   0.33330        1.0\n",
       "127 0.21429       0.0     0.00      0.00      0.00   0.33330        1.0\n",
       "128 0.21429       0.0     0.00      0.00      0.00   0.33330        1.0\n",
       "129 0.65476       0.0     0.75      0.75      0.75   0.66670        1.0\n",
       "130 0.43056       0.0     0.50      0.50      0.25   0.66670        1.0\n",
       "131 0.69762       0.8     0.25      0.00      1.00   1.00000        1.0\n",
       "132 0.69762       0.8     0.25      0.00      1.00   1.00000        1.0\n",
       "133 0.74048       0.6     0.75      0.75      0.75   1.00000        1.0\n",
       "134 0.62222       0.4     0.50      0.50      0.50   1.00000        1.0\n",
       "135 0.67619       0.4     0.50      0.50      0.50   1.00000        1.0\n",
       "136 0.67619       0.4     0.50      0.50      0.50   1.00000        1.0\n",
       "137 0.78095       0.8     1.00      1.00      1.00   0.00000        1.0\n",
       "138 0.74444       0.8     1.00      1.00      1.00   0.00000        1.0\n",
       "139 0.90000       0.8     1.00      1.00      1.00   1.00000        1.0\n",
       "140 0.90000       0.8     1.00      1.00      1.00   1.00000        1.0\n",
       "141 0.00000       0.0     0.00      0.00      0.00   0.00000        0.0\n",
       "142 0.00000       0.0     0.00      0.00      0.00   0.00000        0.0\n",
       "143 0.09524       0.0     0.00      0.00      0.00   0.66670        0.0\n",
       "144 0.09524       0.0     0.00      0.00      0.00   0.66670        0.0\n",
       "    X0TH_ENG ALT_CEI BRD_EFFC BRD_INDP BRD_MEET BRD_SIZE BRD_COMPT   DIVIDEND\n",
       "1    1.00000     0.7  2.50000  2.00000  2.50000        3   2.50000   30.35000\n",
       "2    0.83330     0.5  2.35294  1.66667  2.83333        3   2.50000   55.82524\n",
       "3    0.66670     0.5  2.23529  1.83333  2.33333        3   2.50000   15.36585\n",
       "4    0.66670     0.5  2.17647  1.50000  2.50000        3   2.50000   29.37500\n",
       "5    0.16670     0.3  2.26458  1.83333  2.00000        3   2.22500    0.00000\n",
       "6    0.50000     0.5  2.17647  1.83333  2.16667        3   2.50000    0.00000\n",
       "7    0.50000     0.6  2.41176  1.83333  2.66667        3   2.75000    0.00000\n",
       "8    0.50000     0.4  2.29412  1.83333  2.33333        3   2.75000    0.00000\n",
       "9    0.00000     0.0  1.77083  1.83333  2.00000        1   2.25000    0.00000\n",
       "10   0.16670     0.3  2.05882  2.00000  2.33333        1   2.00000    0.00000\n",
       "11   0.16670     0.2  2.11765  2.16667  2.33333        1   2.00000    0.00000\n",
       "12   0.66670     0.4  2.05882  2.00000  2.00000        1   2.50000    0.00000\n",
       "13   0.83330     0.6  2.08333  2.66667  2.16667        1   2.50000    3.55000\n",
       "14   0.66670     0.6  2.41176  2.33333  2.00000        3   3.00000    7.76699\n",
       "15   1.00000     0.6  2.41176  2.16667  2.33333        3   2.75000    0.00000\n",
       "16   0.83333     0.6  1.66667  1.66667  1.50000        1   2.00000    0.00000\n",
       "17   0.83330     0.6  2.10417  2.16667  2.50000        1   2.75000    0.00000\n",
       "18   0.50000     0.7  2.52941  2.33333  2.83333        1   2.75000    0.00000\n",
       "19   0.66670     0.6  2.40000  2.50000  2.50000        1   2.50000    0.00000\n",
       "20   0.66670     0.6  2.35294  2.16667  2.50000        1   2.75000    0.00000\n",
       "21   0.50000     0.5  2.45833  2.00000  2.33333        3   2.50000   80.00000\n",
       "22   0.50000     0.5  2.00000  2.00000  1.50000        3   2.50000  200.00000\n",
       "23   0.50000     0.5  1.94118  1.83333  1.50000        3   2.50000  200.00000\n",
       "24   0.66670     0.7  2.05882  1.83333  1.83333        3   2.50000    0.00000\n",
       "25   0.83330     0.7  2.06250  1.83333  2.66667        1   2.75000    0.00000\n",
       "26   0.66670     0.5  2.41176  2.16667  2.83333        1   2.50000    0.00000\n",
       "27   0.66670     0.5  2.17647  1.83333  2.50000        1   2.50000    0.00000\n",
       "28   0.83330     0.7  2.35294  1.83333  2.66667        3   2.50000    0.00000\n",
       "29   0.66670     0.6  2.85417  2.83333  2.83333        3   2.75000    0.00000\n",
       "30   0.66670     0.6  2.76471  2.83333  2.83333        3   2.50000    0.00000\n",
       "31   0.66670     0.5  2.58824  2.50000  2.66667        3   2.50000    0.00000\n",
       "32   0.83330     0.7  2.88235  3.00000  2.83333        3   2.75000    0.00000\n",
       "33   0.50000     0.3  2.35417  1.66667  2.50000        3   2.25000    0.00000\n",
       "34   0.66670     0.6  2.41176  1.66667  2.83333        3   2.75000   17.50000\n",
       "35   0.83330     0.7  2.35294  2.00000  2.50000        3   2.50000   31.50000\n",
       "36   0.83333     0.6  2.17647  1.83333  2.16667        3   2.50000    0.00000\n",
       "37   0.16670     0.2  1.97917  1.83333  2.33333        1   2.75000    0.00000\n",
       "38   0.00000     0.3  2.11765  1.50000  2.33333        1   3.00000    0.00000\n",
       "39   0.00000     0.3  2.23529  1.83333  2.33333        1   3.00000    0.00000\n",
       "40   0.83333     0.4  2.23529  1.83333  2.33333        1   3.00000    0.00000\n",
       "41   0.35700     0.5  2.43750  1.83333  2.16667        3   2.75000  244.10000\n",
       "42   0.50000     0.5  2.47059  2.16667  2.66667        3   2.50000  380.00000\n",
       "43   0.33330     0.3  2.23529  1.83333  2.33333        3   2.50000  252.00000\n",
       "44   0.83333     0.5  2.41176  2.16667  2.33333        3   2.75000  110.00000\n",
       "45   0.83330     0.7  2.72917  2.16667  3.00000        3   2.75000  407.00000\n",
       "46   0.66670     0.7  2.76471  2.66667  3.00000        3   2.50000 1666.00000\n",
       "47   0.83333     0.8  2.70588  2.33333  3.00000        3   2.75000 1464.00000\n",
       "48   0.66670     0.7  2.41176  2.16667  2.33333        3   2.75000 1100.00000\n",
       "49   0.33300     0.1  1.87500  1.66667  2.33333        1   2.50000   50.00000\n",
       "50   0.66670     0.5  2.47059  1.83333  2.83333        3   2.75000  200.00000\n",
       "51   0.33333     0.4  2.52941  2.00000  2.66667        3   3.00000   75.00000\n",
       "52   0.50000     0.5  2.29412  2.16667  2.50000        1   2.50000  100.00000\n",
       "53   0.33300     0.1  1.83333  1.83333  2.00000        1   2.50000    0.00000\n",
       "54   0.50000     0.6  2.00000  1.50000  2.33333        1   2.50000    0.00000\n",
       "55   0.33330     0.4  2.05882  1.83333  2.16667        1   2.50000    0.00000\n",
       "56   0.50000     0.5  2.17647  1.83333  2.50000        1   2.50000   26.00000\n",
       "57   0.00000     0.0  1.95833  1.83333  2.50000        1   2.50000    0.00000\n",
       "58   0.16670     0.0  1.82353  1.33333  2.00000        1   2.50000    0.00000\n",
       "59   0.16670     0.0  1.94118  1.66667  2.00000        1   2.50000    0.00000\n",
       "60   0.00000     0.0  1.94118  1.66667  2.00000        1   2.50000    0.00000\n",
       "61   0.66670     0.5  2.37500  1.66667  2.33333        3   2.50000  191.90000\n",
       "62   0.66670     0.7  2.35294  1.83333  2.66667        3   2.50000  202.91262\n",
       "63   0.50000     0.5  2.17647  1.83333  2.33333        3   2.25000   84.63415\n",
       "64   0.66670     0.5  2.29412  1.66667  2.66667        3   2.50000   86.75000\n",
       "65   0.50000     0.5  2.31250  2.00000  2.60000        3   2.25000    0.00000\n",
       "66   0.50000     0.5  2.31250  2.00000  2.60000        3   2.25000    0.00000\n",
       "67   0.33330     0.5  2.37500  2.00000  2.60000        3   2.50000    0.00000\n",
       "68   0.50000     0.5  2.18750  2.33333  1.83333        3   2.33333    0.00000\n",
       "69   0.33330     0.2  1.66667  1.66667  1.50000        1   2.50000    0.00000\n",
       "70   0.33330     0.1  2.23529  1.66667  2.83333        1   2.50000    0.00000\n",
       "71   0.66670     0.2  1.82353  1.50000  1.83333        1   2.50000    0.00000\n",
       "72   0.33330     0.2  1.82353  1.50000  1.83333        1   2.50000    0.00000\n",
       "73   0.83330     0.8  2.72917  2.16667  3.00000        3   2.75000    2.66000\n",
       "74   0.66670     0.6  2.58824  2.33333  2.66667        3   2.75000    0.00000\n",
       "75   0.50000     0.5  2.35294  2.33333  2.16667        3   2.50000    1.77000\n",
       "76   0.66670     0.7  2.58824  2.50000  2.50000        3   2.75000    0.00000\n",
       "77   0.66670     0.6  2.45833  2.00000  2.33333        3   2.50000    0.00000\n",
       "78   0.66670     0.4  2.23529  2.00000  2.50000        1   2.50000    0.00000\n",
       "79   0.66670     0.6  2.17647  2.16667  2.16667        1   2.50000    0.00000\n",
       "80   0.83330     0.7  2.17647  1.83333  2.50000        1   2.50000    0.00000\n",
       "81   0.50000     0.4  2.37500  2.00000  2.00000        3   2.50000    0.00000\n",
       "82   0.33330     0.3  2.11765  1.83333  2.33333        1   2.50000    0.00000\n",
       "83   0.83333     0.4  2.23529  2.16667  2.33333        1   2.50000    0.00000\n",
       "84   0.66670     0.6  2.05882  2.00000  2.00000        1   2.50000    0.00000\n",
       "85   0.66670     0.7  2.56250  2.00000  2.50000        3   2.75000   68.00000\n",
       "86   0.66670     0.7  2.29412  2.00000  2.33333        3   2.50000   72.50000\n",
       "87   0.16670     0.5  2.70588  2.50000  3.00000        3   2.50000   10.75140\n",
       "88   0.66670     0.4  2.70588  2.50000  3.00000        3   2.50000   10.75140\n",
       "89   0.83330     0.7  2.66667  2.50000  2.66667        3   2.50000   70.71000\n",
       "90   0.83330     0.7  2.47059  2.16667  2.66667        3   2.50000   90.99000\n",
       "91   0.83330     0.7  2.52941  2.33333  2.66667        3   2.50000   47.09000\n",
       "92   0.83330     0.7  2.58824  2.50000  2.66667        3   2.50000    0.00000\n",
       "93   0.00000     0.1  1.93750  1.83333  2.16667        1   2.75000    0.00000\n",
       "94   0.16670     0.2  1.76471  1.83333  1.83333        1   1.75000    0.00000\n",
       "95   0.16667     0.2  2.05882  2.00000  2.00000        1   2.50000    0.00000\n",
       "96   0.16670     0.2  2.05882  2.00000  2.00000        1   2.50000    0.00000\n",
       "97   0.00000     0.0  1.81250  1.83333  1.66667        1   2.75000    0.00000\n",
       "98   0.50000     0.5  2.17647  1.83333  2.50000        1   2.50000  100.00000\n",
       "99   0.50000     0.4  2.17647  1.83333  2.50000        1   2.50000   50.00000\n",
       "100  0.33330     0.4  2.17647  1.83333  2.50000        1   2.50000   50.00000\n",
       "101  0.83330     0.7  1.95833  1.66667  1.66667        2   2.50000  132.72727\n",
       "102  0.83330     0.7  2.35294  1.83333  2.66667        3   2.50000   79.70000\n",
       "103  1.00000     0.7  2.52941  2.16667  2.66667        2   3.00000   24.60000\n",
       "104  1.00000     0.8  2.52941  2.16667  2.66667        2   3.00000    0.00000\n",
       "105  0.16670     0.2  1.45833  1.83333  1.00000        1   2.00000    0.00000\n",
       "106  0.33330     0.4  1.66667  1.50000  1.50000        1   2.25000    0.00000\n",
       "107  0.50000     0.5  2.13333  2.16667  2.00000        1   2.50000    0.00000\n",
       "108  0.50000     0.5  1.80000  1.83333  1.50000        1   2.25000    0.00000\n",
       "109  0.16670     0.3  1.87500  1.50000  2.50000        1   2.50000    0.00000\n",
       "110  0.16670     0.2  2.00000  1.83333  2.50000        1   2.00000    0.00000\n",
       "111  0.33330     0.3  2.33333  1.83333  3.00000        1   2.75000    0.00000\n",
       "112  0.16670     0.2  2.33333  1.83333  3.00000        1   2.75000    0.00000\n",
       "113  0.66670     0.5  2.75000  2.83333  2.66667        3   2.50000   89.00000\n",
       "114  0.66670     0.5  2.70588  2.83333  2.66667        3   2.50000   42.87000\n",
       "115  0.66670     0.5  2.52941  2.50000  2.50000        3   2.50000   56.29000\n",
       "116  0.66670     0.6  2.52941  2.50000  2.50000        3   2.50000    0.00000\n",
       "117  0.16670     0.1  1.79167  1.66667  2.00000        1   2.50000    0.00000\n",
       "118  0.16670     0.4  1.87500  1.50000  2.00000        1   2.50000    0.00000\n",
       "119  0.33330     0.2  1.88235  1.50000  2.00000        1   2.50000    0.00000\n",
       "120  0.33330     0.2  1.88235  1.50000  2.00000        1   2.50000    0.00000\n",
       "121  0.00000     0.3  2.06250  2.16667  2.33333        1   2.75000    0.00000\n",
       "122  0.16670     0.3  2.31250  1.83333  2.80000        1   2.75000    0.00000\n",
       "123  0.16670     0.1  2.52941  2.50000  2.50000        3   2.50000    2.00000\n",
       "124  0.33330     0.3  2.52941  2.50000  2.50000        3   2.50000    0.00000\n",
       "125  0.16670     0.1  1.87500  1.83333  2.16667        1   2.50000    0.00000\n",
       "126  0.16670     0.0  1.94118  1.83333  1.50000        3   2.50000    0.00000\n",
       "127  0.16670     0.1  1.86667  1.83333  1.50000        1   2.50000    0.00000\n",
       "128  0.16700     0.1  1.86667  1.83333  1.50000        1   2.50000    0.00000\n",
       "129  0.66670     0.5  2.25000  1.50000  2.00000        3   2.50000  190.90909\n",
       "130  0.66670     0.2  2.11765  1.66667  2.16667        3   2.50000  436.89320\n",
       "131  0.83330     0.6  2.11765  1.50000  2.33333        3   2.50000  457.31707\n",
       "132  0.83330     0.6  2.11765  1.50000  2.33333        3   2.50000  468.50000\n",
       "133  0.33330     0.3  2.37500  1.66667  2.33333        3   2.50000   74.00000\n",
       "134  0.83330     0.7  2.23529  1.83333  2.33333        3   2.50000   60.00000\n",
       "135  0.83330     0.7  2.29412  1.83333  2.50000        3   2.50000   44.47561\n",
       "136  0.83333     0.7  2.29412  1.83333  2.50000        3   2.50000    0.00000\n",
       "137  0.66670     0.6  2.37500  1.83333  2.16667        3   2.50000   10.00000\n",
       "138  0.66670     0.5  2.29412  1.83333  2.66667        3   2.25000    0.00000\n",
       "139  0.50000     0.5  2.29412  2.00000  2.33333        3   2.50000    0.00000\n",
       "140  0.50000     0.5  2.29412  2.00000  2.33333        3   2.50000    0.00000\n",
       "141  0.00000     0.0  2.14583  1.16667  2.16667        3   2.25000    0.00000\n",
       "142  0.00000     0.0  1.88235  1.16667  2.16667        3   2.25000    0.00000\n",
       "143  0.00000     0.0  1.87500  1.80000  1.83333        1   2.25000   50.00000\n",
       "144  0.00000     0.0  1.87500  1.80000  1.83333        1   2.25000    8.00000\n",
       "    LOSS   TOT_ASSETS        SLACK      ROE BRD_INDP_DIV BRD_MEET_DIV\n",
       "1      0 5.144545e+13 5.081927e+12  0.22000    60.700000    75.875000\n",
       "2      0 6.497336e+13 4.857942e+12  0.14100    93.042253   158.171327\n",
       "3      0 8.212195e+13 8.308451e+12  0.07400    28.170674    35.853599\n",
       "4      0 8.017500e+13 9.315600e+12  0.05600    44.062500    73.437500\n",
       "5      0 2.301384e+12 3.591630e+11  0.05690     0.000000     0.000000\n",
       "6      1 2.903932e+12 1.526311e+11 -0.07730     0.000000     0.000000\n",
       "7      1 3.855817e+12 2.247561e+10 -0.07990     0.000000     0.000000\n",
       "8      1 4.239362e+12 5.275000e+10 -0.22930     0.000000     0.000000\n",
       "9      1 1.116601e+11 3.469378e+09 -0.64310     0.000000     0.000000\n",
       "10     1 1.508296e+08 2.807016e+06 -0.38200     0.000000     0.000000\n",
       "11     0 1.489340e+12 3.015988e+07  0.01200     0.000000     0.000000\n",
       "12     1 1.508296e+11 3.185917e+09 -0.36100     0.000000     0.000000\n",
       "13     0 1.871818e+13 4.729745e+12  0.30730     9.466679     7.691679\n",
       "14     1 2.085437e+13 3.534437e+12 -0.74090    18.122951    15.533980\n",
       "15     1 2.440271e+13 4.977427e+12 -2.03000     0.000000     0.000000\n",
       "16     1 2.216250e+13 4.243275e+12 -2.02000     0.000000     0.000000\n",
       "17     0 1.740441e+13 1.124181e+12  0.04726     0.000000     0.000000\n",
       "18     1 1.929230e+13 1.131750e+12 -0.04000     0.000000     0.000000\n",
       "19     1 2.423301e+13 1.421650e+12  0.04000     0.000000     0.000000\n",
       "20     1 2.329414e+13 7.845501e+10 -0.12500     0.000000     0.000000\n",
       "21     0 1.438620e+13 1.527995e+12  0.28500   160.000000   186.666400\n",
       "22     0 3.611168e+26 4.023288e+26  0.07800   400.000000   300.000000\n",
       "23     0 2.328177e+13 1.863041e+12  0.07800   366.666000   300.000000\n",
       "24     1 1.452070e+13 1.000979e+12 -0.74000     0.000000     0.000000\n",
       "25     1 3.692054e+12 3.377904e+11 -0.08000     0.000000     0.000000\n",
       "26     1 4.266755e+12 2.292203e+11 -0.14000     0.000000     0.000000\n",
       "27     1 5.359461e+12 2.879231e+11  0.14000     0.000000     0.000000\n",
       "28     0 4.448238e+12 1.699568e+11  0.00000     0.000000     0.000000\n",
       "29     1 1.082000e+13 1.932000e+12 -0.16021     0.000000     0.000000\n",
       "30     1 1.126214e+13 5.533981e+11  0.16000     0.000000     0.000000\n",
       "31     1 1.319275e+13 2.625251e+12 -0.42900     0.000000     0.000000\n",
       "32     0 1.131250e+13 9.386790e+11  0.16800     0.000000     0.000000\n",
       "33     0 3.320302e+12 1.878791e+12  0.10030     0.000000     0.000000\n",
       "34     0 3.440326e+12 9.513480e+11  0.06140    29.166725    49.583275\n",
       "35     0 4.022394e+12 7.809993e+11  0.05710    63.000000    78.750000\n",
       "36     0 3.922000e+12 7.864364e+11  0.04340     0.000000     0.000000\n",
       "37     0 4.643680e+11 1.177365e+11  0.22600     0.000000     0.000000\n",
       "38     0 1.584883e+10 1.169282e+10  0.74100     0.000000     0.000000\n",
       "39     1 1.078798e+12 9.147183e+09 -0.06740     0.000000     0.000000\n",
       "40     1 1.012553e+12 2.124134e+10 -0.06720     0.000000     0.000000\n",
       "41     0 4.645000e+12 1.660807e+12  0.48000   447.515853   528.884147\n",
       "42     0 5.229508e+12 1.575946e+12  0.37600   823.334600  1013.334600\n",
       "43     0 5.861233e+12 2.211686e+12  0.13200   461.999160   587.999160\n",
       "44     0 5.551336e+12 2.516316e+12  0.00100   238.333700   256.666300\n",
       "45     0 1.434976e+13 5.567418e+12  0.51000   881.834690  1221.000000\n",
       "46     0 1.447790e+10 4.477961e+09  0.43000  4442.672220  4998.000000\n",
       "47     0 1.697732e+13 3.520817e+12  0.24000  3415.995120  4392.000000\n",
       "48     0 1.634185e+13 2.826500e+12  0.22000  2383.337000  2566.663000\n",
       "49     0 9.778930e+11 4.358460e+11  0.68500    83.333500   116.666500\n",
       "50     0 1.007782e+12 7.910948e+10  0.32000   366.666000   566.666000\n",
       "51     0 1.293752e+12 1.046040e+11  0.24000   150.000000   200.000250\n",
       "52     0 9.956869e+07 2.649485e+06  0.11100   216.667000   250.000000\n",
       "53     1 4.233096e+11 2.684522e+10  0.03560     0.000000     0.000000\n",
       "54     0 1.292581e+12 4.588909e+10  0.03770     0.000000     0.000000\n",
       "55     0 1.815818e+12 8.069900e+10  0.22200     0.000000     0.000000\n",
       "56     0 2.031097e+12 2.239072e+11  0.26700    47.666580    65.000000\n",
       "57     1 4.539770e+11 1.345938e+10  0.03400     0.000000     0.000000\n",
       "58     1 3.692770e+11 2.024694e+10 -0.05000     0.000000     0.000000\n",
       "59     0 3.615488e+11 1.853429e+09  0.00190     0.000000     0.000000\n",
       "60     1 3.032550e+11 1.853429e+09 -0.19380     0.000000     0.000000\n",
       "61     0 3.429982e+12 2.053364e+11  0.33060   319.833973   447.766027\n",
       "62     0 5.143126e+12 4.320097e+11  0.26230   372.005794   541.100996\n",
       "63     0 6.210268e+12 6.966463e+11  0.08760   155.162326   197.479401\n",
       "64     0 5.846250e+12 8.171250e+11  0.01100   144.583622   231.333622\n",
       "65     0 4.801790e+11 1.560060e+11  0.03000     0.000000     0.000000\n",
       "66     0 4.801790e+11 1.560060e+11  0.03000     0.000000     0.000000\n",
       "67     1 6.266500e+11 1.675256e+11  0.04000     0.000000     0.000000\n",
       "68     1 7.249740e+11 1.264965e+11 -0.01000     0.000000     0.000000\n",
       "69     0 1.382808e+12 3.944686e+10  0.00970     0.000000     0.000000\n",
       "70     0 1.095382e+12 4.009298e+10  0.07100     0.000000     0.000000\n",
       "71     0 1.095382e+12 4.009298e+10  0.07100     0.000000     0.000000\n",
       "72     0 1.773671e+12 5.945887e+10  0.03000     0.000000     0.000000\n",
       "73     1 4.389950e+12 6.888180e+11 -0.02200     5.763342     7.980000\n",
       "74     0 1.432239e+12 3.007457e+10  0.06000     0.000000     0.000000\n",
       "75     0 4.370964e+12 1.319686e+12  0.10600     4.129994     3.835006\n",
       "76     0 4.245704e+12 1.060151e+12  0.15970     0.000000     0.000000\n",
       "77     0 1.735483e+10 7.657841e+08  0.01142     0.000000     0.000000\n",
       "78     0 4.294557e+12 9.281990e+11  0.06300     0.000000     0.000000\n",
       "79     0 2.318647e+09 1.533324e+08  0.19100     0.000000     0.000000\n",
       "80     0 1.747858e+12 1.404630e+11  0.10290     0.000000     0.000000\n",
       "81     0 6.559649e+11 1.882643e+11  0.56360     0.000000     0.000000\n",
       "82     1 2.011991e+13 1.014175e+12  0.02000     0.000000     0.000000\n",
       "83     0 1.442411e+12 4.377514e+11  0.13890     0.000000     0.000000\n",
       "84     0 2.753028e+13 1.903725e+12  0.04100     0.000000     0.000000\n",
       "85     0 2.352179e+13 8.647783e+12  0.10431   136.000000   170.000000\n",
       "86     0 1.111322e+13 8.109901e+12  0.15000   145.000000   169.166425\n",
       "87     0 3.238780e+13 6.309902e+12  0.01500    26.878500    32.254200\n",
       "88     0 3.238780e+13 6.309902e+12  0.01500    26.878500    32.254200\n",
       "89     0 1.520124e+13 5.639679e+12  0.18940   176.775000   188.560236\n",
       "90     0 1.970854e+13 3.868575e+12  0.25360   197.145303   242.640303\n",
       "91     0 2.186512e+13 2.792738e+12  0.03200   109.876510   125.573490\n",
       "92     1 2.204420e+13 2.618910e+12 -0.06270     0.000000     0.000000\n",
       "93     0 1.181111e+12 5.795026e+11  0.04130     0.000000     0.000000\n",
       "94     1 1.213229e+12 9.173469e+07 -0.00300     0.000000     0.000000\n",
       "95     0 6.390120e+11 8.745936e+09  0.00000     0.000000     0.000000\n",
       "96     1 1.040000e+10 8.745936e+09 -0.00040     0.000000     0.000000\n",
       "97     0 1.301283e+12 1.000233e+12  0.15318     0.000000     0.000000\n",
       "98     0 1.535650e+12 7.464408e+11  0.22000   183.333000   250.000000\n",
       "99     0 1.595228e+12 8.337525e+11  0.24000    91.666500   125.000000\n",
       "100    1 1.191604e+12 4.457953e+11 -0.04000    91.666500   125.000000\n",
       "101    0 2.201238e+13 3.628682e+12  0.19000   221.212559   221.212559\n",
       "102    0 2.265126e+13 1.672223e+12  0.04000   146.116401   212.533599\n",
       "103    0 2.781852e+13 2.643207e+12  0.02000    53.300082    65.600082\n",
       "104    0 2.917738e+13 3.778200e+12  0.10000     0.000000     0.000000\n",
       "105    1 1.027389e+10 5.095224e+09 -0.51900     0.000000     0.000000\n",
       "106    0 5.576806e+12 8.371149e+10  0.30800     0.000000     0.000000\n",
       "107    1 9.822894e+12 3.267244e+11 -0.10100     0.000000     0.000000\n",
       "108    0 1.070894e+13 1.415980e+11  0.09000     0.000000     0.000000\n",
       "109    1 3.850260e+11 1.545330e+11 -0.06000     0.000000     0.000000\n",
       "110    1 3.075482e+11 1.944498e+10 -0.24100     0.000000     0.000000\n",
       "111    1 2.449967e+11 2.029645e+09 -0.20140     0.000000     0.000000\n",
       "112    1 2.637794e+12 5.722089e+10 -0.02530     0.000000     0.000000\n",
       "113    0 6.569807e+12 6.595840e+11  0.27000   252.166370   237.333630\n",
       "114    0 6.130320e+12 6.704000e+11  0.12000   121.464857   114.320143\n",
       "115    0 7.883294e+12 6.136980e+11  0.13000   140.725000   140.725000\n",
       "116    0 9.752477e+12 3.644960e+11  0.13000     0.000000     0.000000\n",
       "117    0 2.182515e+11 1.042113e+10  0.01000     0.000000     0.000000\n",
       "118    0 1.760010e+11 1.419955e+10  0.03500     0.000000     0.000000\n",
       "119    0 3.269600e+11 1.304858e+10  0.00610     0.000000     0.000000\n",
       "120    0 3.660530e+11 1.031394e+10  0.01150     0.000000     0.000000\n",
       "121    0 1.485407e+11 3.327728e+10  0.43750     0.000000     0.000000\n",
       "122    0 1.485410e+11 3.327728e+10  0.23300     0.000000     0.000000\n",
       "123    0 1.569930e+11 5.000691e+10  0.19720     5.000000     5.000000\n",
       "124    0 3.626790e+11 4.758827e+10  0.02780     0.000000     0.000000\n",
       "125    0 1.710689e+12 2.985594e+10  0.11000     0.000000     0.000000\n",
       "126    0 1.503500e+12 2.722860e+10  0.09000     0.000000     0.000000\n",
       "127    0 5.516122e+12 1.529416e+09  0.02600     0.000000     0.000000\n",
       "128    1 5.512453e+12 2.253194e+11 -0.03100     0.000000     0.000000\n",
       "129    0 2.238391e+12 5.512677e+11  0.34000   286.363635   381.818180\n",
       "130    0 2.606194e+12 2.766204e+11  0.24000   728.156790   946.603390\n",
       "131    0 3.343305e+12 5.081530e+11  0.25000   685.975605  1067.071639\n",
       "132    0 3.248688e+12 4.962125e+11  0.17000   702.750000  1093.165105\n",
       "133    0 1.825382e+13 3.433645e+12  0.14000   123.333580   172.666420\n",
       "134    0 2.278897e+13 3.401705e+12  0.03000   109.999800   139.999800\n",
       "135    1 2.824785e+13 3.982530e+12 -0.00070    81.538470   111.189025\n",
       "136    1 2.862940e+13 4.158715e+12 -0.03150     0.000000     0.000000\n",
       "137    1 9.212775e+11 8.507606e+10 -0.04340    18.333300    21.666700\n",
       "138    1 1.073942e+12 7.732039e+10 -0.15160     0.000000     0.000000\n",
       "139    0 1.517317e+12 1.033780e+11  0.00650     0.000000     0.000000\n",
       "140    1 1.552375e+11 6.432500e+10 -0.20020     0.000000     0.000000\n",
       "141    0 5.442820e+11 2.375282e+10  0.24850     0.000000     0.000000\n",
       "142    0 3.890070e+11 5.578254e+10  0.19980     0.000000     0.000000\n",
       "143    0 7.658814e+11 7.229814e+10  0.03970    90.000000    91.666500\n",
       "144    0 8.972817e+11 4.202218e+10  0.17920    14.400000    14.666640\n",
       "    BRD_SIZE_DIV BRD_COMPT_DIV BRD_EFFC_DIV\n",
       "1       91.05000      75.87500    75.875000\n",
       "2      167.47572     139.56310   131.353440\n",
       "3       46.09755      38.41463    34.347131\n",
       "4       88.12500      73.43750    63.933806\n",
       "5        0.00000       0.00000     0.000000\n",
       "6        0.00000       0.00000     0.000000\n",
       "7        0.00000       0.00000     0.000000\n",
       "8        0.00000       0.00000     0.000000\n",
       "9        0.00000       0.00000     0.000000\n",
       "10       0.00000       0.00000     0.000000\n",
       "11       0.00000       0.00000     0.000000\n",
       "12       0.00000       0.00000     0.000000\n",
       "13       3.55000       8.87500     7.395822\n",
       "14      23.30097      23.30097    18.732116\n",
       "15       0.00000       0.00000     0.000000\n",
       "16       0.00000       0.00000     0.000000\n",
       "17       0.00000       0.00000     0.000000\n",
       "18       0.00000       0.00000     0.000000\n",
       "19       0.00000       0.00000     0.000000\n",
       "20       0.00000       0.00000     0.000000\n",
       "21     240.00000     200.00000   196.666400\n",
       "22     600.00000     500.00000   400.000000\n",
       "23     600.00000     500.00000   388.236000\n",
       "24       0.00000       0.00000     0.000000\n",
       "25       0.00000       0.00000     0.000000\n",
       "26       0.00000       0.00000     0.000000\n",
       "27       0.00000       0.00000     0.000000\n",
       "28       0.00000       0.00000     0.000000\n",
       "29       0.00000       0.00000     0.000000\n",
       "30       0.00000       0.00000     0.000000\n",
       "31       0.00000       0.00000     0.000000\n",
       "32       0.00000       0.00000     0.000000\n",
       "33       0.00000       0.00000     0.000000\n",
       "34      52.50000      48.12500    42.205800\n",
       "35      94.50000      78.75000    74.117610\n",
       "36       0.00000       0.00000     0.000000\n",
       "37       0.00000       0.00000     0.000000\n",
       "38       0.00000       0.00000     0.000000\n",
       "39       0.00000       0.00000     0.000000\n",
       "40       0.00000       0.00000     0.000000\n",
       "41     732.30000     671.27500   594.993750\n",
       "42    1140.00000     950.00000   938.824200\n",
       "43     756.00000     630.00000   563.293080\n",
       "44     330.00000     302.50000   265.293600\n",
       "45    1221.00000    1119.25000  1110.772190\n",
       "46    4998.00000    4165.00000  4606.006860\n",
       "47    4392.00000    4026.00000  3961.408320\n",
       "48    3300.00000    3025.00000  2652.936000\n",
       "49      50.00000     125.00000    93.750000\n",
       "50     600.00000     550.00000   494.118000\n",
       "51     225.00000     225.00000   189.705750\n",
       "52     100.00000     250.00000   229.412000\n",
       "53       0.00000       0.00000     0.000000\n",
       "54       0.00000       0.00000     0.000000\n",
       "55       0.00000       0.00000     0.000000\n",
       "56      26.00000      65.00000    56.588220\n",
       "57       0.00000       0.00000     0.000000\n",
       "58       0.00000       0.00000     0.000000\n",
       "59       0.00000       0.00000     0.000000\n",
       "60       0.00000       0.00000     0.000000\n",
       "61     575.70000     479.75000   455.762500\n",
       "62     608.73786     507.28155   477.441220\n",
       "63     253.90245     190.42684   184.203688\n",
       "64     260.25000     216.87500   199.014910\n",
       "65       0.00000       0.00000     0.000000\n",
       "66       0.00000       0.00000     0.000000\n",
       "67       0.00000       0.00000     0.000000\n",
       "68       0.00000       0.00000     0.000000\n",
       "69       0.00000       0.00000     0.000000\n",
       "70       0.00000       0.00000     0.000000\n",
       "71       0.00000       0.00000     0.000000\n",
       "72       0.00000       0.00000     0.000000\n",
       "73       7.98000       7.31500     7.259592\n",
       "74       0.00000       0.00000     0.000000\n",
       "75       5.31000       4.42500     4.164704\n",
       "76       0.00000       0.00000     0.000000\n",
       "77       0.00000       0.00000     0.000000\n",
       "78       0.00000       0.00000     0.000000\n",
       "79       0.00000       0.00000     0.000000\n",
       "80       0.00000       0.00000     0.000000\n",
       "81       0.00000       0.00000     0.000000\n",
       "82       0.00000       0.00000     0.000000\n",
       "83       0.00000       0.00000     0.000000\n",
       "84       0.00000       0.00000     0.000000\n",
       "85     204.00000     187.00000   174.250000\n",
       "86     217.50000     181.25000   166.323700\n",
       "87      32.25420      26.87850    29.091998\n",
       "88      32.25420      26.87850    29.091998\n",
       "89     212.13000     176.77500   188.560236\n",
       "90     272.97000     227.47500   224.798984\n",
       "91     141.27000     117.72500   119.109917\n",
       "92       0.00000       0.00000     0.000000\n",
       "93       0.00000       0.00000     0.000000\n",
       "94       0.00000       0.00000     0.000000\n",
       "95       0.00000       0.00000     0.000000\n",
       "96       0.00000       0.00000     0.000000\n",
       "97       0.00000       0.00000     0.000000\n",
       "98     100.00000     250.00000   217.647000\n",
       "99      50.00000     125.00000   108.823500\n",
       "100     50.00000     125.00000   108.823500\n",
       "101    265.45454     331.81817   259.923795\n",
       "102    239.10000     199.25000   187.529318\n",
       "103     49.20000      73.80000    62.223486\n",
       "104      0.00000       0.00000     0.000000\n",
       "105      0.00000       0.00000     0.000000\n",
       "106      0.00000       0.00000     0.000000\n",
       "107      0.00000       0.00000     0.000000\n",
       "108      0.00000       0.00000     0.000000\n",
       "109      0.00000       0.00000     0.000000\n",
       "110      0.00000       0.00000     0.000000\n",
       "111      0.00000       0.00000     0.000000\n",
       "112      0.00000       0.00000     0.000000\n",
       "113    267.00000     222.50000   244.750000\n",
       "114    128.61000     107.17500   116.001076\n",
       "115    168.87000     140.72500   142.380489\n",
       "116      0.00000       0.00000     0.000000\n",
       "117      0.00000       0.00000     0.000000\n",
       "118      0.00000       0.00000     0.000000\n",
       "119      0.00000       0.00000     0.000000\n",
       "120      0.00000       0.00000     0.000000\n",
       "121      0.00000       0.00000     0.000000\n",
       "122      0.00000       0.00000     0.000000\n",
       "123      6.00000       5.00000     5.058820\n",
       "124      0.00000       0.00000     0.000000\n",
       "125      0.00000       0.00000     0.000000\n",
       "126      0.00000       0.00000     0.000000\n",
       "127      0.00000       0.00000     0.000000\n",
       "128      0.00000       0.00000     0.000000\n",
       "129    572.72727     477.27272   429.545453\n",
       "130   1310.67960    1092.23300   925.186885\n",
       "131   1371.95121    1143.29267   968.437493\n",
       "132   1405.50000    1171.25000   992.119025\n",
       "133    222.00000     185.00000   175.750000\n",
       "134    180.00000     150.00000   134.117400\n",
       "135    133.42683     111.18903   102.032386\n",
       "136      0.00000       0.00000     0.000000\n",
       "137     30.00000      25.00000    23.750000\n",
       "138      0.00000       0.00000     0.000000\n",
       "139      0.00000       0.00000     0.000000\n",
       "140      0.00000       0.00000     0.000000\n",
       "141      0.00000       0.00000     0.000000\n",
       "142      0.00000       0.00000     0.000000\n",
       "143     50.00000     112.50000    93.750000\n",
       "144      8.00000      18.00000    15.000000"
      ]
     },
     "execution_count": 103,
     "metadata": {},
     "output_type": "execute_result"
    }
   ],
   "source": [
    "# ncol(data)\n",
    "dataMean <- data[3:26]\n",
    "dataMean"
   ]
  },
  {
   "cell_type": "markdown",
   "metadata": {},
   "source": [
    "# Summary Statistics\n"
   ]
  },
  {
   "cell_type": "code",
   "execution_count": 101,
   "metadata": {
    "collapsed": false
   },
   "outputs": [],
   "source": [
    "library(stargazer)\n"
   ]
  },
  {
   "cell_type": "code",
   "execution_count": 102,
   "metadata": {
    "collapsed": false
   },
   "outputs": [
    {
     "data": {
      "text/plain": [
       "      Firm            Year           CEI           BRIB_CORR     \n",
       " Min.   : 1.00   Min.   :2011   Min.   :0.0000   Min.   :0.0000  \n",
       " 1st Qu.: 9.75   1st Qu.:2012   1st Qu.:0.3051   1st Qu.:0.0000  \n",
       " Median :18.50   Median :2012   Median :0.4702   Median :0.0000  \n",
       " Mean   :18.50   Mean   :2012   Mean   :0.4814   Mean   :0.2542  \n",
       " 3rd Qu.:27.25   3rd Qu.:2013   3rd Qu.:0.6958   3rd Qu.:0.6000  \n",
       " Max.   :36.00   Max.   :2014   Max.   :0.9524   Max.   :1.0000  \n",
       "    BUSS_ETH        FAIR_COMP        POL_CONTR        INDIG_PPL     \n",
       " Min.   :0.0000   Min.   :0.0000   Min.   :0.0000   Min.   :0.0000  \n",
       " 1st Qu.:0.0000   1st Qu.:0.0000   1st Qu.:0.0000   1st Qu.:0.6667  \n",
       " Median :0.5000   Median :0.0000   Median :0.0000   Median :1.0000  \n",
       " Mean   :0.4462   Mean   :0.2708   Mean   :0.3316   Mean   :0.7865  \n",
       " 3rd Qu.:0.7500   3rd Qu.:0.5000   3rd Qu.:0.7500   3rd Qu.:1.0000  \n",
       " Max.   :1.0000   Max.   :1.0000   Max.   :1.0000   Max.   :1.0000  \n",
       "   IND_EC_IMP        X0TH_ENG         ALT_CEI          BRD_EFFC    \n",
       " Min.   :0.0000   Min.   :0.0000   Min.   :0.0000   Min.   :1.458  \n",
       " 1st Qu.:1.0000   1st Qu.:0.3332   1st Qu.:0.3000   1st Qu.:2.059  \n",
       " Median :1.0000   Median :0.5000   Median :0.5000   Median :2.235  \n",
       " Mean   :0.8681   Mean   :0.5060   Mean   :0.4361   Mean   :2.231  \n",
       " 3rd Qu.:1.0000   3rd Qu.:0.6667   3rd Qu.:0.6000   3rd Qu.:2.412  \n",
       " Max.   :1.0000   Max.   :1.0000   Max.   :0.8000   Max.   :2.882  \n",
       "    BRD_INDP        BRD_MEET        BRD_SIZE      BRD_COMPT    \n",
       " Min.   :1.167   Min.   :1.000   Min.   :1.00   Min.   :1.750  \n",
       " 1st Qu.:1.833   1st Qu.:2.000   1st Qu.:1.00   1st Qu.:2.500  \n",
       " Median :1.833   Median :2.333   Median :3.00   Median :2.500  \n",
       " Mean   :1.960   Mean   :2.333   Mean   :2.09   Mean   :2.525  \n",
       " 3rd Qu.:2.167   3rd Qu.:2.667   3rd Qu.:3.00   3rd Qu.:2.500  \n",
       " Max.   :3.000   Max.   :3.000   Max.   :3.00   Max.   :3.000  \n",
       "    DIVIDEND            LOSS          TOT_ASSETS            SLACK          \n",
       " Min.   :   0.00   Min.   :0.0000   Min.   :9.957e+07   Min.   :2.649e+06  \n",
       " 1st Qu.:   0.00   1st Qu.:0.0000   1st Qu.:7.557e+11   1st Qu.:4.009e+10  \n",
       " Median :   0.00   Median :0.0000   Median :3.332e+12   Median :3.073e+11  \n",
       " Mean   :  70.24   Mean   :0.3125   Mean   :2.508e+24   Mean   :2.794e+24  \n",
       " 3rd Qu.:  50.00   3rd Qu.:1.0000   3rd Qu.:1.348e+13   3rd Qu.:1.597e+12  \n",
       " Max.   :1666.00   Max.   :1.0000   Max.   :3.611e+26   Max.   :4.023e+26  \n",
       "      ROE             BRD_INDP_DIV      BRD_MEET_DIV     BRD_SIZE_DIV   \n",
       " Min.   :-2.030000   Min.   :   0.00   Min.   :   0.0   Min.   :   0.0  \n",
       " 1st Qu.:-0.001275   1st Qu.:   0.00   1st Qu.:   0.0   1st Qu.:   0.0  \n",
       " Median : 0.045330   Median :   0.00   Median :   0.0   Median :   0.0  \n",
       " Mean   : 0.036846   Mean   : 147.22   Mean   : 180.4   Mean   : 203.5  \n",
       " 3rd Qu.: 0.172300   3rd Qu.:  92.01   3rd Qu.: 125.0   3rd Qu.: 100.0  \n",
       " Max.   : 0.741000   Max.   :4442.67   Max.   :4998.0   Max.   :4998.0  \n",
       " BRD_COMPT_DIV   BRD_EFFC_DIV   \n",
       " Min.   :   0   Min.   :   0.0  \n",
       " 1st Qu.:   0   1st Qu.:   0.0  \n",
       " Median :   0   Median :   0.0  \n",
       " Mean   : 182   Mean   : 172.0  \n",
       " 3rd Qu.: 125   3rd Qu.: 110.6  \n",
       " Max.   :4165   Max.   :4606.0  "
      ]
     },
     "execution_count": 102,
     "metadata": {},
     "output_type": "execute_result"
    }
   ],
   "source": [
    "summary(data)"
   ]
  },
  {
   "cell_type": "markdown",
   "metadata": {},
   "source": [
    "## Plotting "
   ]
  },
  {
   "cell_type": "code",
   "execution_count": 62,
   "metadata": {
    "collapsed": false
   },
   "outputs": [],
   "source": [
    "library(\"ggplot2\")"
   ]
  },
  {
   "cell_type": "code",
   "execution_count": 63,
   "metadata": {
    "collapsed": false
   },
   "outputs": [
    {
     "ename": "ERROR",
     "evalue": "Error in exists(name, envir = env, mode = mode): argument \"env\" is missing, with no default\n",
     "output_type": "error",
     "traceback": [
      "Error in exists(name, envir = env, mode = mode): argument \"env\" is missing, with no default\n"
     ]
    }
   ],
   "source": [
    "qplot( y = data$TOBINQ, x = data$SIZE)"
   ]
  },
  {
   "cell_type": "markdown",
   "metadata": {},
   "source": [
    "## Regression"
   ]
  },
  {
   "cell_type": "code",
   "execution_count": 66,
   "metadata": {
    "collapsed": false
   },
   "outputs": [],
   "source": [
    "library(\"plm\")"
   ]
  },
  {
   "cell_type": "code",
   "execution_count": 104,
   "metadata": {
    "collapsed": false
   },
   "outputs": [],
   "source": [
    "data_panel <- pdata.frame(data, index = c(\"Firm\", \"Year\"), drop.index =  TRUE, row.names = TRUE)"
   ]
  },
  {
   "cell_type": "code",
   "execution_count": 105,
   "metadata": {
    "collapsed": false
   },
   "outputs": [
    {
     "data": {
      "text/html": [
       "<table>\n",
       "<thead><tr><th></th><th scope=col>CEI</th><th scope=col>BRIB_CORR</th><th scope=col>BUSS_ETH</th><th scope=col>FAIR_COMP</th><th scope=col>POL_CONTR</th><th scope=col>INDIG_PPL</th><th scope=col>IND_EC_IMP</th><th scope=col>X0TH_ENG</th><th scope=col>ALT_CEI</th><th scope=col>BRD_EFFC</th><th scope=col>ellip.h</th><th scope=col>DIVIDEND</th><th scope=col>LOSS</th><th scope=col>TOT_ASSETS</th><th scope=col>SLACK</th><th scope=col>ROE</th><th scope=col>BRD_INDP_DIV</th><th scope=col>BRD_MEET_DIV</th><th scope=col>BRD_SIZE_DIV</th><th scope=col>BRD_COMPT_DIV</th><th scope=col>BRD_EFFC_DIV</th></tr></thead>\n",
       "<tbody>\n",
       "\t<tr><th scope=row>1-2011</th><td>0.57143</td><td>0</td><td>0.5</td><td>0.5</td><td>0.25</td><td>0.25</td><td>1</td><td>1</td><td>0.7</td><td>2.5</td><td>⋯</td><td>30.35</td><td>0</td><td>5.144545e+13</td><td>5.081927e+12</td><td>0.22</td><td>60.7</td><td>75.875</td><td>91.05</td><td>75.875</td><td>75.875</td></tr>\n",
       "\t<tr><th scope=row>1-2012</th><td>0.54762</td><td>0</td><td>0.25</td><td>0.25</td><td>0.5</td><td>1</td><td>1</td><td>0.8333</td><td>0.5</td><td>2.35294</td><td>⋯</td><td>55.82524</td><td>0</td><td>6.497336e+13</td><td>4.857942e+12</td><td>0.141</td><td>93.04225</td><td>158.1713</td><td>167.4757</td><td>139.5631</td><td>131.3534</td></tr>\n",
       "\t<tr><th scope=row>1-2013</th><td>0.52381</td><td>0</td><td>0.5</td><td>0.25</td><td>0.25</td><td>1</td><td>1</td><td>0.6667</td><td>0.5</td><td>2.23529</td><td>⋯</td><td>15.36585</td><td>0</td><td>8.212195e+13</td><td>8.308451e+12</td><td>0.074</td><td>28.17067</td><td>35.8536</td><td>46.09755</td><td>38.41463</td><td>34.34713</td></tr>\n",
       "\t<tr><th scope=row>1-2014</th><td>0.52381</td><td>0</td><td>0.5</td><td>0.25</td><td>0.25</td><td>1</td><td>1</td><td>0.6667</td><td>0.5</td><td>2.17647</td><td>⋯</td><td>29.375</td><td>0</td><td>8.0175e+13</td><td>9.3156e+12</td><td>0.056</td><td>44.0625</td><td>73.4375</td><td>88.125</td><td>73.4375</td><td>63.93381</td></tr>\n",
       "\t<tr><th scope=row>2-2011</th><td>0.4881</td><td>0</td><td>0.5</td><td>0.75</td><td>0</td><td>1</td><td>1</td><td>0.1667</td><td>0.3</td><td>2.26458</td><td>⋯</td><td>0</td><td>0</td><td>2.301384e+12</td><td>3.59163e+11</td><td>0.0569</td><td>0</td><td>0</td><td>0</td><td>0</td><td>0</td></tr>\n",
       "\t<tr><th scope=row>2-2012</th><td>0.7381</td><td>0</td><td>1</td><td>1</td><td>1</td><td>0.667</td><td>1</td><td>0.5</td><td>0.5</td><td>2.17647</td><td>⋯</td><td>0</td><td>1</td><td>2.903932e+12</td><td>152631066954</td><td>-0.0773</td><td>0</td><td>0</td><td>0</td><td>0</td><td>0</td></tr>\n",
       "</tbody>\n",
       "</table>\n"
      ],
      "text/latex": [
       "\\begin{tabular}{r|llllllllllllllllllllllll}\n",
       "  & CEI & BRIB_CORR & BUSS_ETH & FAIR_COMP & POL_CONTR & INDIG_PPL & IND_EC_IMP & X0TH_ENG & ALT_CEI & BRD_EFFC & ellip.h & DIVIDEND & LOSS & TOT_ASSETS & SLACK & ROE & BRD_INDP_DIV & BRD_MEET_DIV & BRD_SIZE_DIV & BRD_COMPT_DIV & BRD_EFFC_DIV\\\\\n",
       "\\hline\n",
       "\t1-2011 & 0.57143 & 0 & 0.5 & 0.5 & 0.25 & 0.25 & 1 & 1 & 0.7 & 2.5 & ⋯ & 30.35 & 0 & 5.144545e+13 & 5.081927e+12 & 0.22 & 60.7 & 75.875 & 91.05 & 75.875 & 75.875\\\\\n",
       "\t1-2012 & 0.54762 & 0 & 0.25 & 0.25 & 0.5 & 1 & 1 & 0.8333 & 0.5 & 2.35294 & ⋯ & 55.82524 & 0 & 6.497336e+13 & 4.857942e+12 & 0.141 & 93.04225 & 158.1713 & 167.4757 & 139.5631 & 131.3534\\\\\n",
       "\t1-2013 & 0.52381 & 0 & 0.5 & 0.25 & 0.25 & 1 & 1 & 0.6667 & 0.5 & 2.23529 & ⋯ & 15.36585 & 0 & 8.212195e+13 & 8.308451e+12 & 0.074 & 28.17067 & 35.8536 & 46.09755 & 38.41463 & 34.34713\\\\\n",
       "\t1-2014 & 0.52381 & 0 & 0.5 & 0.25 & 0.25 & 1 & 1 & 0.6667 & 0.5 & 2.17647 & ⋯ & 29.375 & 0 & 8.0175e+13 & 9.3156e+12 & 0.056 & 44.0625 & 73.4375 & 88.125 & 73.4375 & 63.93381\\\\\n",
       "\t2-2011 & 0.4881 & 0 & 0.5 & 0.75 & 0 & 1 & 1 & 0.1667 & 0.3 & 2.26458 & ⋯ & 0 & 0 & 2.301384e+12 & 3.59163e+11 & 0.0569 & 0 & 0 & 0 & 0 & 0\\\\\n",
       "\t2-2012 & 0.7381 & 0 & 1 & 1 & 1 & 0.667 & 1 & 0.5 & 0.5 & 2.17647 & ⋯ & 0 & 1 & 2.903932e+12 & 152631066954 & -0.0773 & 0 & 0 & 0 & 0 & 0\\\\\n",
       "\\end{tabular}\n"
      ],
      "text/plain": [
       "           CEI BRIB_CORR BUSS_ETH FAIR_COMP POL_CONTR INDIG_PPL IND_EC_IMP\n",
       "1-2011 0.57143         0     0.50      0.50      0.25     0.250          1\n",
       "1-2012 0.54762         0     0.25      0.25      0.50     1.000          1\n",
       "1-2013 0.52381         0     0.50      0.25      0.25     1.000          1\n",
       "1-2014 0.52381         0     0.50      0.25      0.25     1.000          1\n",
       "2-2011 0.48810         0     0.50      0.75      0.00     1.000          1\n",
       "2-2012 0.73810         0     1.00      1.00      1.00     0.667          1\n",
       "       X0TH_ENG ALT_CEI BRD_EFFC BRD_INDP BRD_MEET BRD_SIZE BRD_COMPT DIVIDEND\n",
       "1-2011   1.0000     0.7  2.50000  2.00000  2.50000        3     2.500 30.35000\n",
       "1-2012   0.8333     0.5  2.35294  1.66667  2.83333        3     2.500 55.82524\n",
       "1-2013   0.6667     0.5  2.23529  1.83333  2.33333        3     2.500 15.36585\n",
       "1-2014   0.6667     0.5  2.17647  1.50000  2.50000        3     2.500 29.37500\n",
       "2-2011   0.1667     0.3  2.26458  1.83333  2.00000        3     2.225  0.00000\n",
       "2-2012   0.5000     0.5  2.17647  1.83333  2.16667        3     2.500  0.00000\n",
       "       LOSS   TOT_ASSETS        SLACK     ROE BRD_INDP_DIV BRD_MEET_DIV\n",
       "1-2011    0 5.144545e+13 5.081927e+12  0.2200     60.70000      75.8750\n",
       "1-2012    0 6.497336e+13 4.857942e+12  0.1410     93.04225     158.1713\n",
       "1-2013    0 8.212195e+13 8.308451e+12  0.0740     28.17067      35.8536\n",
       "1-2014    0 8.017500e+13 9.315600e+12  0.0560     44.06250      73.4375\n",
       "2-2011    0 2.301384e+12 3.591630e+11  0.0569      0.00000       0.0000\n",
       "2-2012    1 2.903932e+12 1.526311e+11 -0.0773      0.00000       0.0000\n",
       "       BRD_SIZE_DIV BRD_COMPT_DIV BRD_EFFC_DIV\n",
       "1-2011     91.05000      75.87500     75.87500\n",
       "1-2012    167.47572     139.56310    131.35344\n",
       "1-2013     46.09755      38.41463     34.34713\n",
       "1-2014     88.12500      73.43750     63.93381\n",
       "2-2011      0.00000       0.00000      0.00000\n",
       "2-2012      0.00000       0.00000      0.00000"
      ]
     },
     "execution_count": 105,
     "metadata": {},
     "output_type": "execute_result"
    }
   ],
   "source": [
    "head(data_panel)"
   ]
  },
  {
   "cell_type": "code",
   "execution_count": 69,
   "metadata": {
    "collapsed": false
   },
   "outputs": [],
   "source": [
    "tabel2_reg1 <- plm(CEI ~ BRD_INDP + BRD_MEET + BRD_SIZE + BRD_COMPT, data = data_panel, model = \"within\" )\n",
    "tabel2_reg2 <- plm(CEI ~ BRD_INDP + BRD_MEET + BRD_SIZE + BRD_COMPT + LOSS + TOT_ASSETS + SLACK + ROE , data = data_panel, model = \"within\" )\n",
    "tabel2_reg3 <- plm(BRIB_CORR ~ BRD_INDP + BRD_MEET + BRD_SIZE + BRD_COMPT + LOSS + TOT_ASSETS + SLACK + ROE , data = data_panel, model = \"within\" )\n",
    "tabel2_reg4 <- plm(BUSS_ETH ~ BRD_INDP + BRD_MEET + BRD_SIZE + BRD_COMPT + LOSS + TOT_ASSETS + SLACK + ROE , data = data_panel, model = \"within\" )\n",
    "tabel2_reg5 <- plm(FAIR_COMP ~ BRD_INDP + BRD_MEET + BRD_SIZE + BRD_COMPT + LOSS + TOT_ASSETS + SLACK + ROE , data = data_panel, model = \"within\" )\n",
    "tabel2_reg6 <- plm(POL_CONTR ~ BRD_INDP + BRD_MEET + BRD_SIZE + BRD_COMPT + LOSS + TOT_ASSETS + SLACK + ROE , data = data_panel, model = \"within\" )\n",
    "tabel2_reg7 <- plm(INDIG_PPL ~ BRD_INDP + BRD_MEET + BRD_SIZE + BRD_COMPT + LOSS + TOT_ASSETS + SLACK + ROE , data = data_panel, model = \"within\" )\n",
    "tabel2_reg8 <- plm(IND_EC_IMP ~ BRD_INDP + BRD_MEET + BRD_SIZE + BRD_COMPT + LOSS + TOT_ASSETS + SLACK + ROE , data = data_panel, model = \"within\" )\n",
    "tabel2_reg9 <- plm(X0TH_ENG ~ BRD_INDP + BRD_MEET + BRD_SIZE + BRD_COMPT + LOSS + TOT_ASSETS + SLACK + ROE , data = data_panel, model = \"within\" )\n"
   ]
  },
  {
   "cell_type": "code",
   "execution_count": null,
   "metadata": {
    "collapsed": false
   },
   "outputs": [],
   "source": []
  },
  {
   "cell_type": "code",
   "execution_count": 70,
   "metadata": {
    "collapsed": false
   },
   "outputs": [
    {
     "ename": "ERROR",
     "evalue": "Error in crossprod(t(X), beta): non-conformable arguments\n",
     "output_type": "error",
     "traceback": [
      "Error in crossprod(t(X), beta): non-conformable arguments\n"
     ]
    }
   ],
   "source": [
    "library(lmtest)\n",
    "summary(tabel2_reg2)"
   ]
  },
  {
   "cell_type": "code",
   "execution_count": 71,
   "metadata": {
    "collapsed": false
   },
   "outputs": [],
   "source": [
    "tabel3_reg2 <- plm(CEI ~ BRD_INDP + BRD_MEET + BRD_SIZE + BRD_COMPT + DIVIDEND +  LOSS + TOT_ASSETS + SLACK + ROE , data = data_panel, model = \"within\" )\n",
    "tabel3_reg2 <- plm(CEI ~ BRD_INDP + BRD_MEET + BRD_SIZE + BRD_COMPT + DIVIDEND + BRD_INDP_DIV + LOSS + TOT_ASSETS + SLACK + ROE , data = data_panel, model = \"within\" )\n",
    "tabel3_reg3 <- plm(CEI ~ BRD_INDP + BRD_MEET + BRD_SIZE + BRD_COMPT + DIVIDEND + BRD_MEET_DIV +LOSS + TOT_ASSETS + SLACK + ROE , data = data_panel, model = \"within\" )\n",
    "tabel3_reg4 <- plm(CEI ~ BRD_INDP + BRD_MEET + BRD_SIZE + BRD_COMPT + DIVIDEND + BRD_SIZE_DIV +LOSS + TOT_ASSETS + SLACK + ROE , data = data_panel, model = \"within\" )\n",
    "tabel3_reg5 <- plm(CEI ~ BRD_INDP + BRD_MEET + BRD_SIZE + BRD_COMPT + DIVIDEND + BRD_COMPT_DIV +LOSS + TOT_ASSETS + SLACK + ROE , data = data_panel, model = \"within\" )"
   ]
  },
  {
   "cell_type": "code",
   "execution_count": 72,
   "metadata": {
    "collapsed": false
   },
   "outputs": [
    {
     "ename": "ERROR",
     "evalue": "Error in solve.default(crossprod(demX)): system is computationally singular: reciprocal condition number = 9.39067e-54\n",
     "output_type": "error",
     "traceback": [
      "Error in solve.default(crossprod(demX)): system is computationally singular: reciprocal condition number = 9.39067e-54\n"
     ]
    },
    {
     "ename": "ERROR",
     "evalue": "Error in solve.default(crossprod(demX)): system is computationally singular: reciprocal condition number = 9.39067e-54\n",
     "output_type": "error",
     "traceback": [
      "Error in solve.default(crossprod(demX)): system is computationally singular: reciprocal condition number = 9.39067e-54\n"
     ]
    }
   ],
   "source": [
    "# tabel3_reg51 <- plm(CEI ~ BRD_INDP + BRD_MEET + BRD_SIZE + BRD_COMPT + DIVIDEND + BRD_COMPT_DIV +LOSS + TOT_ASSETS + SLACK + ROE , data = data_panel, model = \"within\",\n",
    "#                    vcovHC = c(type = c(\"HC0\", \"HC1\", \"HC2\", \"HC3\", \"HC4\"),\n",
    "# cluster = c(\"group\",\"time\"),\n",
    "# diagonal = FALSE ))\n",
    "# summary(tabel3_reg51)\n",
    "robust1 <- coeftest(tabel2_reg2, vcov=function(x) vcovHC(x, method=\"arellano\",\n",
    " type=\"HC1\", cluster=\"group\"))\n",
    "robust2 <- coeftest(tabel2_reg3, vcov=function(x) vcovHC(x, method=\"arellano\",\n",
    " type=\"HC1\", cluster=\"group\"))\n",
    "    "
   ]
  },
  {
   "cell_type": "code",
   "execution_count": 73,
   "metadata": {
    "collapsed": false
   },
   "outputs": [
    {
     "ename": "ERROR",
     "evalue": "Error in crossprod(t(X), beta): non-conformable arguments\n",
     "output_type": "error",
     "traceback": [
      "Error in crossprod(t(X), beta): non-conformable arguments\n"
     ]
    }
   ],
   "source": [
    "summary(tabel3_reg5)"
   ]
  },
  {
   "cell_type": "code",
   "execution_count": 74,
   "metadata": {
    "collapsed": false
   },
   "outputs": [
    {
     "data": {
      "text/html": [
       "<ol class=list-inline>\n",
       "\t<li>'X'</li>\n",
       "\t<li>'Firm'</li>\n",
       "\t<li>'Year'</li>\n",
       "\t<li>'CEI'</li>\n",
       "\t<li>'BRIB_CORR'</li>\n",
       "\t<li>'BUSS_ETH'</li>\n",
       "\t<li>'FAIR_COMP'</li>\n",
       "\t<li>'POL_CONTR'</li>\n",
       "\t<li>'INDIG_PPL'</li>\n",
       "\t<li>'IND_EC_IMP'</li>\n",
       "\t<li>'X0TH_ENG'</li>\n",
       "\t<li>'ALT_CEI'</li>\n",
       "\t<li>'BRD_EFFC'</li>\n",
       "\t<li>'BRD_INDP'</li>\n",
       "\t<li>'BRD_MEET'</li>\n",
       "\t<li>'BRD_SIZE'</li>\n",
       "\t<li>'BRD_COMPT'</li>\n",
       "\t<li>'DIVIDEND'</li>\n",
       "\t<li>'LOSS'</li>\n",
       "\t<li>'TOT_ASSETS'</li>\n",
       "\t<li>'SLACK'</li>\n",
       "\t<li>'ROE'</li>\n",
       "\t<li>'BRD_INDP_DIV'</li>\n",
       "\t<li>'BRD_MEET_DIV'</li>\n",
       "\t<li>'BRD_SIZE_DIV'</li>\n",
       "\t<li>'BRD_COMPT_DIV'</li>\n",
       "\t<li>'BRD_EFFC_DIV'</li>\n",
       "</ol>\n"
      ],
      "text/latex": [
       "\\begin{enumerate*}\n",
       "\\item 'X'\n",
       "\\item 'Firm'\n",
       "\\item 'Year'\n",
       "\\item 'CEI'\n",
       "\\item 'BRIB_CORR'\n",
       "\\item 'BUSS_ETH'\n",
       "\\item 'FAIR_COMP'\n",
       "\\item 'POL_CONTR'\n",
       "\\item 'INDIG_PPL'\n",
       "\\item 'IND_EC_IMP'\n",
       "\\item 'X0TH_ENG'\n",
       "\\item 'ALT_CEI'\n",
       "\\item 'BRD_EFFC'\n",
       "\\item 'BRD_INDP'\n",
       "\\item 'BRD_MEET'\n",
       "\\item 'BRD_SIZE'\n",
       "\\item 'BRD_COMPT'\n",
       "\\item 'DIVIDEND'\n",
       "\\item 'LOSS'\n",
       "\\item 'TOT_ASSETS'\n",
       "\\item 'SLACK'\n",
       "\\item 'ROE'\n",
       "\\item 'BRD_INDP_DIV'\n",
       "\\item 'BRD_MEET_DIV'\n",
       "\\item 'BRD_SIZE_DIV'\n",
       "\\item 'BRD_COMPT_DIV'\n",
       "\\item 'BRD_EFFC_DIV'\n",
       "\\end{enumerate*}\n"
      ],
      "text/markdown": [
       "1. 'X'\n",
       "2. 'Firm'\n",
       "3. 'Year'\n",
       "4. 'CEI'\n",
       "5. 'BRIB_CORR'\n",
       "6. 'BUSS_ETH'\n",
       "7. 'FAIR_COMP'\n",
       "8. 'POL_CONTR'\n",
       "9. 'INDIG_PPL'\n",
       "10. 'IND_EC_IMP'\n",
       "11. 'X0TH_ENG'\n",
       "12. 'ALT_CEI'\n",
       "13. 'BRD_EFFC'\n",
       "14. 'BRD_INDP'\n",
       "15. 'BRD_MEET'\n",
       "16. 'BRD_SIZE'\n",
       "17. 'BRD_COMPT'\n",
       "18. 'DIVIDEND'\n",
       "19. 'LOSS'\n",
       "20. 'TOT_ASSETS'\n",
       "21. 'SLACK'\n",
       "22. 'ROE'\n",
       "23. 'BRD_INDP_DIV'\n",
       "24. 'BRD_MEET_DIV'\n",
       "25. 'BRD_SIZE_DIV'\n",
       "26. 'BRD_COMPT_DIV'\n",
       "27. 'BRD_EFFC_DIV'\n",
       "\n",
       "\n"
      ],
      "text/plain": [
       " [1] \"X\"             \"Firm\"          \"Year\"          \"CEI\"          \n",
       " [5] \"BRIB_CORR\"     \"BUSS_ETH\"      \"FAIR_COMP\"     \"POL_CONTR\"    \n",
       " [9] \"INDIG_PPL\"     \"IND_EC_IMP\"    \"X0TH_ENG\"      \"ALT_CEI\"      \n",
       "[13] \"BRD_EFFC\"      \"BRD_INDP\"      \"BRD_MEET\"      \"BRD_SIZE\"     \n",
       "[17] \"BRD_COMPT\"     \"DIVIDEND\"      \"LOSS\"          \"TOT_ASSETS\"   \n",
       "[21] \"SLACK\"         \"ROE\"           \"BRD_INDP_DIV\"  \"BRD_MEET_DIV\" \n",
       "[25] \"BRD_SIZE_DIV\"  \"BRD_COMPT_DIV\" \"BRD_EFFC_DIV\" "
      ]
     },
     "execution_count": 74,
     "metadata": {},
     "output_type": "execute_result"
    }
   ],
   "source": [
    "names(data)"
   ]
  },
  {
   "cell_type": "code",
   "execution_count": 75,
   "metadata": {
    "collapsed": false
   },
   "outputs": [
    {
     "ename": "ERROR",
     "evalue": "Error in solve.default(crossprod(demX)): system is computationally singular: reciprocal condition number = 9.39067e-54\n",
     "output_type": "error",
     "traceback": [
      "Error in solve.default(crossprod(demX)): system is computationally singular: reciprocal condition number = 9.39067e-54\n"
     ]
    }
   ],
   "source": [
    "vcovHC(tabel2_reg2 , method = c(\"arellano\", \"white1\", \"white2\"),\n",
    "                        type = c(\"HC0\", \"HC1\", \"HC2\", \"HC3\", \"HC4\"),\n",
    "                        cluster = c(\"group\",\"time\"))"
   ]
  },
  {
   "cell_type": "code",
   "execution_count": null,
   "metadata": {
    "collapsed": true
   },
   "outputs": [],
   "source": [
    "tabel4_reg1 <- plm(CEI ~ BRD_EFFC +  DIVIDEND +  LOSS + TOT_ASSETS + SLACK + ROE, data = data_panel, model = \"within\" )\n",
    "tabel4_reg2 <- plm(ALT_CEI ~ BRD_EFFC +  DIVIDEND +  LOSS + TOT_ASSETS + SLACK + ROE, data = data_panel, data = data_panel, model = \"within\" )\n",
    "tabel4_reg3 <- plm(CEI ~ BRD_EFFC +  DIVIDEND + BRD_EFFC_DIV + LOSS + TOT_ASSETS + SLACK + ROE, data = data_panel, model = \"within\" )\n",
    "tabel4_reg4 <- plm(ALT_CEI ~ BRD_EFFC +  DIVIDEND + BRD_EFFC_DIV + LOSS + TOT_ASSETS + SLACK + ROE, data = data_panel, model = \"within\" )\n",
    "tabel4_reg5 <- plm(CEI ~ BRD_INDP + BRD_MEET + BRD_SIZE + BRD_COMPT, data = data_panel, model = \"within\" )\n",
    "tabel4_reg6 <- plm(CEI ~ BRD_INDP + BRD_MEET + BRD_SIZE + BRD_COMPT, data = data_panel, model = \"within\" )\n"
   ]
  },
  {
   "cell_type": "markdown",
   "metadata": {},
   "source": [
    "## Coba Regresi Billy"
   ]
  },
  {
   "cell_type": "markdown",
   "metadata": {},
   "source": [
    "## Hausman Test: H0: RE vs H1: FE "
   ]
  },
  {
   "cell_type": "code",
   "execution_count": 76,
   "metadata": {
    "collapsed": false
   },
   "outputs": [
    {
     "ename": "ERROR",
     "evalue": "Error in eval(expr, envir, enclos): object 'TOBINQ' not found\n",
     "output_type": "error",
     "traceback": [
      "Error in eval(expr, envir, enclos): object 'TOBINQ' not found\n"
     ]
    },
    {
     "ename": "ERROR",
     "evalue": "Error in eval(expr, envir, enclos): object 'TOBINQ' not found\n",
     "output_type": "error",
     "traceback": [
      "Error in eval(expr, envir, enclos): object 'TOBINQ' not found\n"
     ]
    }
   ],
   "source": [
    "skripsi.fe <- plm(TOBINQ ~ PDEBT + LogAssets + LEV + LIQ + INTCOV + PROF + DR + GROWTH + FIRMAGE, data = data_panel, model = \"within\")\n",
    "skripsi.re <- plm(TOBINQ ~ PDEBT + LogAssets + LEV + LIQ + INTCOV + PROF + DR + GROWTH + FIRMAGE, data = data_panel, model = \"random\")"
   ]
  },
  {
   "cell_type": "code",
   "execution_count": 77,
   "metadata": {
    "collapsed": false
   },
   "outputs": [
    {
     "ename": "ERROR",
     "evalue": "Error in summary(skripsi.fe): object 'skripsi.fe' not found\n",
     "output_type": "error",
     "traceback": [
      "Error in summary(skripsi.fe): object 'skripsi.fe' not found\n"
     ]
    }
   ],
   "source": [
    "summary(skripsi.fe)"
   ]
  },
  {
   "cell_type": "code",
   "execution_count": 78,
   "metadata": {
    "collapsed": false
   },
   "outputs": [
    {
     "ename": "ERROR",
     "evalue": "Error in summary(skripsi.re): object 'skripsi.re' not found\n",
     "output_type": "error",
     "traceback": [
      "Error in summary(skripsi.re): object 'skripsi.re' not found\n"
     ]
    }
   ],
   "source": [
    "summary(skripsi.re)"
   ]
  },
  {
   "cell_type": "code",
   "execution_count": 79,
   "metadata": {
    "collapsed": false
   },
   "outputs": [
    {
     "ename": "ERROR",
     "evalue": "Error in phtest(skripsi.fe, skripsi.re): object 'skripsi.fe' not found\n",
     "output_type": "error",
     "traceback": [
      "Error in phtest(skripsi.fe, skripsi.re): object 'skripsi.fe' not found\n"
     ]
    }
   ],
   "source": [
    "phtest( skripsi.fe, skripsi.re)"
   ]
  },
  {
   "cell_type": "markdown",
   "metadata": {},
   "source": [
    "## Hausman menghasilkan penggunaan Fixed Effect\n",
    "\n",
    "- - -\n",
    "- - - \n",
    "- - -\n",
    "- - - \n",
    "- - -\n",
    "- - - "
   ]
  },
  {
   "cell_type": "markdown",
   "metadata": {},
   "source": [
    "## Poolability Test"
   ]
  },
  {
   "cell_type": "code",
   "execution_count": 80,
   "metadata": {
    "collapsed": false
   },
   "outputs": [
    {
     "ename": "ERROR",
     "evalue": "Error in eval(expr, envir, enclos): object 'TOBINQ' not found\n",
     "output_type": "error",
     "traceback": [
      "Error in eval(expr, envir, enclos): object 'TOBINQ' not found\n"
     ]
    }
   ],
   "source": [
    "pooltest.billy <- pooltest(TOBINQ ~ PDEBT + FIRMAGE + LIQ, data = data_panel, model=\"within\")"
   ]
  },
  {
   "cell_type": "code",
   "execution_count": 81,
   "metadata": {
    "collapsed": false
   },
   "outputs": [
    {
     "ename": "ERROR",
     "evalue": "Error in eval(expr, envir, enclos): object 'pooltest.billy' not found\n",
     "output_type": "error",
     "traceback": [
      "Error in eval(expr, envir, enclos): object 'pooltest.billy' not found\n"
     ]
    }
   ],
   "source": [
    "pooltest.billy"
   ]
  },
  {
   "cell_type": "markdown",
   "metadata": {},
   "source": [
    "## Bruesch Pagan Test"
   ]
  },
  {
   "cell_type": "code",
   "execution_count": 82,
   "metadata": {
    "collapsed": false
   },
   "outputs": [
    {
     "ename": "ERROR",
     "evalue": "Error in eval(expr, envir, enclos): object 'TOBINQ' not found\n",
     "output_type": "error",
     "traceback": [
      "Error in eval(expr, envir, enclos): object 'TOBINQ' not found\n"
     ]
    },
    {
     "ename": "ERROR",
     "evalue": "Error in plmtest(pool_rergression, effect = \"twoways\", type = \"bp\"): object 'pool_rergression' not found\n",
     "output_type": "error",
     "traceback": [
      "Error in plmtest(pool_rergression, effect = \"twoways\", type = \"bp\"): object 'pool_rergression' not found\n"
     ]
    }
   ],
   "source": [
    "pool_rergression <- plm(TOBINQ ~ PDEBT + SIZE + LEV + LIQ + INTCOV + PROF + DR + GROWTH + FIRMAGE, data = data_panel, model=\"pooling\")\n",
    "bpagan_test <- plmtest(pool_rergression,effect=\"twoways\",type=\"bp\")"
   ]
  },
  {
   "cell_type": "code",
   "execution_count": 83,
   "metadata": {
    "collapsed": false
   },
   "outputs": [
    {
     "ename": "ERROR",
     "evalue": "Error in eval(expr, envir, enclos): object 'bpagan_test' not found\n",
     "output_type": "error",
     "traceback": [
      "Error in eval(expr, envir, enclos): object 'bpagan_test' not found\n"
     ]
    }
   ],
   "source": [
    "bpagan_test"
   ]
  },
  {
   "cell_type": "markdown",
   "metadata": {},
   "source": [
    "# BP Test significant dan Hausman significant, sehinggga menggunakan Fixed effect "
   ]
  },
  {
   "cell_type": "code",
   "execution_count": 84,
   "metadata": {
    "collapsed": false
   },
   "outputs": [
    {
     "ename": "ERROR",
     "evalue": "Error in summary(skripsi.fe): object 'skripsi.fe' not found\n",
     "output_type": "error",
     "traceback": [
      "Error in summary(skripsi.fe): object 'skripsi.fe' not found\n"
     ]
    }
   ],
   "source": [
    "summary(skripsi.fe)"
   ]
  },
  {
   "cell_type": "code",
   "execution_count": 85,
   "metadata": {
    "collapsed": false
   },
   "outputs": [
    {
     "data": {
      "text/plain": [
       "       X               CEI           BRIB_CORR         BUSS_ETH     \n",
       " Min.   :  0.00   Min.   :0.0000   Min.   :0.0000   Min.   :0.0000  \n",
       " 1st Qu.: 35.75   1st Qu.:0.3051   1st Qu.:0.0000   1st Qu.:0.0000  \n",
       " Median : 71.50   Median :0.4702   Median :0.0000   Median :0.5000  \n",
       " Mean   : 71.50   Mean   :0.4814   Mean   :0.2542   Mean   :0.4462  \n",
       " 3rd Qu.:107.25   3rd Qu.:0.6958   3rd Qu.:0.6000   3rd Qu.:0.7500  \n",
       " Max.   :143.00   Max.   :0.9524   Max.   :1.0000   Max.   :1.0000  \n",
       "   FAIR_COMP        POL_CONTR        INDIG_PPL        IND_EC_IMP    \n",
       " Min.   :0.0000   Min.   :0.0000   Min.   :0.0000   Min.   :0.0000  \n",
       " 1st Qu.:0.0000   1st Qu.:0.0000   1st Qu.:0.6667   1st Qu.:1.0000  \n",
       " Median :0.0000   Median :0.0000   Median :1.0000   Median :1.0000  \n",
       " Mean   :0.2708   Mean   :0.3316   Mean   :0.7865   Mean   :0.8681  \n",
       " 3rd Qu.:0.5000   3rd Qu.:0.7500   3rd Qu.:1.0000   3rd Qu.:1.0000  \n",
       " Max.   :1.0000   Max.   :1.0000   Max.   :1.0000   Max.   :1.0000  \n",
       "    X0TH_ENG         ALT_CEI          BRD_EFFC        BRD_INDP    \n",
       " Min.   :0.0000   Min.   :0.0000   Min.   :1.458   Min.   :1.167  \n",
       " 1st Qu.:0.3332   1st Qu.:0.3000   1st Qu.:2.059   1st Qu.:1.833  \n",
       " Median :0.5000   Median :0.5000   Median :2.235   Median :1.833  \n",
       " Mean   :0.5060   Mean   :0.4361   Mean   :2.231   Mean   :1.960  \n",
       " 3rd Qu.:0.6667   3rd Qu.:0.6000   3rd Qu.:2.412   3rd Qu.:2.167  \n",
       " Max.   :1.0000   Max.   :0.8000   Max.   :2.882   Max.   :3.000  \n",
       "    BRD_MEET        BRD_SIZE      BRD_COMPT        DIVIDEND      \n",
       " Min.   :1.000   Min.   :1.00   Min.   :1.750   Min.   :   0.00  \n",
       " 1st Qu.:2.000   1st Qu.:1.00   1st Qu.:2.500   1st Qu.:   0.00  \n",
       " Median :2.333   Median :3.00   Median :2.500   Median :   0.00  \n",
       " Mean   :2.333   Mean   :2.09   Mean   :2.525   Mean   :  70.24  \n",
       " 3rd Qu.:2.667   3rd Qu.:3.00   3rd Qu.:2.500   3rd Qu.:  50.00  \n",
       " Max.   :3.000   Max.   :3.00   Max.   :3.000   Max.   :1666.00  \n",
       "      LOSS          TOT_ASSETS            SLACK                ROE           \n",
       " Min.   :0.0000   Min.   :9.957e+07   Min.   :2.649e+06   Min.   :-2.030000  \n",
       " 1st Qu.:0.0000   1st Qu.:7.557e+11   1st Qu.:4.009e+10   1st Qu.:-0.001275  \n",
       " Median :0.0000   Median :3.332e+12   Median :3.073e+11   Median : 0.045330  \n",
       " Mean   :0.3125   Mean   :2.508e+24   Mean   :2.794e+24   Mean   : 0.036846  \n",
       " 3rd Qu.:1.0000   3rd Qu.:1.348e+13   3rd Qu.:1.597e+12   3rd Qu.: 0.172300  \n",
       " Max.   :1.0000   Max.   :3.611e+26   Max.   :4.023e+26   Max.   : 0.741000  \n",
       "  BRD_INDP_DIV      BRD_MEET_DIV     BRD_SIZE_DIV    BRD_COMPT_DIV \n",
       " Min.   :   0.00   Min.   :   0.0   Min.   :   0.0   Min.   :   0  \n",
       " 1st Qu.:   0.00   1st Qu.:   0.0   1st Qu.:   0.0   1st Qu.:   0  \n",
       " Median :   0.00   Median :   0.0   Median :   0.0   Median :   0  \n",
       " Mean   : 147.22   Mean   : 180.4   Mean   : 203.5   Mean   : 182  \n",
       " 3rd Qu.:  92.01   3rd Qu.: 125.0   3rd Qu.: 100.0   3rd Qu.: 125  \n",
       " Max.   :4442.67   Max.   :4998.0   Max.   :4998.0   Max.   :4165  \n",
       "  BRD_EFFC_DIV   \n",
       " Min.   :   0.0  \n",
       " 1st Qu.:   0.0  \n",
       " Median :   0.0  \n",
       " Mean   : 172.0  \n",
       " 3rd Qu.: 110.6  \n",
       " Max.   :4606.0  "
      ]
     },
     "execution_count": 85,
     "metadata": {},
     "output_type": "execute_result"
    }
   ],
   "source": [
    "summary(data_panel)"
   ]
  },
  {
   "cell_type": "markdown",
   "metadata": {},
   "source": [
    "- - - \n",
    "- - - \n",
    "- - - \n",
    "- - - \n",
    "- - - \n",
    "- - - \n",
    "- - - \n",
    "- - - \n",
    "- - - \n",
    "- - - \n",
    "- - - \n",
    "- - - \n",
    "- - - \n",
    "- - - \n",
    "- - - \n"
   ]
  },
  {
   "cell_type": "code",
   "execution_count": 86,
   "metadata": {
    "collapsed": false
   },
   "outputs": [
    {
     "ename": "ERROR",
     "evalue": "Error in exists(name, envir = env, mode = mode): argument \"env\" is missing, with no default\n",
     "output_type": "error",
     "traceback": [
      "Error in exists(name, envir = env, mode = mode): argument \"env\" is missing, with no default\n"
     ]
    }
   ],
   "source": [
    "qplot(y = data$LogTobinsQ, x = data$LIQ, geom = c(\"point\", \"smooth\"), method = lm)"
   ]
  },
  {
   "cell_type": "code",
   "execution_count": 87,
   "metadata": {
    "collapsed": false
   },
   "outputs": [
    {
     "ename": "ERROR",
     "evalue": "Error in var(data$LIQ): 'x' is NULL\n",
     "output_type": "error",
     "traceback": [
      "Error in var(data$LIQ): 'x' is NULL\n"
     ]
    }
   ],
   "source": [
    "var(data$LIQ)"
   ]
  },
  {
   "cell_type": "code",
   "execution_count": 88,
   "metadata": {
    "collapsed": false
   },
   "outputs": [
    {
     "ename": "ERROR",
     "evalue": "Error in var(data$TOBINQ): 'x' is NULL\n",
     "output_type": "error",
     "traceback": [
      "Error in var(data$TOBINQ): 'x' is NULL\n"
     ]
    }
   ],
   "source": [
    "var(data$TOBINQ)"
   ]
  },
  {
   "cell_type": "code",
   "execution_count": 89,
   "metadata": {
    "collapsed": false
   },
   "outputs": [
    {
     "ename": "ERROR",
     "evalue": "Error in exists(name, envir = env, mode = mode): argument \"env\" is missing, with no default\n",
     "output_type": "error",
     "traceback": [
      "Error in exists(name, envir = env, mode = mode): argument \"env\" is missing, with no default\n"
     ]
    }
   ],
   "source": [
    "qplot(data$TOBINQ)"
   ]
  },
  {
   "cell_type": "code",
   "execution_count": 90,
   "metadata": {
    "collapsed": false
   },
   "outputs": [
    {
     "ename": "ERROR",
     "evalue": "Error in eval(expr, envir, enclos): object 'TOBINQ' not found\n",
     "output_type": "error",
     "traceback": [
      "Error in eval(expr, envir, enclos): object 'TOBINQ' not found\n"
     ]
    }
   ],
   "source": [
    "skripsi.try1 <- plm(log(TOBINQ) ~ PDEBT + log(SIZE) + log(LEV) + log(LIQ) + log(INTCOV) + log(PROF) + DR + log(GROWTH) + FIRMAGE + y1 + y2 + y3 , data = data_panel, model = \"within\")\n"
   ]
  },
  {
   "cell_type": "code",
   "execution_count": 91,
   "metadata": {
    "collapsed": false
   },
   "outputs": [
    {
     "ename": "ERROR",
     "evalue": "Error in summary(skripsi.try1): object 'skripsi.try1' not found\n",
     "output_type": "error",
     "traceback": [
      "Error in summary(skripsi.try1): object 'skripsi.try1' not found\n"
     ]
    }
   ],
   "source": [
    "summary(skripsi.try1)"
   ]
  },
  {
   "cell_type": "code",
   "execution_count": 92,
   "metadata": {
    "collapsed": false
   },
   "outputs": [
    {
     "name": "stderr",
     "output_type": "stream",
     "text": [
      "Installing package into ‘/home/qbits7/R/x86_64-pc-linux-gnu-library/3.2’\n",
      "(as ‘lib’ is unspecified)\n"
     ]
    },
    {
     "ename": "ERROR",
     "evalue": "Error in contrib.url(repos, type): trying to use CRAN without setting a mirror\n",
     "output_type": "error",
     "traceback": [
      "Error in contrib.url(repos, type): trying to use CRAN without setting a mirror\n"
     ]
    }
   ],
   "source": [
    "install.packages(\"R2wd\")"
   ]
  },
  {
   "cell_type": "code",
   "execution_count": null,
   "metadata": {
    "collapsed": true
   },
   "outputs": [],
   "source": []
  },
  {
   "cell_type": "code",
   "execution_count": null,
   "metadata": {
    "collapsed": true
   },
   "outputs": [],
   "source": []
  },
  {
   "cell_type": "code",
   "execution_count": null,
   "metadata": {
    "collapsed": true
   },
   "outputs": [],
   "source": []
  },
  {
   "cell_type": "code",
   "execution_count": null,
   "metadata": {
    "collapsed": true
   },
   "outputs": [],
   "source": []
  },
  {
   "cell_type": "code",
   "execution_count": null,
   "metadata": {
    "collapsed": true
   },
   "outputs": [],
   "source": []
  },
  {
   "cell_type": "code",
   "execution_count": null,
   "metadata": {
    "collapsed": true
   },
   "outputs": [],
   "source": []
  }
 ],
 "metadata": {
  "kernelspec": {
   "display_name": "R",
   "language": "R",
   "name": "ir"
  },
  "language_info": {
   "codemirror_mode": "r",
   "file_extension": ".r",
   "mimetype": "text/x-r-source",
   "name": "R",
   "pygments_lexer": "r",
   "version": "3.2.2"
  }
 },
 "nbformat": 4,
 "nbformat_minor": 0
}
