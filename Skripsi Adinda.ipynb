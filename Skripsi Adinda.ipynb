{
 "cells": [
  {
   "cell_type": "markdown",
   "metadata": {},
   "source": [
    "## Uploading data Adinda"
   ]
  },
  {
   "cell_type": "code",
   "execution_count": 127,
   "metadata": {
    "collapsed": false
   },
   "outputs": [],
   "source": [
    "data <- read.csv(\"adinda.clean2.csv\")"
   ]
  },
  {
   "cell_type": "code",
   "execution_count": 132,
   "metadata": {
    "collapsed": false
   },
   "outputs": [
    {
     "data": {
      "text/plain": [
       "      CEI           BRIB_CORR         BUSS_ETH        FAIR_COMP     \n",
       " Min.   :0.0000   Min.   :0.0000   Min.   :0.0000   Min.   :0.0000  \n",
       " 1st Qu.:0.3051   1st Qu.:0.0000   1st Qu.:0.0000   1st Qu.:0.0000  \n",
       " Median :0.4702   Median :0.0000   Median :0.5000   Median :0.0000  \n",
       " Mean   :0.4814   Mean   :0.2542   Mean   :0.4462   Mean   :0.2708  \n",
       " 3rd Qu.:0.6958   3rd Qu.:0.6000   3rd Qu.:0.7500   3rd Qu.:0.5000  \n",
       " Max.   :0.9524   Max.   :1.0000   Max.   :1.0000   Max.   :1.0000  \n",
       "   POL_CONTR        INDIG_PPL        IND_EC_IMP        X0TH_ENG     \n",
       " Min.   :0.0000   Min.   :0.0000   Min.   :0.0000   Min.   :0.0000  \n",
       " 1st Qu.:0.0000   1st Qu.:0.6667   1st Qu.:1.0000   1st Qu.:0.3332  \n",
       " Median :0.0000   Median :1.0000   Median :1.0000   Median :0.5000  \n",
       " Mean   :0.3316   Mean   :0.7865   Mean   :0.8681   Mean   :0.5060  \n",
       " 3rd Qu.:0.7500   3rd Qu.:1.0000   3rd Qu.:1.0000   3rd Qu.:0.6667  \n",
       " Max.   :1.0000   Max.   :1.0000   Max.   :1.0000   Max.   :1.0000  \n",
       "    ALT_CEI          BRD_EFFC        BRD_INDP        BRD_MEET    \n",
       " Min.   :0.0000   Min.   :1.458   Min.   :1.167   Min.   :1.000  \n",
       " 1st Qu.:0.3000   1st Qu.:2.059   1st Qu.:1.833   1st Qu.:2.000  \n",
       " Median :0.5000   Median :2.235   Median :1.833   Median :2.333  \n",
       " Mean   :0.4361   Mean   :2.231   Mean   :1.960   Mean   :2.333  \n",
       " 3rd Qu.:0.6000   3rd Qu.:2.412   3rd Qu.:2.167   3rd Qu.:2.667  \n",
       " Max.   :0.8000   Max.   :2.882   Max.   :3.000   Max.   :3.000  \n",
       "    BRD_SIZE      BRD_COMPT        DIVIDEND            LOSS       \n",
       " Min.   :1.00   Min.   :1.750   Min.   :   0.00   Min.   :0.0000  \n",
       " 1st Qu.:1.00   1st Qu.:2.500   1st Qu.:   0.00   1st Qu.:0.0000  \n",
       " Median :3.00   Median :2.500   Median :   0.00   Median :0.0000  \n",
       " Mean   :2.09   Mean   :2.525   Mean   :  70.24   Mean   :0.3125  \n",
       " 3rd Qu.:3.00   3rd Qu.:2.500   3rd Qu.:  50.00   3rd Qu.:1.0000  \n",
       " Max.   :3.00   Max.   :3.000   Max.   :1666.00   Max.   :1.0000  \n",
       "   TOT_ASSETS         SLACK             ROE             BRD_INDP_DIV    \n",
       " Min.   : 7.998   Min.   : 6.423   Min.   :-2.030000   Min.   :   0.00  \n",
       " 1st Qu.:11.878   1st Qu.:10.603   1st Qu.:-0.001275   1st Qu.:   0.00  \n",
       " Median :12.523   Median :11.487   Median : 0.045330   Median :   0.00  \n",
       " Mean   :12.438   Mean   :11.365   Mean   : 0.036846   Mean   : 147.22  \n",
       " 3rd Qu.:13.129   3rd Qu.:12.203   3rd Qu.: 0.172300   3rd Qu.:  92.01  \n",
       " Max.   :26.558   Max.   :26.605   Max.   : 0.741000   Max.   :4442.67  \n",
       "  BRD_MEET_DIV     BRD_SIZE_DIV    BRD_COMPT_DIV \n",
       " Min.   :   0.0   Min.   :   0.0   Min.   :   0  \n",
       " 1st Qu.:   0.0   1st Qu.:   0.0   1st Qu.:   0  \n",
       " Median :   0.0   Median :   0.0   Median :   0  \n",
       " Mean   : 180.4   Mean   : 203.5   Mean   : 182  \n",
       " 3rd Qu.: 125.0   3rd Qu.: 100.0   3rd Qu.: 125  \n",
       " Max.   :4998.0   Max.   :4998.0   Max.   :4165  "
      ]
     },
     "execution_count": 132,
     "metadata": {},
     "output_type": "execute_result"
    }
   ],
   "source": [
    "summary(data[4:26])"
   ]
  },
  {
   "cell_type": "code",
   "execution_count": 133,
   "metadata": {
    "collapsed": false
   },
   "outputs": [
    {
     "data": {
      "text/html": [
       "<table>\n",
       "<thead><tr><th></th><th scope=col>X</th><th scope=col>Firm</th><th scope=col>Year</th><th scope=col>CEI</th><th scope=col>BRIB_CORR</th><th scope=col>BUSS_ETH</th><th scope=col>FAIR_COMP</th><th scope=col>POL_CONTR</th><th scope=col>INDIG_PPL</th><th scope=col>IND_EC_IMP</th><th scope=col>ellip.h</th><th scope=col>DIVIDEND</th><th scope=col>LOSS</th><th scope=col>TOT_ASSETS</th><th scope=col>SLACK</th><th scope=col>ROE</th><th scope=col>BRD_INDP_DIV</th><th scope=col>BRD_MEET_DIV</th><th scope=col>BRD_SIZE_DIV</th><th scope=col>BRD_COMPT_DIV</th><th scope=col>BRD_EFFC_DIV</th></tr></thead>\n",
       "<tbody>\n",
       "\t<tr><th scope=row>1</th><td>0</td><td>1</td><td>2011</td><td>0.57143</td><td>0</td><td>0.5</td><td>0.5</td><td>0.25</td><td>0.25</td><td>1</td><td>⋯</td><td>30.35</td><td>0</td><td>13.71135</td><td>12.70603</td><td>0.22</td><td>60.7</td><td>75.875</td><td>91.05</td><td>75.875</td><td>75.875</td></tr>\n",
       "\t<tr><th scope=row>2</th><td>1</td><td>1</td><td>2012</td><td>0.54762</td><td>0</td><td>0.25</td><td>0.25</td><td>0.5</td><td>1</td><td>1</td><td>⋯</td><td>55.82524</td><td>0</td><td>13.81274</td><td>12.68645</td><td>0.141</td><td>93.04225</td><td>158.1713</td><td>167.4757</td><td>139.5631</td><td>131.3534</td></tr>\n",
       "\t<tr><th scope=row>3</th><td>2</td><td>1</td><td>2013</td><td>0.52381</td><td>0</td><td>0.5</td><td>0.25</td><td>0.25</td><td>1</td><td>1</td><td>⋯</td><td>15.36585</td><td>0</td><td>13.91446</td><td>12.91952</td><td>0.074</td><td>28.17067</td><td>35.8536</td><td>46.09755</td><td>38.41463</td><td>34.34713</td></tr>\n",
       "\t<tr><th scope=row>4</th><td>3</td><td>1</td><td>2014</td><td>0.52381</td><td>0</td><td>0.5</td><td>0.25</td><td>0.25</td><td>1</td><td>1</td><td>⋯</td><td>29.375</td><td>0</td><td>13.90404</td><td>12.96921</td><td>0.056</td><td>44.0625</td><td>73.4375</td><td>88.125</td><td>73.4375</td><td>63.93381</td></tr>\n",
       "\t<tr><th scope=row>5</th><td>4</td><td>2</td><td>2011</td><td>0.4881</td><td>0</td><td>0.5</td><td>0.75</td><td>0</td><td>1</td><td>1</td><td>⋯</td><td>0</td><td>0</td><td>12.36199</td><td>11.55529</td><td>0.0569</td><td>0</td><td>0</td><td>0</td><td>0</td><td>0</td></tr>\n",
       "\t<tr><th scope=row>6</th><td>5</td><td>2</td><td>2012</td><td>0.7381</td><td>0</td><td>1</td><td>1</td><td>1</td><td>0.667</td><td>1</td><td>⋯</td><td>0</td><td>1</td><td>12.46299</td><td>11.18364</td><td>-0.0773</td><td>0</td><td>0</td><td>0</td><td>0</td><td>0</td></tr>\n",
       "</tbody>\n",
       "</table>\n"
      ],
      "text/latex": [
       "\\begin{tabular}{r|lllllllllllllllllllllllllll}\n",
       "  & X & Firm & Year & CEI & BRIB_CORR & BUSS_ETH & FAIR_COMP & POL_CONTR & INDIG_PPL & IND_EC_IMP & ellip.h & DIVIDEND & LOSS & TOT_ASSETS & SLACK & ROE & BRD_INDP_DIV & BRD_MEET_DIV & BRD_SIZE_DIV & BRD_COMPT_DIV & BRD_EFFC_DIV\\\\\n",
       "\\hline\n",
       "\t1 & 0 & 1 & 2011 & 0.57143 & 0 & 0.5 & 0.5 & 0.25 & 0.25 & 1 & ⋯ & 30.35 & 0 & 13.71135 & 12.70603 & 0.22 & 60.7 & 75.875 & 91.05 & 75.875 & 75.875\\\\\n",
       "\t2 & 1 & 1 & 2012 & 0.54762 & 0 & 0.25 & 0.25 & 0.5 & 1 & 1 & ⋯ & 55.82524 & 0 & 13.81274 & 12.68645 & 0.141 & 93.04225 & 158.1713 & 167.4757 & 139.5631 & 131.3534\\\\\n",
       "\t3 & 2 & 1 & 2013 & 0.52381 & 0 & 0.5 & 0.25 & 0.25 & 1 & 1 & ⋯ & 15.36585 & 0 & 13.91446 & 12.91952 & 0.074 & 28.17067 & 35.8536 & 46.09755 & 38.41463 & 34.34713\\\\\n",
       "\t4 & 3 & 1 & 2014 & 0.52381 & 0 & 0.5 & 0.25 & 0.25 & 1 & 1 & ⋯ & 29.375 & 0 & 13.90404 & 12.96921 & 0.056 & 44.0625 & 73.4375 & 88.125 & 73.4375 & 63.93381\\\\\n",
       "\t5 & 4 & 2 & 2011 & 0.4881 & 0 & 0.5 & 0.75 & 0 & 1 & 1 & ⋯ & 0 & 0 & 12.36199 & 11.55529 & 0.0569 & 0 & 0 & 0 & 0 & 0\\\\\n",
       "\t6 & 5 & 2 & 2012 & 0.7381 & 0 & 1 & 1 & 1 & 0.667 & 1 & ⋯ & 0 & 1 & 12.46299 & 11.18364 & -0.0773 & 0 & 0 & 0 & 0 & 0\\\\\n",
       "\\end{tabular}\n"
      ],
      "text/plain": [
       "  X Firm Year     CEI BRIB_CORR BUSS_ETH FAIR_COMP POL_CONTR INDIG_PPL\n",
       "1 0    1 2011 0.57143         0     0.50      0.50      0.25     0.250\n",
       "2 1    1 2012 0.54762         0     0.25      0.25      0.50     1.000\n",
       "3 2    1 2013 0.52381         0     0.50      0.25      0.25     1.000\n",
       "4 3    1 2014 0.52381         0     0.50      0.25      0.25     1.000\n",
       "5 4    2 2011 0.48810         0     0.50      0.75      0.00     1.000\n",
       "6 5    2 2012 0.73810         0     1.00      1.00      1.00     0.667\n",
       "  IND_EC_IMP X0TH_ENG ALT_CEI BRD_EFFC BRD_INDP BRD_MEET BRD_SIZE BRD_COMPT\n",
       "1          1   1.0000     0.7  2.50000  2.00000  2.50000        3     2.500\n",
       "2          1   0.8333     0.5  2.35294  1.66667  2.83333        3     2.500\n",
       "3          1   0.6667     0.5  2.23529  1.83333  2.33333        3     2.500\n",
       "4          1   0.6667     0.5  2.17647  1.50000  2.50000        3     2.500\n",
       "5          1   0.1667     0.3  2.26458  1.83333  2.00000        3     2.225\n",
       "6          1   0.5000     0.5  2.17647  1.83333  2.16667        3     2.500\n",
       "  DIVIDEND LOSS TOT_ASSETS    SLACK     ROE BRD_INDP_DIV BRD_MEET_DIV\n",
       "1 30.35000    0   13.71135 12.70603  0.2200     60.70000      75.8750\n",
       "2 55.82524    0   13.81274 12.68645  0.1410     93.04225     158.1713\n",
       "3 15.36585    0   13.91446 12.91952  0.0740     28.17067      35.8536\n",
       "4 29.37500    0   13.90404 12.96921  0.0560     44.06250      73.4375\n",
       "5  0.00000    0   12.36199 11.55529  0.0569      0.00000       0.0000\n",
       "6  0.00000    1   12.46299 11.18364 -0.0773      0.00000       0.0000\n",
       "  BRD_SIZE_DIV BRD_COMPT_DIV BRD_EFFC_DIV\n",
       "1     91.05000      75.87500     75.87500\n",
       "2    167.47572     139.56310    131.35344\n",
       "3     46.09755      38.41463     34.34713\n",
       "4     88.12500      73.43750     63.93381\n",
       "5      0.00000       0.00000      0.00000\n",
       "6      0.00000       0.00000      0.00000"
      ]
     },
     "execution_count": 133,
     "metadata": {},
     "output_type": "execute_result"
    }
   ],
   "source": [
    "head(data)"
   ]
  },
  {
   "cell_type": "code",
   "execution_count": 134,
   "metadata": {
    "collapsed": false
   },
   "outputs": [
    {
     "data": {
      "text/html": [
       "<table>\n",
       "<thead><tr><th></th><th scope=col>X</th><th scope=col>Firm</th><th scope=col>Year</th><th scope=col>CEI</th><th scope=col>BRIB_CORR</th><th scope=col>BUSS_ETH</th><th scope=col>FAIR_COMP</th><th scope=col>POL_CONTR</th><th scope=col>INDIG_PPL</th><th scope=col>IND_EC_IMP</th><th scope=col>ellip.h</th><th scope=col>DIVIDEND</th><th scope=col>LOSS</th><th scope=col>TOT_ASSETS</th><th scope=col>SLACK</th><th scope=col>ROE</th><th scope=col>BRD_INDP_DIV</th><th scope=col>BRD_MEET_DIV</th><th scope=col>BRD_SIZE_DIV</th><th scope=col>BRD_COMPT_DIV</th><th scope=col>BRD_EFFC_DIV</th></tr></thead>\n",
       "<tbody>\n",
       "\t<tr><th scope=row>139</th><td>138</td><td>35</td><td>2013</td><td>0.9</td><td>0.8</td><td>1</td><td>1</td><td>1</td><td>1</td><td>1</td><td>⋯</td><td>0</td><td>0</td><td>12.18108</td><td>11.01443</td><td>0.0065</td><td>0</td><td>0</td><td>0</td><td>0</td><td>0</td></tr>\n",
       "\t<tr><th scope=row>140</th><td>139</td><td>35</td><td>2014</td><td>0.9</td><td>0.8</td><td>1</td><td>1</td><td>1</td><td>1</td><td>1</td><td>⋯</td><td>0</td><td>1</td><td>11.191</td><td>10.80838</td><td>-0.2002</td><td>0</td><td>0</td><td>0</td><td>0</td><td>0</td></tr>\n",
       "\t<tr><th scope=row>141</th><td>140</td><td>36</td><td>2011</td><td>0</td><td>0</td><td>0</td><td>0</td><td>0</td><td>0</td><td>0</td><td>⋯</td><td>0</td><td>0</td><td>11.73582</td><td>10.37572</td><td>0.2485</td><td>0</td><td>0</td><td>0</td><td>0</td><td>0</td></tr>\n",
       "\t<tr><th scope=row>142</th><td>141</td><td>36</td><td>2012</td><td>0</td><td>0</td><td>0</td><td>0</td><td>0</td><td>0</td><td>0</td><td>⋯</td><td>0</td><td>0</td><td>11.58996</td><td>10.7465</td><td>0.1998</td><td>0</td><td>0</td><td>0</td><td>0</td><td>0</td></tr>\n",
       "\t<tr><th scope=row>143</th><td>142</td><td>36</td><td>2013</td><td>0.09524</td><td>0</td><td>0</td><td>0</td><td>0</td><td>0.6667</td><td>0</td><td>⋯</td><td>50</td><td>0</td><td>11.88416</td><td>10.85913</td><td>0.0397</td><td>90</td><td>91.6665</td><td>50</td><td>112.5</td><td>93.75</td></tr>\n",
       "\t<tr><th scope=row>144</th><td>143</td><td>36</td><td>2014</td><td>0.09524</td><td>0</td><td>0</td><td>0</td><td>0</td><td>0.6667</td><td>0</td><td>⋯</td><td>8</td><td>0</td><td>11.95293</td><td>10.62348</td><td>0.1792</td><td>14.4</td><td>14.66664</td><td>8</td><td>18</td><td>15</td></tr>\n",
       "</tbody>\n",
       "</table>\n"
      ],
      "text/latex": [
       "\\begin{tabular}{r|lllllllllllllllllllllllllll}\n",
       "  & X & Firm & Year & CEI & BRIB_CORR & BUSS_ETH & FAIR_COMP & POL_CONTR & INDIG_PPL & IND_EC_IMP & ellip.h & DIVIDEND & LOSS & TOT_ASSETS & SLACK & ROE & BRD_INDP_DIV & BRD_MEET_DIV & BRD_SIZE_DIV & BRD_COMPT_DIV & BRD_EFFC_DIV\\\\\n",
       "\\hline\n",
       "\t139 & 138 & 35 & 2013 & 0.9 & 0.8 & 1 & 1 & 1 & 1 & 1 & ⋯ & 0 & 0 & 12.18108 & 11.01443 & 0.0065 & 0 & 0 & 0 & 0 & 0\\\\\n",
       "\t140 & 139 & 35 & 2014 & 0.9 & 0.8 & 1 & 1 & 1 & 1 & 1 & ⋯ & 0 & 1 & 11.191 & 10.80838 & -0.2002 & 0 & 0 & 0 & 0 & 0\\\\\n",
       "\t141 & 140 & 36 & 2011 & 0 & 0 & 0 & 0 & 0 & 0 & 0 & ⋯ & 0 & 0 & 11.73582 & 10.37572 & 0.2485 & 0 & 0 & 0 & 0 & 0\\\\\n",
       "\t142 & 141 & 36 & 2012 & 0 & 0 & 0 & 0 & 0 & 0 & 0 & ⋯ & 0 & 0 & 11.58996 & 10.7465 & 0.1998 & 0 & 0 & 0 & 0 & 0\\\\\n",
       "\t143 & 142 & 36 & 2013 & 0.09524 & 0 & 0 & 0 & 0 & 0.6667 & 0 & ⋯ & 50 & 0 & 11.88416 & 10.85913 & 0.0397 & 90 & 91.6665 & 50 & 112.5 & 93.75\\\\\n",
       "\t144 & 143 & 36 & 2014 & 0.09524 & 0 & 0 & 0 & 0 & 0.6667 & 0 & ⋯ & 8 & 0 & 11.95293 & 10.62348 & 0.1792 & 14.4 & 14.66664 & 8 & 18 & 15\\\\\n",
       "\\end{tabular}\n"
      ],
      "text/plain": [
       "      X Firm Year     CEI BRIB_CORR BUSS_ETH FAIR_COMP POL_CONTR INDIG_PPL\n",
       "139 138   35 2013 0.90000       0.8        1         1         1    1.0000\n",
       "140 139   35 2014 0.90000       0.8        1         1         1    1.0000\n",
       "141 140   36 2011 0.00000       0.0        0         0         0    0.0000\n",
       "142 141   36 2012 0.00000       0.0        0         0         0    0.0000\n",
       "143 142   36 2013 0.09524       0.0        0         0         0    0.6667\n",
       "144 143   36 2014 0.09524       0.0        0         0         0    0.6667\n",
       "    IND_EC_IMP X0TH_ENG ALT_CEI BRD_EFFC BRD_INDP BRD_MEET BRD_SIZE BRD_COMPT\n",
       "139          1      0.5     0.5  2.29412  2.00000  2.33333        3      2.50\n",
       "140          1      0.5     0.5  2.29412  2.00000  2.33333        3      2.50\n",
       "141          0      0.0     0.0  2.14583  1.16667  2.16667        3      2.25\n",
       "142          0      0.0     0.0  1.88235  1.16667  2.16667        3      2.25\n",
       "143          0      0.0     0.0  1.87500  1.80000  1.83333        1      2.25\n",
       "144          0      0.0     0.0  1.87500  1.80000  1.83333        1      2.25\n",
       "    DIVIDEND LOSS TOT_ASSETS    SLACK     ROE BRD_INDP_DIV BRD_MEET_DIV\n",
       "139        0    0   12.18108 11.01443  0.0065          0.0      0.00000\n",
       "140        0    1   11.19100 10.80838 -0.2002          0.0      0.00000\n",
       "141        0    0   11.73582 10.37572  0.2485          0.0      0.00000\n",
       "142        0    0   11.58996 10.74650  0.1998          0.0      0.00000\n",
       "143       50    0   11.88416 10.85913  0.0397         90.0     91.66650\n",
       "144        8    0   11.95293 10.62348  0.1792         14.4     14.66664\n",
       "    BRD_SIZE_DIV BRD_COMPT_DIV BRD_EFFC_DIV\n",
       "139            0           0.0         0.00\n",
       "140            0           0.0         0.00\n",
       "141            0           0.0         0.00\n",
       "142            0           0.0         0.00\n",
       "143           50         112.5        93.75\n",
       "144            8          18.0        15.00"
      ]
     },
     "execution_count": 134,
     "metadata": {},
     "output_type": "execute_result"
    }
   ],
   "source": [
    "tail(data)"
   ]
  },
  {
   "cell_type": "code",
   "execution_count": 135,
   "metadata": {
    "collapsed": false
   },
   "outputs": [
    {
     "data": {
      "text/html": [
       "<ol class=list-inline>\n",
       "\t<li>'X'</li>\n",
       "\t<li>'Firm'</li>\n",
       "\t<li>'Year'</li>\n",
       "\t<li>'CEI'</li>\n",
       "\t<li>'BRIB_CORR'</li>\n",
       "\t<li>'BUSS_ETH'</li>\n",
       "\t<li>'FAIR_COMP'</li>\n",
       "\t<li>'POL_CONTR'</li>\n",
       "\t<li>'INDIG_PPL'</li>\n",
       "\t<li>'IND_EC_IMP'</li>\n",
       "\t<li>'X0TH_ENG'</li>\n",
       "\t<li>'ALT_CEI'</li>\n",
       "\t<li>'BRD_EFFC'</li>\n",
       "\t<li>'BRD_INDP'</li>\n",
       "\t<li>'BRD_MEET'</li>\n",
       "\t<li>'BRD_SIZE'</li>\n",
       "\t<li>'BRD_COMPT'</li>\n",
       "\t<li>'DIVIDEND'</li>\n",
       "\t<li>'LOSS'</li>\n",
       "\t<li>'TOT_ASSETS'</li>\n",
       "\t<li>'SLACK'</li>\n",
       "\t<li>'ROE'</li>\n",
       "\t<li>'BRD_INDP_DIV'</li>\n",
       "\t<li>'BRD_MEET_DIV'</li>\n",
       "\t<li>'BRD_SIZE_DIV'</li>\n",
       "\t<li>'BRD_COMPT_DIV'</li>\n",
       "\t<li>'BRD_EFFC_DIV'</li>\n",
       "</ol>\n"
      ],
      "text/latex": [
       "\\begin{enumerate*}\n",
       "\\item 'X'\n",
       "\\item 'Firm'\n",
       "\\item 'Year'\n",
       "\\item 'CEI'\n",
       "\\item 'BRIB_CORR'\n",
       "\\item 'BUSS_ETH'\n",
       "\\item 'FAIR_COMP'\n",
       "\\item 'POL_CONTR'\n",
       "\\item 'INDIG_PPL'\n",
       "\\item 'IND_EC_IMP'\n",
       "\\item 'X0TH_ENG'\n",
       "\\item 'ALT_CEI'\n",
       "\\item 'BRD_EFFC'\n",
       "\\item 'BRD_INDP'\n",
       "\\item 'BRD_MEET'\n",
       "\\item 'BRD_SIZE'\n",
       "\\item 'BRD_COMPT'\n",
       "\\item 'DIVIDEND'\n",
       "\\item 'LOSS'\n",
       "\\item 'TOT_ASSETS'\n",
       "\\item 'SLACK'\n",
       "\\item 'ROE'\n",
       "\\item 'BRD_INDP_DIV'\n",
       "\\item 'BRD_MEET_DIV'\n",
       "\\item 'BRD_SIZE_DIV'\n",
       "\\item 'BRD_COMPT_DIV'\n",
       "\\item 'BRD_EFFC_DIV'\n",
       "\\end{enumerate*}\n"
      ],
      "text/markdown": [
       "1. 'X'\n",
       "2. 'Firm'\n",
       "3. 'Year'\n",
       "4. 'CEI'\n",
       "5. 'BRIB_CORR'\n",
       "6. 'BUSS_ETH'\n",
       "7. 'FAIR_COMP'\n",
       "8. 'POL_CONTR'\n",
       "9. 'INDIG_PPL'\n",
       "10. 'IND_EC_IMP'\n",
       "11. 'X0TH_ENG'\n",
       "12. 'ALT_CEI'\n",
       "13. 'BRD_EFFC'\n",
       "14. 'BRD_INDP'\n",
       "15. 'BRD_MEET'\n",
       "16. 'BRD_SIZE'\n",
       "17. 'BRD_COMPT'\n",
       "18. 'DIVIDEND'\n",
       "19. 'LOSS'\n",
       "20. 'TOT_ASSETS'\n",
       "21. 'SLACK'\n",
       "22. 'ROE'\n",
       "23. 'BRD_INDP_DIV'\n",
       "24. 'BRD_MEET_DIV'\n",
       "25. 'BRD_SIZE_DIV'\n",
       "26. 'BRD_COMPT_DIV'\n",
       "27. 'BRD_EFFC_DIV'\n",
       "\n",
       "\n"
      ],
      "text/plain": [
       " [1] \"X\"             \"Firm\"          \"Year\"          \"CEI\"          \n",
       " [5] \"BRIB_CORR\"     \"BUSS_ETH\"      \"FAIR_COMP\"     \"POL_CONTR\"    \n",
       " [9] \"INDIG_PPL\"     \"IND_EC_IMP\"    \"X0TH_ENG\"      \"ALT_CEI\"      \n",
       "[13] \"BRD_EFFC\"      \"BRD_INDP\"      \"BRD_MEET\"      \"BRD_SIZE\"     \n",
       "[17] \"BRD_COMPT\"     \"DIVIDEND\"      \"LOSS\"          \"TOT_ASSETS\"   \n",
       "[21] \"SLACK\"         \"ROE\"           \"BRD_INDP_DIV\"  \"BRD_MEET_DIV\" \n",
       "[25] \"BRD_SIZE_DIV\"  \"BRD_COMPT_DIV\" \"BRD_EFFC_DIV\" "
      ]
     },
     "execution_count": 135,
     "metadata": {},
     "output_type": "execute_result"
    }
   ],
   "source": [
    "names(data)"
   ]
  },
  {
   "cell_type": "code",
   "execution_count": 137,
   "metadata": {
    "collapsed": false
   },
   "outputs": [
    {
     "name": "stderr",
     "output_type": "stream",
     "text": [
      "Warning message:\n",
      "In `[<-.factor`(`*tmp*`, ri, value = \"⋱\"): invalid factor level, NA generatedWarning message:\n",
      "In `[<-.factor`(`*tmp*`, ri, value = \"⋱\"): invalid factor level, NA generated"
     ]
    },
    {
     "data": {
      "text/html": [
       "<table>\n",
       "<thead><tr><th></th><th scope=col>CEI</th><th scope=col>BRIB_CORR</th><th scope=col>BUSS_ETH</th><th scope=col>FAIR_COMP</th><th scope=col>POL_CONTR</th><th scope=col>INDIG_PPL</th><th scope=col>IND_EC_IMP</th><th scope=col>X0TH_ENG</th><th scope=col>ALT_CEI</th><th scope=col>BRD_EFFC</th><th scope=col>ellip.h</th><th scope=col>BRD_COMPT</th><th scope=col>DIVIDEND</th><th scope=col>LOSS</th><th scope=col>TOT_ASSETS</th><th scope=col>SLACK</th><th scope=col>ROE</th><th scope=col>BRD_INDP_DIV</th><th scope=col>BRD_MEET_DIV</th><th scope=col>BRD_SIZE_DIV</th><th scope=col>BRD_COMPT_DIV</th></tr></thead>\n",
       "<tbody>\n",
       "\t<tr><th scope=row>1</th><td>0.57143</td><td>0</td><td>0.5</td><td>0.5</td><td>0.25</td><td>0.25</td><td>1</td><td>1</td><td>0.7</td><td>2.5</td><td>⋯</td><td>2.5</td><td>30.35</td><td>0</td><td>13.7113470044</td><td>12.7060284412</td><td>0.22</td><td>60.7</td><td>75.875</td><td>91.05</td><td>75.875</td></tr>\n",
       "\t<tr><th scope=row>2</th><td>0.54762</td><td>0</td><td>0.25</td><td>0.25</td><td>0.5</td><td>1</td><td>1</td><td>0.8333</td><td>0.5</td><td>2.35294</td><td>⋯</td><td>2.5</td><td>55.82524</td><td>0</td><td>13.8127353182</td><td>12.6864522999</td><td>0.141</td><td>93.0422527508</td><td>158.171327249</td><td>167.47572</td><td>139.5631</td></tr>\n",
       "\t<tr><th scope=row>3</th><td>0.52381</td><td>0</td><td>0.5</td><td>0.25</td><td>0.25</td><td>1</td><td>1</td><td>0.6667</td><td>0.5</td><td>2.23529</td><td>⋯</td><td>2.5</td><td>15.36585</td><td>0</td><td>13.9144592578</td><td>12.9195200726</td><td>0.074</td><td>28.1706737805</td><td>35.8535987805</td><td>46.09755</td><td>38.414625</td></tr>\n",
       "\t<tr><th scope=row>4</th><td>0.52381</td><td>0</td><td>0.5</td><td>0.25</td><td>0.25</td><td>1</td><td>1</td><td>0.6667</td><td>0.5</td><td>2.17647</td><td>⋯</td><td>2.5</td><td>29.375</td><td>0</td><td>13.9040389686</td><td>12.9692108322</td><td>0.056</td><td>44.0625</td><td>73.4375</td><td>88.125</td><td>73.4375</td></tr>\n",
       "\t<tr><th scope=row>5</th><td>0.4881</td><td>0</td><td>0.5</td><td>0.75</td><td>0</td><td>1</td><td>1</td><td>0.1667</td><td>0.3</td><td>2.26458</td><td>⋯</td><td>2.225</td><td>0</td><td>0</td><td>12.3619890894</td><td>11.5552915905</td><td>0.0569</td><td>0</td><td>0</td><td>0</td><td>0</td></tr>\n",
       "\t<tr><th scope=row>6</th><td>0.7381</td><td>0</td><td>1</td><td>1</td><td>1</td><td>0.667</td><td>1</td><td>0.5</td><td>0.5</td><td>2.17647</td><td>⋯</td><td>2.5</td><td>0</td><td>1</td><td>12.4629864454</td><td>11.1836429401</td><td>-0.0773</td><td>0</td><td>0</td><td>0</td><td>0</td></tr>\n",
       "\t<tr><th scope=row>7</th><td>0.45238</td><td>0</td><td>1</td><td>0</td><td>0</td><td>0.6667</td><td>1</td><td>0.5</td><td>0.6</td><td>2.41176</td><td>⋯</td><td>2.75</td><td>0</td><td>1</td><td>12.5861164202</td><td>10.351711481</td><td>-0.0799</td><td>0</td><td>0</td><td>0</td><td>0</td></tr>\n",
       "\t<tr><th scope=row>8</th><td>0.78571</td><td>0</td><td>1</td><td>1</td><td>1</td><td>1</td><td>1</td><td>0.5</td><td>0.4</td><td>2.29412</td><td>⋯</td><td>2.75</td><td>0</td><td>1</td><td>12.6273005539</td><td>10.722222464</td><td>-0.2293</td><td>0</td><td>0</td><td>0</td><td>0</td></tr>\n",
       "\t<tr><th scope=row>9</th><td>0</td><td>0</td><td>0</td><td>0</td><td>0</td><td>0</td><td>0</td><td>0</td><td>0</td><td>1.77083</td><td>⋯</td><td>2.25</td><td>0</td><td>1</td><td>11.0478979619</td><td>9.5402516202</td><td>-0.6431</td><td>0</td><td>0</td><td>0</td><td>0</td></tr>\n",
       "\t<tr><th scope=row>10</th><td>0.19444</td><td>0</td><td>0</td><td>0</td><td>0</td><td>1</td><td>0.5</td><td>0.1667</td><td>0.3</td><td>2.05882</td><td>⋯</td><td>2</td><td>0</td><td>1</td><td>8.1784865822</td><td>6.4482448881</td><td>-0.382</td><td>0</td><td>0</td><td>0</td><td>0</td></tr>\n",
       "\t<tr><th scope=row>11</th><td>0.19048</td><td>0</td><td>0</td><td>0</td><td>0</td><td>0.6667</td><td>0.5</td><td>0.1667</td><td>0.2</td><td>2.11765</td><td>⋯</td><td>2</td><td>0</td><td>0</td><td>12.1729938377</td><td>7.4794296236</td><td>0.012</td><td>0</td><td>0</td><td>0</td><td>0</td></tr>\n",
       "\t<tr><th scope=row>12</th><td>0.4881</td><td>0</td><td>0.25</td><td>0</td><td>0.5</td><td>1</td><td>1</td><td>0.6667</td><td>0.4</td><td>2.05882</td><td>⋯</td><td>2.5</td><td>0</td><td>1</td><td>11.1784865822</td><td>9.5032344573</td><td>-0.361</td><td>0</td><td>0</td><td>0</td><td>0</td></tr>\n",
       "\t<tr><th scope=row>13</th><td>0.40476</td><td>0</td><td>0</td><td>0</td><td>0</td><td>1</td><td>1</td><td>0.8333</td><td>0.6</td><td>2.08333</td><td>⋯</td><td>2.5</td><td>3.55</td><td>0</td><td>13.2722636571</td><td>12.6748377642</td><td>0.3073</td><td>9.4666785</td><td>7.6916785</td><td>3.55</td><td>8.875</td></tr>\n",
       "\t<tr><th scope=row>14</th><td>0.48611</td><td>0</td><td>1</td><td>0.25</td><td>0</td><td>1</td><td>1</td><td>0.6667</td><td>0.6</td><td>2.41176</td><td>⋯</td><td>3</td><td>7.76699</td><td>1</td><td>13.3191970495</td><td>12.5483202289</td><td>-0.7409</td><td>18.1229507767</td><td>15.53398</td><td>23.30097</td><td>23.30097</td></tr>\n",
       "\t<tr><th scope=row>15</th><td>0.72143</td><td>0.8</td><td>1</td><td>0.25</td><td>0</td><td>1</td><td>1</td><td>1</td><td>0.6</td><td>2.41176</td><td>⋯</td><td>2.75</td><td>0</td><td>1</td><td>13.3874380093</td><td>12.6970048826</td><td>-2.03</td><td>0</td><td>0</td><td>0</td><td>0</td></tr>\n",
       "\t<tr><th scope=row>16</th><td>0.80476</td><td>0.8</td><td>1</td><td>1</td><td>0</td><td>1</td><td>1</td><td>0.83333</td><td>0.6</td><td>1.66667</td><td>⋯</td><td>2</td><td>0</td><td>1</td><td>13.3456187486</td><td>12.6277011786</td><td>-2.02</td><td>0</td><td>0</td><td>0</td><td>0</td></tr>\n",
       "\t<tr><th scope=row>17</th><td>0.77619</td><td>0.6</td><td>1</td><td>0</td><td>1</td><td>1</td><td>1</td><td>0.8333</td><td>0.6</td><td>2.10417</td><td>⋯</td><td>2.75</td><td>0</td><td>0</td><td>13.2406593298</td><td>12.0508361992</td><td>0.04726</td><td>0</td><td>0</td><td>0</td><td>0</td></tr>\n",
       "\t<tr><th scope=row>18</th><td>0.675</td><td>0.8</td><td>0.5</td><td>0.25</td><td>1</td><td>1</td><td>1</td><td>0.5</td><td>0.7</td><td>2.52941</td><td>⋯</td><td>2.75</td><td>0</td><td>1</td><td>13.2853840191</td><td>12.0537505376</td><td>-0.04</td><td>0</td><td>0</td><td>0</td><td>0</td></tr>\n",
       "\t<tr><th scope=row>19</th><td>0.7881</td><td>0.6</td><td>0.75</td><td>0.75</td><td>0.75</td><td>1</td><td>1</td><td>0.6667</td><td>0.6</td><td>2.4</td><td>⋯</td><td>2.5</td><td>0</td><td>1</td><td>13.3844073925</td><td>12.1527925385</td><td>0.04</td><td>0</td><td>0</td><td>0</td><td>0</td></tr>\n",
       "\t<tr><th scope=row>20</th><td>0.68095</td><td>0.6</td><td>0.75</td><td>0</td><td>0.75</td><td>1</td><td>1</td><td>0.6667</td><td>0.6</td><td>2.35294</td><td>⋯</td><td>2.75</td><td>0</td><td>1</td><td>13.367246593</td><td>10.8946206959</td><td>-0.125</td><td>0</td><td>0</td><td>0</td><td>0</td></tr>\n",
       "\t<tr><th scope=row>21</th><td>0.64286</td><td>0</td><td>1</td><td>1</td><td>0</td><td>1</td><td>1</td><td>0.5</td><td>0.5</td><td>2.45833</td><td>⋯</td><td>2.5</td><td>80</td><td>0</td><td>13.1579460937</td><td>12.1841219331</td><td>0.285</td><td>160</td><td>186.6664</td><td>240</td><td>200</td></tr>\n",
       "\t<tr><th scope=row>22</th><td>0.64286</td><td>0</td><td>1</td><td>1</td><td>0</td><td>1</td><td>1</td><td>0.5</td><td>0.5</td><td>2</td><td>⋯</td><td>2.5</td><td>200</td><td>0</td><td>26.5576476762</td><td>26.6045810686</td><td>0.078</td><td>400</td><td>300</td><td>600</td><td>500</td></tr>\n",
       "\t<tr><th scope=row>23</th><td>0.58095</td><td>0.4</td><td>0.75</td><td>0</td><td>0.75</td><td>0.6667</td><td>1</td><td>0.5</td><td>0.5</td><td>1.94118</td><td>⋯</td><td>2.5</td><td>200</td><td>0</td><td>13.3670159581</td><td>12.2702223055</td><td>0.078</td><td>366.666</td><td>300</td><td>600</td><td>500</td></tr>\n",
       "\t<tr><th scope=row>24</th><td>0.52381</td><td>0</td><td>0.5</td><td>0.5</td><td>0</td><td>1</td><td>1</td><td>0.6667</td><td>0.7</td><td>2.05882</td><td>⋯</td><td>2.5</td><td>0</td><td>1</td><td>13.1619876703</td><td>12.0004251778</td><td>-0.74</td><td>0</td><td>0</td><td>0</td><td>0</td></tr>\n",
       "\t<tr><th scope=row>25</th><td>0.54048</td><td>0.2</td><td>0.25</td><td>0.25</td><td>0.25</td><td>1</td><td>1</td><td>0.8333</td><td>0.7</td><td>2.0625</td><td>⋯</td><td>2.75</td><td>0</td><td>1</td><td>12.5672680016</td><td>11.5286472517</td><td>-0.08</td><td>0</td><td>0</td><td>0</td><td>0</td></tr>\n",
       "\t<tr><th scope=row>26</th><td>0.48889</td><td>0.6</td><td>0.5</td><td>0.5</td><td>0</td><td>0.667</td><td>1</td><td>0.6667</td><td>0.5</td><td>2.41176</td><td>⋯</td><td>2.5</td><td>0</td><td>1</td><td>12.6300977378</td><td>11.3602530756</td><td>-0.14</td><td>0</td><td>0</td><td>0</td><td>0</td></tr>\n",
       "\t<tr><th scope=row>27</th><td>0.5619</td><td>0.6</td><td>0.5</td><td>0.5</td><td>0</td><td>0.6667</td><td>1</td><td>0.6667</td><td>0.5</td><td>2.17647</td><td>⋯</td><td>2.5</td><td>0</td><td>1</td><td>12.7291211112</td><td>11.4592764489</td><td>0.14</td><td>0</td><td>0</td><td>0</td><td>0</td></tr>\n",
       "\t<tr><th scope=row>28</th><td>0.87619</td><td>0.8</td><td>1</td><td>1</td><td>0.5</td><td>1</td><td>1</td><td>0.8333</td><td>0.7</td><td>2.35294</td><td>⋯</td><td>2.5</td><td>0</td><td>0</td><td>12.6481879756</td><td>11.2303385455</td><td>0</td><td>0</td><td>0</td><td>0</td><td>0</td></tr>\n",
       "\t<tr><th scope=row>29</th><td>0.45238</td><td>0</td><td>0.25</td><td>0.25</td><td>0</td><td>1</td><td>1</td><td>0.6667</td><td>0.6</td><td>2.85417</td><td>⋯</td><td>2.75</td><td>0</td><td>1</td><td>13.0342272608</td><td>12.2860071221</td><td>-0.16021</td><td>0</td><td>0</td><td>0</td><td>0</td></tr>\n",
       "\t<tr><th scope=row>30</th><td>0.45238</td><td>0</td><td>0.25</td><td>0.25</td><td>0</td><td>1</td><td>1</td><td>0.6667</td><td>0.6</td><td>2.76471</td><td>⋯</td><td>2.5</td><td>0</td><td>1</td><td>13.0516207617</td><td>11.7430376281</td><td>0.16</td><td>0</td><td>0</td><td>0</td><td>0</td></tr>\n",
       "\t<tr><th scope=row>31</th><td>⋮</td><td>⋮</td><td>⋮</td><td>⋮</td><td>⋮</td><td>⋮</td><td>⋮</td><td>⋮</td><td>⋮</td><td>⋮</td><td>NA</td><td>⋮</td><td>⋮</td><td>⋮</td><td>⋮</td><td>⋮</td><td>⋮</td><td>⋮</td><td>⋮</td><td>⋮</td><td>⋮</td></tr>\n",
       "\t<tr><th scope=row>115</th><td>0.70952</td><td>0.8</td><td>0.5</td><td>0</td><td>1</td><td>1</td><td>1</td><td>0.6667</td><td>0.5</td><td>2.52941</td><td>⋯</td><td>2.5</td><td>56.29</td><td>0</td><td>12.8967077235</td><td>11.787954708</td><td>0.13</td><td>140.725</td><td>140.725</td><td>168.87</td><td>140.725</td></tr>\n",
       "\t<tr><th scope=row>116</th><td>0.70952</td><td>0.8</td><td>0.5</td><td>0</td><td>1</td><td>1</td><td>1</td><td>0.6667</td><td>0.6</td><td>2.52941</td><td>⋯</td><td>2.5</td><td>0</td><td>0</td><td>12.9891149348</td><td>11.5616927667</td><td>0.13</td><td>0</td><td>0</td><td>0</td><td>0</td></tr>\n",
       "\t<tr><th scope=row>117</th><td>0.28571</td><td>0</td><td>0.5</td><td>0</td><td>0</td><td>0.3333</td><td>1</td><td>0.1667</td><td>0.1</td><td>1.79167</td><td>⋯</td><td>2.5</td><td>0</td><td>0</td><td>11.3389572862</td><td>10.0179147083</td><td>0.01</td><td>0</td><td>0</td><td>0</td><td>0</td></tr>\n",
       "\t<tr><th scope=row>118</th><td>0.36111</td><td>0</td><td>0.25</td><td>0.25</td><td>0.5</td><td>1</td><td>1</td><td>0.1667</td><td>0.4</td><td>1.875</td><td>⋯</td><td>2.5</td><td>0</td><td>0</td><td>11.2455151354</td><td>10.1522744363</td><td>0.035</td><td>0</td><td>0</td><td>0</td><td>0</td></tr>\n",
       "\t<tr><th scope=row>119</th><td>0.5</td><td>0</td><td>0.75</td><td>0</td><td>0.75</td><td>0.6667</td><td>1</td><td>0.3333</td><td>0.2</td><td>1.88235</td><td>⋯</td><td>2.5</td><td>0</td><td>0</td><td>11.5144946247</td><td>10.115563104</td><td>0.0061</td><td>0</td><td>0</td><td>0</td><td>0</td></tr>\n",
       "\t<tr><th scope=row>120</th><td>0.46429</td><td>0</td><td>0.5</td><td>0</td><td>0.75</td><td>0.6667</td><td>1</td><td>0.3333</td><td>0.2</td><td>1.88235</td><td>⋯</td><td>2.5</td><td>0</td><td>0</td><td>11.5635439705</td><td>10.0134247523</td><td>0.0115</td><td>0</td><td>0</td><td>0</td><td>0</td></tr>\n",
       "\t<tr><th scope=row>121</th><td>0.42857</td><td>0</td><td>0</td><td>0.5</td><td>0.5</td><td>1</td><td>1</td><td>0</td><td>0.3</td><td>2.0625</td><td>⋯</td><td>2.75</td><td>0</td><td>0</td><td>11.1718455607</td><td>10.5221477744</td><td>0.4375</td><td>0</td><td>0</td><td>0</td><td>0</td></tr>\n",
       "\t<tr><th scope=row>122</th><td>0.19444</td><td>0</td><td>0</td><td>0</td><td>0</td><td>1</td><td>1</td><td>0.1667</td><td>0.3</td><td>2.3125</td><td>⋯</td><td>2.75</td><td>0</td><td>0</td><td>11.1718463433</td><td>10.5221477744</td><td>0.233</td><td>0</td><td>0</td><td>0</td><td>0</td></tr>\n",
       "\t<tr><th scope=row>123</th><td>0.21429</td><td>0</td><td>0</td><td>0</td><td>0</td><td>0.3333</td><td>1</td><td>0.1667</td><td>0.1</td><td>2.52941</td><td>⋯</td><td>2.5</td><td>2</td><td>0</td><td>11.1958802885</td><td>10.6990299801</td><td>0.1972</td><td>5</td><td>5</td><td>6</td><td>5</td></tr>\n",
       "\t<tr><th scope=row>124</th><td>0.40476</td><td>0</td><td>0.5</td><td>0</td><td>0</td><td>1</td><td>1</td><td>0.3333</td><td>0.3</td><td>2.52941</td><td>⋯</td><td>2.5</td><td>0</td><td>0</td><td>11.5595224096</td><td>10.6774998968</td><td>0.0278</td><td>0</td><td>0</td><td>0</td><td>0</td></tr>\n",
       "\t<tr><th scope=row>125</th><td>0.21429</td><td>0</td><td>0</td><td>0</td><td>0</td><td>0.3333</td><td>1</td><td>0.1667</td><td>0.1</td><td>1.875</td><td>⋯</td><td>2.5</td><td>0</td><td>0</td><td>12.233171158</td><td>10.4750307202</td><td>0.11</td><td>0</td><td>0</td><td>0</td><td>0</td></tr>\n",
       "\t<tr><th scope=row>126</th><td>0.08333</td><td>0</td><td>0</td><td>0</td><td>0</td><td>0.3333</td><td>1</td><td>0.1667</td><td>0</td><td>1.94118</td><td>⋯</td><td>2.5</td><td>0</td><td>0</td><td>12.1771034541</td><td>10.4350252801</td><td>0.09</td><td>0</td><td>0</td><td>0</td><td>0</td></tr>\n",
       "\t<tr><th scope=row>127</th><td>0.21429</td><td>0</td><td>0</td><td>0</td><td>0</td><td>0.3333</td><td>1</td><td>0.1667</td><td>0.1</td><td>1.86667</td><td>⋯</td><td>2.5</td><td>0</td><td>0</td><td>12.7416338893</td><td>9.1845256176</td><td>0.026</td><td>0</td><td>0</td><td>0</td><td>0</td></tr>\n",
       "\t<tr><th scope=row>128</th><td>0.21429</td><td>0</td><td>0</td><td>0</td><td>0</td><td>0.3333</td><td>1</td><td>0.167</td><td>0.1</td><td>1.86667</td><td>⋯</td><td>2.5</td><td>0</td><td>1</td><td>12.7413448947</td><td>11.3527985687</td><td>-0.031</td><td>0</td><td>0</td><td>0</td><td>0</td></tr>\n",
       "\t<tr><th scope=row>129</th><td>0.65476</td><td>0</td><td>0.75</td><td>0.75</td><td>0.75</td><td>0.6667</td><td>1</td><td>0.6667</td><td>0.5</td><td>2.25</td><td>⋯</td><td>2.5</td><td>190.90909</td><td>0</td><td>12.3499358778</td><td>11.7413625283</td><td>0.34</td><td>286.363635</td><td>381.81818</td><td>572.72727</td><td>477.272725</td></tr>\n",
       "\t<tr><th scope=row>130</th><td>0.43056</td><td>0</td><td>0.5</td><td>0.5</td><td>0.25</td><td>0.6667</td><td>1</td><td>0.6667</td><td>0.2</td><td>2.11765</td><td>⋯</td><td>2.5</td><td>436.8932</td><td>0</td><td>12.4160067669</td><td>11.4418842296</td><td>0.24</td><td>728.156789644</td><td>946.603389644</td><td>1310.6796</td><td>1092.233</td></tr>\n",
       "\t<tr><th scope=row>131</th><td>0.69762</td><td>0.8</td><td>0.25</td><td>0</td><td>1</td><td>1</td><td>1</td><td>0.8333</td><td>0.6</td><td>2.11765</td><td>⋯</td><td>2.5</td><td>457.31707</td><td>0</td><td>12.5241759802</td><td>11.7059944712</td><td>0.25</td><td>685.975605</td><td>1067.07163894</td><td>1371.95121</td><td>1143.292675</td></tr>\n",
       "\t<tr><th scope=row>132</th><td>0.69762</td><td>0.8</td><td>0.25</td><td>0</td><td>1</td><td>1</td><td>1</td><td>0.8333</td><td>0.6</td><td>2.11765</td><td>⋯</td><td>2.5</td><td>468.5</td><td>0</td><td>12.5117079374</td><td>11.6956677003</td><td>0.17</td><td>702.75</td><td>1093.165105</td><td>1405.5</td><td>1171.25</td></tr>\n",
       "\t<tr><th scope=row>133</th><td>0.74048</td><td>0.6</td><td>0.75</td><td>0.75</td><td>0.75</td><td>1</td><td>1</td><td>0.3333</td><td>0.3</td><td>2.375</td><td>⋯</td><td>2.5</td><td>74</td><td>0</td><td>13.2613536923</td><td>12.535755392</td><td>0.14</td><td>123.33358</td><td>172.66642</td><td>222</td><td>185</td></tr>\n",
       "\t<tr><th scope=row>134</th><td>0.62222</td><td>0.4</td><td>0.5</td><td>0.5</td><td>0.5</td><td>1</td><td>1</td><td>0.8333</td><td>0.7</td><td>2.23529</td><td>⋯</td><td>2.5</td><td>60</td><td>0</td><td>13.3577247208</td><td>12.5316967087</td><td>0.03</td><td>109.9998</td><td>139.9998</td><td>180</td><td>150</td></tr>\n",
       "\t<tr><th scope=row>135</th><td>0.67619</td><td>0.4</td><td>0.5</td><td>0.5</td><td>0.5</td><td>1</td><td>1</td><td>0.8333</td><td>0.7</td><td>2.29412</td><td>⋯</td><td>2.5</td><td>44.47561</td><td>1</td><td>13.4509853246</td><td>12.6001590316</td><td>-7e-04</td><td>81.5384700813</td><td>111.189025</td><td>133.42683</td><td>111.189025</td></tr>\n",
       "\t<tr><th scope=row>136</th><td>0.67619</td><td>0.4</td><td>0.5</td><td>0.5</td><td>0.5</td><td>1</td><td>1</td><td>0.83333</td><td>0.7</td><td>2.29412</td><td>⋯</td><td>2.5</td><td>0</td><td>1</td><td>13.4568123018</td><td>12.6189591745</td><td>-0.0315</td><td>0</td><td>0</td><td>0</td><td>0</td></tr>\n",
       "\t<tr><th scope=row>137</th><td>0.78095</td><td>0.8</td><td>1</td><td>1</td><td>1</td><td>0</td><td>1</td><td>0.6667</td><td>0.6</td><td>2.375</td><td>⋯</td><td>2.5</td><td>10</td><td>1</td><td>11.9643904694</td><td>10.9298073638</td><td>-0.0434</td><td>18.3333</td><td>21.6667</td><td>30</td><td>25</td></tr>\n",
       "\t<tr><th scope=row>138</th><td>0.74444</td><td>0.8</td><td>1</td><td>1</td><td>1</td><td>0</td><td>1</td><td>0.6667</td><td>0.5</td><td>2.29412</td><td>⋯</td><td>2.25</td><td>0</td><td>1</td><td>12.0309807223</td><td>10.8882940238</td><td>-0.1516</td><td>0</td><td>0</td><td>0</td><td>0</td></tr>\n",
       "\t<tr><th scope=row>139</th><td>0.9</td><td>0.8</td><td>1</td><td>1</td><td>1</td><td>1</td><td>1</td><td>0.5</td><td>0.5</td><td>2.29412</td><td>⋯</td><td>2.5</td><td>0</td><td>0</td><td>12.1810763428</td><td>11.0144283289</td><td>0.0065</td><td>0</td><td>0</td><td>0</td><td>0</td></tr>\n",
       "\t<tr><th scope=row>140</th><td>0.9</td><td>0.8</td><td>1</td><td>1</td><td>1</td><td>1</td><td>1</td><td>0.5</td><td>0.5</td><td>2.29412</td><td>⋯</td><td>2.5</td><td>0</td><td>1</td><td>11.1909966401</td><td>10.8083797949</td><td>-0.2002</td><td>0</td><td>0</td><td>0</td><td>0</td></tr>\n",
       "\t<tr><th scope=row>141</th><td>0</td><td>0</td><td>0</td><td>0</td><td>0</td><td>0</td><td>0</td><td>0</td><td>0</td><td>2.14583</td><td>⋯</td><td>2.25</td><td>0</td><td>0</td><td>11.735823972</td><td>10.375715169</td><td>0.2485</td><td>0</td><td>0</td><td>0</td><td>0</td></tr>\n",
       "\t<tr><th scope=row>142</th><td>0</td><td>0</td><td>0</td><td>0</td><td>0</td><td>0</td><td>0</td><td>0</td><td>0</td><td>1.88235</td><td>⋯</td><td>2.25</td><td>0</td><td>0</td><td>11.5899574163</td><td>10.7464982777</td><td>0.1998</td><td>0</td><td>0</td><td>0</td><td>0</td></tr>\n",
       "\t<tr><th scope=row>143</th><td>0.09524</td><td>0</td><td>0</td><td>0</td><td>0</td><td>0.6667</td><td>0</td><td>0</td><td>0</td><td>1.875</td><td>⋯</td><td>2.25</td><td>50</td><td>0</td><td>11.8841615278</td><td>10.8591271023</td><td>0.0397</td><td>90</td><td>91.6665</td><td>50</td><td>112.5</td></tr>\n",
       "\t<tr><th scope=row>144</th><td>0.09524</td><td>0</td><td>0</td><td>0</td><td>0</td><td>0.6667</td><td>0</td><td>0</td><td>0</td><td>1.875</td><td>⋯</td><td>2.25</td><td>8</td><td>0</td><td>11.95292879</td><td>10.62347862</td><td>0.1792</td><td>14.4</td><td>14.66664</td><td>8</td><td>18</td></tr>\n",
       "</tbody>\n",
       "</table>\n"
      ],
      "text/latex": [
       "\\begin{tabular}{r|lllllllllllllllllllllll}\n",
       "  & CEI & BRIB_CORR & BUSS_ETH & FAIR_COMP & POL_CONTR & INDIG_PPL & IND_EC_IMP & X0TH_ENG & ALT_CEI & BRD_EFFC & ellip.h & BRD_COMPT & DIVIDEND & LOSS & TOT_ASSETS & SLACK & ROE & BRD_INDP_DIV & BRD_MEET_DIV & BRD_SIZE_DIV & BRD_COMPT_DIV\\\\\n",
       "\\hline\n",
       "\t1 & 0.57143 & 0 & 0.5 & 0.5 & 0.25 & 0.25 & 1 & 1 & 0.7 & 2.5 & ⋯ & 2.5 & 30.35 & 0 & 13.7113470044 & 12.7060284412 & 0.22 & 60.7 & 75.875 & 91.05 & 75.875\\\\\n",
       "\t2 & 0.54762 & 0 & 0.25 & 0.25 & 0.5 & 1 & 1 & 0.8333 & 0.5 & 2.35294 & ⋯ & 2.5 & 55.82524 & 0 & 13.8127353182 & 12.6864522999 & 0.141 & 93.0422527508 & 158.171327249 & 167.47572 & 139.5631\\\\\n",
       "\t3 & 0.52381 & 0 & 0.5 & 0.25 & 0.25 & 1 & 1 & 0.6667 & 0.5 & 2.23529 & ⋯ & 2.5 & 15.36585 & 0 & 13.9144592578 & 12.9195200726 & 0.074 & 28.1706737805 & 35.8535987805 & 46.09755 & 38.414625\\\\\n",
       "\t4 & 0.52381 & 0 & 0.5 & 0.25 & 0.25 & 1 & 1 & 0.6667 & 0.5 & 2.17647 & ⋯ & 2.5 & 29.375 & 0 & 13.9040389686 & 12.9692108322 & 0.056 & 44.0625 & 73.4375 & 88.125 & 73.4375\\\\\n",
       "\t5 & 0.4881 & 0 & 0.5 & 0.75 & 0 & 1 & 1 & 0.1667 & 0.3 & 2.26458 & ⋯ & 2.225 & 0 & 0 & 12.3619890894 & 11.5552915905 & 0.0569 & 0 & 0 & 0 & 0\\\\\n",
       "\t6 & 0.7381 & 0 & 1 & 1 & 1 & 0.667 & 1 & 0.5 & 0.5 & 2.17647 & ⋯ & 2.5 & 0 & 1 & 12.4629864454 & 11.1836429401 & -0.0773 & 0 & 0 & 0 & 0\\\\\n",
       "\t7 & 0.45238 & 0 & 1 & 0 & 0 & 0.6667 & 1 & 0.5 & 0.6 & 2.41176 & ⋯ & 2.75 & 0 & 1 & 12.5861164202 & 10.351711481 & -0.0799 & 0 & 0 & 0 & 0\\\\\n",
       "\t8 & 0.78571 & 0 & 1 & 1 & 1 & 1 & 1 & 0.5 & 0.4 & 2.29412 & ⋯ & 2.75 & 0 & 1 & 12.6273005539 & 10.722222464 & -0.2293 & 0 & 0 & 0 & 0\\\\\n",
       "\t9 & 0 & 0 & 0 & 0 & 0 & 0 & 0 & 0 & 0 & 1.77083 & ⋯ & 2.25 & 0 & 1 & 11.0478979619 & 9.5402516202 & -0.6431 & 0 & 0 & 0 & 0\\\\\n",
       "\t10 & 0.19444 & 0 & 0 & 0 & 0 & 1 & 0.5 & 0.1667 & 0.3 & 2.05882 & ⋯ & 2 & 0 & 1 & 8.1784865822 & 6.4482448881 & -0.382 & 0 & 0 & 0 & 0\\\\\n",
       "\t11 & 0.19048 & 0 & 0 & 0 & 0 & 0.6667 & 0.5 & 0.1667 & 0.2 & 2.11765 & ⋯ & 2 & 0 & 0 & 12.1729938377 & 7.4794296236 & 0.012 & 0 & 0 & 0 & 0\\\\\n",
       "\t12 & 0.4881 & 0 & 0.25 & 0 & 0.5 & 1 & 1 & 0.6667 & 0.4 & 2.05882 & ⋯ & 2.5 & 0 & 1 & 11.1784865822 & 9.5032344573 & -0.361 & 0 & 0 & 0 & 0\\\\\n",
       "\t13 & 0.40476 & 0 & 0 & 0 & 0 & 1 & 1 & 0.8333 & 0.6 & 2.08333 & ⋯ & 2.5 & 3.55 & 0 & 13.2722636571 & 12.6748377642 & 0.3073 & 9.4666785 & 7.6916785 & 3.55 & 8.875\\\\\n",
       "\t14 & 0.48611 & 0 & 1 & 0.25 & 0 & 1 & 1 & 0.6667 & 0.6 & 2.41176 & ⋯ & 3 & 7.76699 & 1 & 13.3191970495 & 12.5483202289 & -0.7409 & 18.1229507767 & 15.53398 & 23.30097 & 23.30097\\\\\n",
       "\t15 & 0.72143 & 0.8 & 1 & 0.25 & 0 & 1 & 1 & 1 & 0.6 & 2.41176 & ⋯ & 2.75 & 0 & 1 & 13.3874380093 & 12.6970048826 & -2.03 & 0 & 0 & 0 & 0\\\\\n",
       "\t16 & 0.80476 & 0.8 & 1 & 1 & 0 & 1 & 1 & 0.83333 & 0.6 & 1.66667 & ⋯ & 2 & 0 & 1 & 13.3456187486 & 12.6277011786 & -2.02 & 0 & 0 & 0 & 0\\\\\n",
       "\t17 & 0.77619 & 0.6 & 1 & 0 & 1 & 1 & 1 & 0.8333 & 0.6 & 2.10417 & ⋯ & 2.75 & 0 & 0 & 13.2406593298 & 12.0508361992 & 0.04726 & 0 & 0 & 0 & 0\\\\\n",
       "\t18 & 0.675 & 0.8 & 0.5 & 0.25 & 1 & 1 & 1 & 0.5 & 0.7 & 2.52941 & ⋯ & 2.75 & 0 & 1 & 13.2853840191 & 12.0537505376 & -0.04 & 0 & 0 & 0 & 0\\\\\n",
       "\t19 & 0.7881 & 0.6 & 0.75 & 0.75 & 0.75 & 1 & 1 & 0.6667 & 0.6 & 2.4 & ⋯ & 2.5 & 0 & 1 & 13.3844073925 & 12.1527925385 & 0.04 & 0 & 0 & 0 & 0\\\\\n",
       "\t20 & 0.68095 & 0.6 & 0.75 & 0 & 0.75 & 1 & 1 & 0.6667 & 0.6 & 2.35294 & ⋯ & 2.75 & 0 & 1 & 13.367246593 & 10.8946206959 & -0.125 & 0 & 0 & 0 & 0\\\\\n",
       "\t21 & 0.64286 & 0 & 1 & 1 & 0 & 1 & 1 & 0.5 & 0.5 & 2.45833 & ⋯ & 2.5 & 80 & 0 & 13.1579460937 & 12.1841219331 & 0.285 & 160 & 186.6664 & 240 & 200\\\\\n",
       "\t22 & 0.64286 & 0 & 1 & 1 & 0 & 1 & 1 & 0.5 & 0.5 & 2 & ⋯ & 2.5 & 200 & 0 & 26.5576476762 & 26.6045810686 & 0.078 & 400 & 300 & 600 & 500\\\\\n",
       "\t23 & 0.58095 & 0.4 & 0.75 & 0 & 0.75 & 0.6667 & 1 & 0.5 & 0.5 & 1.94118 & ⋯ & 2.5 & 200 & 0 & 13.3670159581 & 12.2702223055 & 0.078 & 366.666 & 300 & 600 & 500\\\\\n",
       "\t24 & 0.52381 & 0 & 0.5 & 0.5 & 0 & 1 & 1 & 0.6667 & 0.7 & 2.05882 & ⋯ & 2.5 & 0 & 1 & 13.1619876703 & 12.0004251778 & -0.74 & 0 & 0 & 0 & 0\\\\\n",
       "\t25 & 0.54048 & 0.2 & 0.25 & 0.25 & 0.25 & 1 & 1 & 0.8333 & 0.7 & 2.0625 & ⋯ & 2.75 & 0 & 1 & 12.5672680016 & 11.5286472517 & -0.08 & 0 & 0 & 0 & 0\\\\\n",
       "\t26 & 0.48889 & 0.6 & 0.5 & 0.5 & 0 & 0.667 & 1 & 0.6667 & 0.5 & 2.41176 & ⋯ & 2.5 & 0 & 1 & 12.6300977378 & 11.3602530756 & -0.14 & 0 & 0 & 0 & 0\\\\\n",
       "\t27 & 0.5619 & 0.6 & 0.5 & 0.5 & 0 & 0.6667 & 1 & 0.6667 & 0.5 & 2.17647 & ⋯ & 2.5 & 0 & 1 & 12.7291211112 & 11.4592764489 & 0.14 & 0 & 0 & 0 & 0\\\\\n",
       "\t28 & 0.87619 & 0.8 & 1 & 1 & 0.5 & 1 & 1 & 0.8333 & 0.7 & 2.35294 & ⋯ & 2.5 & 0 & 0 & 12.6481879756 & 11.2303385455 & 0 & 0 & 0 & 0 & 0\\\\\n",
       "\t29 & 0.45238 & 0 & 0.25 & 0.25 & 0 & 1 & 1 & 0.6667 & 0.6 & 2.85417 & ⋯ & 2.75 & 0 & 1 & 13.0342272608 & 12.2860071221 & -0.16021 & 0 & 0 & 0 & 0\\\\\n",
       "\t30 & 0.45238 & 0 & 0.25 & 0.25 & 0 & 1 & 1 & 0.6667 & 0.6 & 2.76471 & ⋯ & 2.5 & 0 & 1 & 13.0516207617 & 11.7430376281 & 0.16 & 0 & 0 & 0 & 0\\\\\n",
       "\t31 & ⋮ & ⋮ & ⋮ & ⋮ & ⋮ & ⋮ & ⋮ & ⋮ & ⋮ & ⋮ & NA & ⋮ & ⋮ & ⋮ & ⋮ & ⋮ & ⋮ & ⋮ & ⋮ & ⋮ & ⋮\\\\\n",
       "\t115 & 0.70952 & 0.8 & 0.5 & 0 & 1 & 1 & 1 & 0.6667 & 0.5 & 2.52941 & ⋯ & 2.5 & 56.29 & 0 & 12.8967077235 & 11.787954708 & 0.13 & 140.725 & 140.725 & 168.87 & 140.725\\\\\n",
       "\t116 & 0.70952 & 0.8 & 0.5 & 0 & 1 & 1 & 1 & 0.6667 & 0.6 & 2.52941 & ⋯ & 2.5 & 0 & 0 & 12.9891149348 & 11.5616927667 & 0.13 & 0 & 0 & 0 & 0\\\\\n",
       "\t117 & 0.28571 & 0 & 0.5 & 0 & 0 & 0.3333 & 1 & 0.1667 & 0.1 & 1.79167 & ⋯ & 2.5 & 0 & 0 & 11.3389572862 & 10.0179147083 & 0.01 & 0 & 0 & 0 & 0\\\\\n",
       "\t118 & 0.36111 & 0 & 0.25 & 0.25 & 0.5 & 1 & 1 & 0.1667 & 0.4 & 1.875 & ⋯ & 2.5 & 0 & 0 & 11.2455151354 & 10.1522744363 & 0.035 & 0 & 0 & 0 & 0\\\\\n",
       "\t119 & 0.5 & 0 & 0.75 & 0 & 0.75 & 0.6667 & 1 & 0.3333 & 0.2 & 1.88235 & ⋯ & 2.5 & 0 & 0 & 11.5144946247 & 10.115563104 & 0.0061 & 0 & 0 & 0 & 0\\\\\n",
       "\t120 & 0.46429 & 0 & 0.5 & 0 & 0.75 & 0.6667 & 1 & 0.3333 & 0.2 & 1.88235 & ⋯ & 2.5 & 0 & 0 & 11.5635439705 & 10.0134247523 & 0.0115 & 0 & 0 & 0 & 0\\\\\n",
       "\t121 & 0.42857 & 0 & 0 & 0.5 & 0.5 & 1 & 1 & 0 & 0.3 & 2.0625 & ⋯ & 2.75 & 0 & 0 & 11.1718455607 & 10.5221477744 & 0.4375 & 0 & 0 & 0 & 0\\\\\n",
       "\t122 & 0.19444 & 0 & 0 & 0 & 0 & 1 & 1 & 0.1667 & 0.3 & 2.3125 & ⋯ & 2.75 & 0 & 0 & 11.1718463433 & 10.5221477744 & 0.233 & 0 & 0 & 0 & 0\\\\\n",
       "\t123 & 0.21429 & 0 & 0 & 0 & 0 & 0.3333 & 1 & 0.1667 & 0.1 & 2.52941 & ⋯ & 2.5 & 2 & 0 & 11.1958802885 & 10.6990299801 & 0.1972 & 5 & 5 & 6 & 5\\\\\n",
       "\t124 & 0.40476 & 0 & 0.5 & 0 & 0 & 1 & 1 & 0.3333 & 0.3 & 2.52941 & ⋯ & 2.5 & 0 & 0 & 11.5595224096 & 10.6774998968 & 0.0278 & 0 & 0 & 0 & 0\\\\\n",
       "\t125 & 0.21429 & 0 & 0 & 0 & 0 & 0.3333 & 1 & 0.1667 & 0.1 & 1.875 & ⋯ & 2.5 & 0 & 0 & 12.233171158 & 10.4750307202 & 0.11 & 0 & 0 & 0 & 0\\\\\n",
       "\t126 & 0.08333 & 0 & 0 & 0 & 0 & 0.3333 & 1 & 0.1667 & 0 & 1.94118 & ⋯ & 2.5 & 0 & 0 & 12.1771034541 & 10.4350252801 & 0.09 & 0 & 0 & 0 & 0\\\\\n",
       "\t127 & 0.21429 & 0 & 0 & 0 & 0 & 0.3333 & 1 & 0.1667 & 0.1 & 1.86667 & ⋯ & 2.5 & 0 & 0 & 12.7416338893 & 9.1845256176 & 0.026 & 0 & 0 & 0 & 0\\\\\n",
       "\t128 & 0.21429 & 0 & 0 & 0 & 0 & 0.3333 & 1 & 0.167 & 0.1 & 1.86667 & ⋯ & 2.5 & 0 & 1 & 12.7413448947 & 11.3527985687 & -0.031 & 0 & 0 & 0 & 0\\\\\n",
       "\t129 & 0.65476 & 0 & 0.75 & 0.75 & 0.75 & 0.6667 & 1 & 0.6667 & 0.5 & 2.25 & ⋯ & 2.5 & 190.90909 & 0 & 12.3499358778 & 11.7413625283 & 0.34 & 286.363635 & 381.81818 & 572.72727 & 477.272725\\\\\n",
       "\t130 & 0.43056 & 0 & 0.5 & 0.5 & 0.25 & 0.6667 & 1 & 0.6667 & 0.2 & 2.11765 & ⋯ & 2.5 & 436.8932 & 0 & 12.4160067669 & 11.4418842296 & 0.24 & 728.156789644 & 946.603389644 & 1310.6796 & 1092.233\\\\\n",
       "\t131 & 0.69762 & 0.8 & 0.25 & 0 & 1 & 1 & 1 & 0.8333 & 0.6 & 2.11765 & ⋯ & 2.5 & 457.31707 & 0 & 12.5241759802 & 11.7059944712 & 0.25 & 685.975605 & 1067.07163894 & 1371.95121 & 1143.292675\\\\\n",
       "\t132 & 0.69762 & 0.8 & 0.25 & 0 & 1 & 1 & 1 & 0.8333 & 0.6 & 2.11765 & ⋯ & 2.5 & 468.5 & 0 & 12.5117079374 & 11.6956677003 & 0.17 & 702.75 & 1093.165105 & 1405.5 & 1171.25\\\\\n",
       "\t133 & 0.74048 & 0.6 & 0.75 & 0.75 & 0.75 & 1 & 1 & 0.3333 & 0.3 & 2.375 & ⋯ & 2.5 & 74 & 0 & 13.2613536923 & 12.535755392 & 0.14 & 123.33358 & 172.66642 & 222 & 185\\\\\n",
       "\t134 & 0.62222 & 0.4 & 0.5 & 0.5 & 0.5 & 1 & 1 & 0.8333 & 0.7 & 2.23529 & ⋯ & 2.5 & 60 & 0 & 13.3577247208 & 12.5316967087 & 0.03 & 109.9998 & 139.9998 & 180 & 150\\\\\n",
       "\t135 & 0.67619 & 0.4 & 0.5 & 0.5 & 0.5 & 1 & 1 & 0.8333 & 0.7 & 2.29412 & ⋯ & 2.5 & 44.47561 & 1 & 13.4509853246 & 12.6001590316 & -7e-04 & 81.5384700813 & 111.189025 & 133.42683 & 111.189025\\\\\n",
       "\t136 & 0.67619 & 0.4 & 0.5 & 0.5 & 0.5 & 1 & 1 & 0.83333 & 0.7 & 2.29412 & ⋯ & 2.5 & 0 & 1 & 13.4568123018 & 12.6189591745 & -0.0315 & 0 & 0 & 0 & 0\\\\\n",
       "\t137 & 0.78095 & 0.8 & 1 & 1 & 1 & 0 & 1 & 0.6667 & 0.6 & 2.375 & ⋯ & 2.5 & 10 & 1 & 11.9643904694 & 10.9298073638 & -0.0434 & 18.3333 & 21.6667 & 30 & 25\\\\\n",
       "\t138 & 0.74444 & 0.8 & 1 & 1 & 1 & 0 & 1 & 0.6667 & 0.5 & 2.29412 & ⋯ & 2.25 & 0 & 1 & 12.0309807223 & 10.8882940238 & -0.1516 & 0 & 0 & 0 & 0\\\\\n",
       "\t139 & 0.9 & 0.8 & 1 & 1 & 1 & 1 & 1 & 0.5 & 0.5 & 2.29412 & ⋯ & 2.5 & 0 & 0 & 12.1810763428 & 11.0144283289 & 0.0065 & 0 & 0 & 0 & 0\\\\\n",
       "\t140 & 0.9 & 0.8 & 1 & 1 & 1 & 1 & 1 & 0.5 & 0.5 & 2.29412 & ⋯ & 2.5 & 0 & 1 & 11.1909966401 & 10.8083797949 & -0.2002 & 0 & 0 & 0 & 0\\\\\n",
       "\t141 & 0 & 0 & 0 & 0 & 0 & 0 & 0 & 0 & 0 & 2.14583 & ⋯ & 2.25 & 0 & 0 & 11.735823972 & 10.375715169 & 0.2485 & 0 & 0 & 0 & 0\\\\\n",
       "\t142 & 0 & 0 & 0 & 0 & 0 & 0 & 0 & 0 & 0 & 1.88235 & ⋯ & 2.25 & 0 & 0 & 11.5899574163 & 10.7464982777 & 0.1998 & 0 & 0 & 0 & 0\\\\\n",
       "\t143 & 0.09524 & 0 & 0 & 0 & 0 & 0.6667 & 0 & 0 & 0 & 1.875 & ⋯ & 2.25 & 50 & 0 & 11.8841615278 & 10.8591271023 & 0.0397 & 90 & 91.6665 & 50 & 112.5\\\\\n",
       "\t144 & 0.09524 & 0 & 0 & 0 & 0 & 0.6667 & 0 & 0 & 0 & 1.875 & ⋯ & 2.25 & 8 & 0 & 11.95292879 & 10.62347862 & 0.1792 & 14.4 & 14.66664 & 8 & 18\\\\\n",
       "\\end{tabular}\n"
      ],
      "text/plain": [
       "        CEI BRIB_CORR BUSS_ETH FAIR_COMP POL_CONTR INDIG_PPL IND_EC_IMP\n",
       "1   0.57143       0.0     0.50      0.50      0.25   0.25000        1.0\n",
       "2   0.54762       0.0     0.25      0.25      0.50   1.00000        1.0\n",
       "3   0.52381       0.0     0.50      0.25      0.25   1.00000        1.0\n",
       "4   0.52381       0.0     0.50      0.25      0.25   1.00000        1.0\n",
       "5   0.48810       0.0     0.50      0.75      0.00   1.00000        1.0\n",
       "6   0.73810       0.0     1.00      1.00      1.00   0.66700        1.0\n",
       "7   0.45238       0.0     1.00      0.00      0.00   0.66670        1.0\n",
       "8   0.78571       0.0     1.00      1.00      1.00   1.00000        1.0\n",
       "9   0.00000       0.0     0.00      0.00      0.00   0.00000        0.0\n",
       "10  0.19444       0.0     0.00      0.00      0.00   1.00000        0.5\n",
       "11  0.19048       0.0     0.00      0.00      0.00   0.66670        0.5\n",
       "12  0.48810       0.0     0.25      0.00      0.50   1.00000        1.0\n",
       "13  0.40476       0.0     0.00      0.00      0.00   1.00000        1.0\n",
       "14  0.48611       0.0     1.00      0.25      0.00   1.00000        1.0\n",
       "15  0.72143       0.8     1.00      0.25      0.00   1.00000        1.0\n",
       "16  0.80476       0.8     1.00      1.00      0.00   1.00000        1.0\n",
       "17  0.77619       0.6     1.00      0.00      1.00   1.00000        1.0\n",
       "18  0.67500       0.8     0.50      0.25      1.00   1.00000        1.0\n",
       "19  0.78810       0.6     0.75      0.75      0.75   1.00000        1.0\n",
       "20  0.68095       0.6     0.75      0.00      0.75   1.00000        1.0\n",
       "21  0.64286       0.0     1.00      1.00      0.00   1.00000        1.0\n",
       "22  0.64286       0.0     1.00      1.00      0.00   1.00000        1.0\n",
       "23  0.58095       0.4     0.75      0.00      0.75   0.66670        1.0\n",
       "24  0.52381       0.0     0.50      0.50      0.00   1.00000        1.0\n",
       "25  0.54048       0.2     0.25      0.25      0.25   1.00000        1.0\n",
       "26  0.48889       0.6     0.50      0.50      0.00   0.66700        1.0\n",
       "27  0.56190       0.6     0.50      0.50      0.00   0.66670        1.0\n",
       "28  0.87619       0.8     1.00      1.00      0.50   1.00000        1.0\n",
       "29  0.45238       0.0     0.25      0.25      0.00   1.00000        1.0\n",
       "30  0.45238       0.0     0.25      0.25      0.00   1.00000        1.0\n",
       "31  0.65238       0.4     0.50      0.50      0.50   1.00000        1.0\n",
       "32  0.60714       0.0     1.00      0.00      0.75   0.66670        1.0\n",
       "33  0.35714       0.0     0.00      0.00      0.00   1.00000        1.0\n",
       "34  0.36111       0.0     0.50      0.00      0.00   1.00000        1.0\n",
       "35  0.47619       0.0     0.50      0.00      0.00   1.00000        1.0\n",
       "36  0.75476       0.2     1.00      0.50      0.75   1.00000        1.0\n",
       "37  0.56905       0.4     0.75      0.75      0.75   0.66670        0.5\n",
       "38  0.27778       0.0     0.00      0.50      0.50   0.66700        1.0\n",
       "39  0.38095       0.0     0.00      0.50      0.50   0.66670        1.0\n",
       "40  0.61905       0.0     0.75      0.50      0.75   1.00000        1.0\n",
       "41  0.35714       0.0     0.00      0.00      0.00   1.00000        0.5\n",
       "42  0.33333       0.0     0.00      0.00      0.50   1.00000        1.0\n",
       "43  0.33333       0.0     0.00      0.00      0.00   1.00000        1.0\n",
       "44  0.38095       0.0     0.00      0.00      0.00   1.00000        1.0\n",
       "45  0.94762       0.8     1.00      1.00      1.00   1.00000        1.0\n",
       "46  0.78611       0.8     0.75      0.75      0.75   1.00000        1.0\n",
       "47  0.84048       0.8     0.75      0.75      0.75   1.00000        1.0\n",
       "48  0.81667       0.8     0.75      0.75      0.75   1.00000        1.0\n",
       "49  0.42857       0.0     0.50      0.00      0.50   0.66700        1.0\n",
       "50  0.57222       0.6     0.75      0.00      0.75   0.66700        1.0\n",
       "51  0.47619       0.0     0.50      0.50      0.00   1.00000        1.0\n",
       "52  0.76429       0.6     0.50      1.00      0.75   1.00000        1.0\n",
       "53  0.21429       0.0     0.00      0.00      0.00   0.66700        0.5\n",
       "54  0.42500       0.8     0.25      0.00      0.00   1.00000        1.0\n",
       "55  0.75714       0.8     0.75      0.75      1.00   0.66670        1.0\n",
       "56  0.74524       0.8     0.50      0.75      1.00   0.66670        1.0\n",
       "57  0.00000       0.0     0.00      0.00      0.00   0.00000        0.0\n",
       "58  0.02778       0.0     0.00      0.00      0.00   0.00000        0.0\n",
       "59  0.02381       0.0     0.00      0.00      0.00   0.00000        0.0\n",
       "60  0.00000       0.0     0.00      0.00      0.00   0.00000        0.0\n",
       "61  0.45238       0.0     0.50      0.00      0.00   1.00000        1.0\n",
       "62  0.44444       0.0     0.50      0.50      0.00   1.00000        1.0\n",
       "63  0.47619       0.0     0.50      0.00      0.50   0.66670        1.0\n",
       "64  0.73333       0.8     1.00      0.00      1.00   0.66670        1.0\n",
       "65  0.37500       0.0     0.50      0.00      0.25   1.00000        1.0\n",
       "66  0.37500       0.0     0.50      0.00      0.25   1.00000        1.0\n",
       "67  0.46429       0.0     0.50      0.00      0.25   1.00000        1.0\n",
       "68  0.46429       0.0     0.50      0.00      0.25   1.00000        1.0\n",
       "69  0.23810       0.0     0.00      0.00      0.00   0.33330        1.0\n",
       "70  0.16667       0.0     0.00      0.00      0.00   0.66700        0.0\n",
       "71  0.14286       0.0     0.00      0.00      0.00   0.66670        0.0\n",
       "72  0.14286       0.0     0.00      0.00      0.00   0.66670        0.0\n",
       "73  0.80476       0.8     1.00      1.00      0.00   1.00000        1.0\n",
       "74  0.65556       0.6     1.00      0.00      1.00   0.66700        1.0\n",
       "75  0.48571       0.4     1.00      0.00      0.00   0.66670        1.0\n",
       "76  0.70476       0.6     1.00      0.00      1.00   0.66670        1.0\n",
       "77  0.40476       0.0     0.50      0.00      0.00   0.66700        1.0\n",
       "78  0.37222       0.4     0.50      0.00      0.00   0.66700        1.0\n",
       "79  0.46190       0.4     0.50      0.00      0.00   0.66670        1.0\n",
       "80  0.48571       0.4     0.50      0.00      0.00   0.66670        1.0\n",
       "81  0.26190       0.0     0.00      0.00      0.00   0.33330        1.0\n",
       "82  0.22222       0.0     0.00      0.00      0.00   1.00000        1.0\n",
       "83  0.35714       0.0     0.00      0.00      0.00   1.00000        1.0\n",
       "84  0.45238       0.0     0.50      0.00      0.00   1.00000        1.0\n",
       "85  0.70000       0.4     1.00      1.00      0.50   0.33330        1.0\n",
       "86  0.50278       0.6     0.75      0.00      0.00   1.00000        1.0\n",
       "87  0.69524       0.2     0.75      1.00      0.25   1.00000        1.0\n",
       "88  0.57381       0.6     0.75      0.00      0.00   1.00000        1.0\n",
       "89  0.62619       0.8     0.75      0.00      0.00   1.00000        1.0\n",
       "90  0.93889       0.8     1.00      1.00      1.00   1.00000        1.0\n",
       "91  0.94762       0.8     1.00      1.00      1.00   1.00000        1.0\n",
       "92  0.94762       0.8     1.00      1.00      1.00   1.00000        1.0\n",
       "93  0.00000       0.0     0.00      0.00      0.00   0.00000        0.0\n",
       "94  0.26190       0.0     0.00      0.00      0.00   0.66670        1.0\n",
       "95  0.26190       0.0     0.00      0.00      0.00   0.66670        1.0\n",
       "96  0.26190       0.0     0.00      0.00      0.00   0.66670        1.0\n",
       "97  0.16667       0.0     0.00      0.00      0.00   0.66670        0.5\n",
       "98  0.29167       0.0     0.00      0.00      0.25   1.00000        1.0\n",
       "99  0.39286       0.0     0.00      0.00      0.25   1.00000        1.0\n",
       "100 0.36905       0.0     0.00      0.00      0.25   1.00000        1.0\n",
       "101 0.44048       0.0     0.25      0.00      0.00   1.00000        1.0\n",
       "102 0.93889       0.8     1.00      1.00      1.00   1.00000        1.0\n",
       "103 0.75714       0.8     1.00      0.00      0.50   1.00000        1.0\n",
       "104 0.75714       0.8     1.00      0.00      0.50   1.00000        1.0\n",
       "105 0.07143       0.0     0.00      0.00      0.00   0.33333        0.0\n",
       "106 0.11111       0.0     0.00      0.00      0.00   0.33330        1.0\n",
       "107 0.35714       0.0     0.00      0.00      0.00   1.00000        1.0\n",
       "108 0.30952       0.0     0.00      0.00      0.00   0.66670        1.0\n",
       "109 0.30952       0.0     0.00      0.00      0.00   1.00000        1.0\n",
       "110 0.19444       0.0     0.00      0.00      0.00   1.00000        0.0\n",
       "111 0.33333       0.0     0.00      0.00      0.00   1.00000        1.0\n",
       "112 0.16667       0.0     0.00      0.00      0.00   1.00000        0.0\n",
       "113 0.95238       1.0     1.00      1.00      1.00   1.00000        1.0\n",
       "114 0.94444       1.0     1.00      1.00      1.00   1.00000        1.0\n",
       "115 0.70952       0.8     0.50      0.00      1.00   1.00000        1.0\n",
       "116 0.70952       0.8     0.50      0.00      1.00   1.00000        1.0\n",
       "117 0.28571       0.0     0.50      0.00      0.00   0.33330        1.0\n",
       "118 0.36111       0.0     0.25      0.25      0.50   1.00000        1.0\n",
       "119 0.50000       0.0     0.75      0.00      0.75   0.66670        1.0\n",
       "120 0.46429       0.0     0.50      0.00      0.75   0.66670        1.0\n",
       "121 0.42857       0.0     0.00      0.50      0.50   1.00000        1.0\n",
       "122 0.19444       0.0     0.00      0.00      0.00   1.00000        1.0\n",
       "123 0.21429       0.0     0.00      0.00      0.00   0.33330        1.0\n",
       "124 0.40476       0.0     0.50      0.00      0.00   1.00000        1.0\n",
       "125 0.21429       0.0     0.00      0.00      0.00   0.33330        1.0\n",
       "126 0.08333       0.0     0.00      0.00      0.00   0.33330        1.0\n",
       "127 0.21429       0.0     0.00      0.00      0.00   0.33330        1.0\n",
       "128 0.21429       0.0     0.00      0.00      0.00   0.33330        1.0\n",
       "129 0.65476       0.0     0.75      0.75      0.75   0.66670        1.0\n",
       "130 0.43056       0.0     0.50      0.50      0.25   0.66670        1.0\n",
       "131 0.69762       0.8     0.25      0.00      1.00   1.00000        1.0\n",
       "132 0.69762       0.8     0.25      0.00      1.00   1.00000        1.0\n",
       "133 0.74048       0.6     0.75      0.75      0.75   1.00000        1.0\n",
       "134 0.62222       0.4     0.50      0.50      0.50   1.00000        1.0\n",
       "135 0.67619       0.4     0.50      0.50      0.50   1.00000        1.0\n",
       "136 0.67619       0.4     0.50      0.50      0.50   1.00000        1.0\n",
       "137 0.78095       0.8     1.00      1.00      1.00   0.00000        1.0\n",
       "138 0.74444       0.8     1.00      1.00      1.00   0.00000        1.0\n",
       "139 0.90000       0.8     1.00      1.00      1.00   1.00000        1.0\n",
       "140 0.90000       0.8     1.00      1.00      1.00   1.00000        1.0\n",
       "141 0.00000       0.0     0.00      0.00      0.00   0.00000        0.0\n",
       "142 0.00000       0.0     0.00      0.00      0.00   0.00000        0.0\n",
       "143 0.09524       0.0     0.00      0.00      0.00   0.66670        0.0\n",
       "144 0.09524       0.0     0.00      0.00      0.00   0.66670        0.0\n",
       "    X0TH_ENG ALT_CEI BRD_EFFC BRD_INDP BRD_MEET BRD_SIZE BRD_COMPT   DIVIDEND\n",
       "1    1.00000     0.7  2.50000  2.00000  2.50000        3   2.50000   30.35000\n",
       "2    0.83330     0.5  2.35294  1.66667  2.83333        3   2.50000   55.82524\n",
       "3    0.66670     0.5  2.23529  1.83333  2.33333        3   2.50000   15.36585\n",
       "4    0.66670     0.5  2.17647  1.50000  2.50000        3   2.50000   29.37500\n",
       "5    0.16670     0.3  2.26458  1.83333  2.00000        3   2.22500    0.00000\n",
       "6    0.50000     0.5  2.17647  1.83333  2.16667        3   2.50000    0.00000\n",
       "7    0.50000     0.6  2.41176  1.83333  2.66667        3   2.75000    0.00000\n",
       "8    0.50000     0.4  2.29412  1.83333  2.33333        3   2.75000    0.00000\n",
       "9    0.00000     0.0  1.77083  1.83333  2.00000        1   2.25000    0.00000\n",
       "10   0.16670     0.3  2.05882  2.00000  2.33333        1   2.00000    0.00000\n",
       "11   0.16670     0.2  2.11765  2.16667  2.33333        1   2.00000    0.00000\n",
       "12   0.66670     0.4  2.05882  2.00000  2.00000        1   2.50000    0.00000\n",
       "13   0.83330     0.6  2.08333  2.66667  2.16667        1   2.50000    3.55000\n",
       "14   0.66670     0.6  2.41176  2.33333  2.00000        3   3.00000    7.76699\n",
       "15   1.00000     0.6  2.41176  2.16667  2.33333        3   2.75000    0.00000\n",
       "16   0.83333     0.6  1.66667  1.66667  1.50000        1   2.00000    0.00000\n",
       "17   0.83330     0.6  2.10417  2.16667  2.50000        1   2.75000    0.00000\n",
       "18   0.50000     0.7  2.52941  2.33333  2.83333        1   2.75000    0.00000\n",
       "19   0.66670     0.6  2.40000  2.50000  2.50000        1   2.50000    0.00000\n",
       "20   0.66670     0.6  2.35294  2.16667  2.50000        1   2.75000    0.00000\n",
       "21   0.50000     0.5  2.45833  2.00000  2.33333        3   2.50000   80.00000\n",
       "22   0.50000     0.5  2.00000  2.00000  1.50000        3   2.50000  200.00000\n",
       "23   0.50000     0.5  1.94118  1.83333  1.50000        3   2.50000  200.00000\n",
       "24   0.66670     0.7  2.05882  1.83333  1.83333        3   2.50000    0.00000\n",
       "25   0.83330     0.7  2.06250  1.83333  2.66667        1   2.75000    0.00000\n",
       "26   0.66670     0.5  2.41176  2.16667  2.83333        1   2.50000    0.00000\n",
       "27   0.66670     0.5  2.17647  1.83333  2.50000        1   2.50000    0.00000\n",
       "28   0.83330     0.7  2.35294  1.83333  2.66667        3   2.50000    0.00000\n",
       "29   0.66670     0.6  2.85417  2.83333  2.83333        3   2.75000    0.00000\n",
       "30   0.66670     0.6  2.76471  2.83333  2.83333        3   2.50000    0.00000\n",
       "31   0.66670     0.5  2.58824  2.50000  2.66667        3   2.50000    0.00000\n",
       "32   0.83330     0.7  2.88235  3.00000  2.83333        3   2.75000    0.00000\n",
       "33   0.50000     0.3  2.35417  1.66667  2.50000        3   2.25000    0.00000\n",
       "34   0.66670     0.6  2.41176  1.66667  2.83333        3   2.75000   17.50000\n",
       "35   0.83330     0.7  2.35294  2.00000  2.50000        3   2.50000   31.50000\n",
       "36   0.83333     0.6  2.17647  1.83333  2.16667        3   2.50000    0.00000\n",
       "37   0.16670     0.2  1.97917  1.83333  2.33333        1   2.75000    0.00000\n",
       "38   0.00000     0.3  2.11765  1.50000  2.33333        1   3.00000    0.00000\n",
       "39   0.00000     0.3  2.23529  1.83333  2.33333        1   3.00000    0.00000\n",
       "40   0.83333     0.4  2.23529  1.83333  2.33333        1   3.00000    0.00000\n",
       "41   0.35700     0.5  2.43750  1.83333  2.16667        3   2.75000  244.10000\n",
       "42   0.50000     0.5  2.47059  2.16667  2.66667        3   2.50000  380.00000\n",
       "43   0.33330     0.3  2.23529  1.83333  2.33333        3   2.50000  252.00000\n",
       "44   0.83333     0.5  2.41176  2.16667  2.33333        3   2.75000  110.00000\n",
       "45   0.83330     0.7  2.72917  2.16667  3.00000        3   2.75000  407.00000\n",
       "46   0.66670     0.7  2.76471  2.66667  3.00000        3   2.50000 1666.00000\n",
       "47   0.83333     0.8  2.70588  2.33333  3.00000        3   2.75000 1464.00000\n",
       "48   0.66670     0.7  2.41176  2.16667  2.33333        3   2.75000 1100.00000\n",
       "49   0.33300     0.1  1.87500  1.66667  2.33333        1   2.50000   50.00000\n",
       "50   0.66670     0.5  2.47059  1.83333  2.83333        3   2.75000  200.00000\n",
       "51   0.33333     0.4  2.52941  2.00000  2.66667        3   3.00000   75.00000\n",
       "52   0.50000     0.5  2.29412  2.16667  2.50000        1   2.50000  100.00000\n",
       "53   0.33300     0.1  1.83333  1.83333  2.00000        1   2.50000    0.00000\n",
       "54   0.50000     0.6  2.00000  1.50000  2.33333        1   2.50000    0.00000\n",
       "55   0.33330     0.4  2.05882  1.83333  2.16667        1   2.50000    0.00000\n",
       "56   0.50000     0.5  2.17647  1.83333  2.50000        1   2.50000   26.00000\n",
       "57   0.00000     0.0  1.95833  1.83333  2.50000        1   2.50000    0.00000\n",
       "58   0.16670     0.0  1.82353  1.33333  2.00000        1   2.50000    0.00000\n",
       "59   0.16670     0.0  1.94118  1.66667  2.00000        1   2.50000    0.00000\n",
       "60   0.00000     0.0  1.94118  1.66667  2.00000        1   2.50000    0.00000\n",
       "61   0.66670     0.5  2.37500  1.66667  2.33333        3   2.50000  191.90000\n",
       "62   0.66670     0.7  2.35294  1.83333  2.66667        3   2.50000  202.91262\n",
       "63   0.50000     0.5  2.17647  1.83333  2.33333        3   2.25000   84.63415\n",
       "64   0.66670     0.5  2.29412  1.66667  2.66667        3   2.50000   86.75000\n",
       "65   0.50000     0.5  2.31250  2.00000  2.60000        3   2.25000    0.00000\n",
       "66   0.50000     0.5  2.31250  2.00000  2.60000        3   2.25000    0.00000\n",
       "67   0.33330     0.5  2.37500  2.00000  2.60000        3   2.50000    0.00000\n",
       "68   0.50000     0.5  2.18750  2.33333  1.83333        3   2.33333    0.00000\n",
       "69   0.33330     0.2  1.66667  1.66667  1.50000        1   2.50000    0.00000\n",
       "70   0.33330     0.1  2.23529  1.66667  2.83333        1   2.50000    0.00000\n",
       "71   0.66670     0.2  1.82353  1.50000  1.83333        1   2.50000    0.00000\n",
       "72   0.33330     0.2  1.82353  1.50000  1.83333        1   2.50000    0.00000\n",
       "73   0.83330     0.8  2.72917  2.16667  3.00000        3   2.75000    2.66000\n",
       "74   0.66670     0.6  2.58824  2.33333  2.66667        3   2.75000    0.00000\n",
       "75   0.50000     0.5  2.35294  2.33333  2.16667        3   2.50000    1.77000\n",
       "76   0.66670     0.7  2.58824  2.50000  2.50000        3   2.75000    0.00000\n",
       "77   0.66670     0.6  2.45833  2.00000  2.33333        3   2.50000    0.00000\n",
       "78   0.66670     0.4  2.23529  2.00000  2.50000        1   2.50000    0.00000\n",
       "79   0.66670     0.6  2.17647  2.16667  2.16667        1   2.50000    0.00000\n",
       "80   0.83330     0.7  2.17647  1.83333  2.50000        1   2.50000    0.00000\n",
       "81   0.50000     0.4  2.37500  2.00000  2.00000        3   2.50000    0.00000\n",
       "82   0.33330     0.3  2.11765  1.83333  2.33333        1   2.50000    0.00000\n",
       "83   0.83333     0.4  2.23529  2.16667  2.33333        1   2.50000    0.00000\n",
       "84   0.66670     0.6  2.05882  2.00000  2.00000        1   2.50000    0.00000\n",
       "85   0.66670     0.7  2.56250  2.00000  2.50000        3   2.75000   68.00000\n",
       "86   0.66670     0.7  2.29412  2.00000  2.33333        3   2.50000   72.50000\n",
       "87   0.16670     0.5  2.70588  2.50000  3.00000        3   2.50000   10.75140\n",
       "88   0.66670     0.4  2.70588  2.50000  3.00000        3   2.50000   10.75140\n",
       "89   0.83330     0.7  2.66667  2.50000  2.66667        3   2.50000   70.71000\n",
       "90   0.83330     0.7  2.47059  2.16667  2.66667        3   2.50000   90.99000\n",
       "91   0.83330     0.7  2.52941  2.33333  2.66667        3   2.50000   47.09000\n",
       "92   0.83330     0.7  2.58824  2.50000  2.66667        3   2.50000    0.00000\n",
       "93   0.00000     0.1  1.93750  1.83333  2.16667        1   2.75000    0.00000\n",
       "94   0.16670     0.2  1.76471  1.83333  1.83333        1   1.75000    0.00000\n",
       "95   0.16667     0.2  2.05882  2.00000  2.00000        1   2.50000    0.00000\n",
       "96   0.16670     0.2  2.05882  2.00000  2.00000        1   2.50000    0.00000\n",
       "97   0.00000     0.0  1.81250  1.83333  1.66667        1   2.75000    0.00000\n",
       "98   0.50000     0.5  2.17647  1.83333  2.50000        1   2.50000  100.00000\n",
       "99   0.50000     0.4  2.17647  1.83333  2.50000        1   2.50000   50.00000\n",
       "100  0.33330     0.4  2.17647  1.83333  2.50000        1   2.50000   50.00000\n",
       "101  0.83330     0.7  1.95833  1.66667  1.66667        2   2.50000  132.72727\n",
       "102  0.83330     0.7  2.35294  1.83333  2.66667        3   2.50000   79.70000\n",
       "103  1.00000     0.7  2.52941  2.16667  2.66667        2   3.00000   24.60000\n",
       "104  1.00000     0.8  2.52941  2.16667  2.66667        2   3.00000    0.00000\n",
       "105  0.16670     0.2  1.45833  1.83333  1.00000        1   2.00000    0.00000\n",
       "106  0.33330     0.4  1.66667  1.50000  1.50000        1   2.25000    0.00000\n",
       "107  0.50000     0.5  2.13333  2.16667  2.00000        1   2.50000    0.00000\n",
       "108  0.50000     0.5  1.80000  1.83333  1.50000        1   2.25000    0.00000\n",
       "109  0.16670     0.3  1.87500  1.50000  2.50000        1   2.50000    0.00000\n",
       "110  0.16670     0.2  2.00000  1.83333  2.50000        1   2.00000    0.00000\n",
       "111  0.33330     0.3  2.33333  1.83333  3.00000        1   2.75000    0.00000\n",
       "112  0.16670     0.2  2.33333  1.83333  3.00000        1   2.75000    0.00000\n",
       "113  0.66670     0.5  2.75000  2.83333  2.66667        3   2.50000   89.00000\n",
       "114  0.66670     0.5  2.70588  2.83333  2.66667        3   2.50000   42.87000\n",
       "115  0.66670     0.5  2.52941  2.50000  2.50000        3   2.50000   56.29000\n",
       "116  0.66670     0.6  2.52941  2.50000  2.50000        3   2.50000    0.00000\n",
       "117  0.16670     0.1  1.79167  1.66667  2.00000        1   2.50000    0.00000\n",
       "118  0.16670     0.4  1.87500  1.50000  2.00000        1   2.50000    0.00000\n",
       "119  0.33330     0.2  1.88235  1.50000  2.00000        1   2.50000    0.00000\n",
       "120  0.33330     0.2  1.88235  1.50000  2.00000        1   2.50000    0.00000\n",
       "121  0.00000     0.3  2.06250  2.16667  2.33333        1   2.75000    0.00000\n",
       "122  0.16670     0.3  2.31250  1.83333  2.80000        1   2.75000    0.00000\n",
       "123  0.16670     0.1  2.52941  2.50000  2.50000        3   2.50000    2.00000\n",
       "124  0.33330     0.3  2.52941  2.50000  2.50000        3   2.50000    0.00000\n",
       "125  0.16670     0.1  1.87500  1.83333  2.16667        1   2.50000    0.00000\n",
       "126  0.16670     0.0  1.94118  1.83333  1.50000        3   2.50000    0.00000\n",
       "127  0.16670     0.1  1.86667  1.83333  1.50000        1   2.50000    0.00000\n",
       "128  0.16700     0.1  1.86667  1.83333  1.50000        1   2.50000    0.00000\n",
       "129  0.66670     0.5  2.25000  1.50000  2.00000        3   2.50000  190.90909\n",
       "130  0.66670     0.2  2.11765  1.66667  2.16667        3   2.50000  436.89320\n",
       "131  0.83330     0.6  2.11765  1.50000  2.33333        3   2.50000  457.31707\n",
       "132  0.83330     0.6  2.11765  1.50000  2.33333        3   2.50000  468.50000\n",
       "133  0.33330     0.3  2.37500  1.66667  2.33333        3   2.50000   74.00000\n",
       "134  0.83330     0.7  2.23529  1.83333  2.33333        3   2.50000   60.00000\n",
       "135  0.83330     0.7  2.29412  1.83333  2.50000        3   2.50000   44.47561\n",
       "136  0.83333     0.7  2.29412  1.83333  2.50000        3   2.50000    0.00000\n",
       "137  0.66670     0.6  2.37500  1.83333  2.16667        3   2.50000   10.00000\n",
       "138  0.66670     0.5  2.29412  1.83333  2.66667        3   2.25000    0.00000\n",
       "139  0.50000     0.5  2.29412  2.00000  2.33333        3   2.50000    0.00000\n",
       "140  0.50000     0.5  2.29412  2.00000  2.33333        3   2.50000    0.00000\n",
       "141  0.00000     0.0  2.14583  1.16667  2.16667        3   2.25000    0.00000\n",
       "142  0.00000     0.0  1.88235  1.16667  2.16667        3   2.25000    0.00000\n",
       "143  0.00000     0.0  1.87500  1.80000  1.83333        1   2.25000   50.00000\n",
       "144  0.00000     0.0  1.87500  1.80000  1.83333        1   2.25000    8.00000\n",
       "    LOSS TOT_ASSETS     SLACK      ROE BRD_INDP_DIV BRD_MEET_DIV BRD_SIZE_DIV\n",
       "1      0  13.711347 12.706028  0.22000    60.700000    75.875000     91.05000\n",
       "2      0  13.812735 12.686452  0.14100    93.042253   158.171327    167.47572\n",
       "3      0  13.914459 12.919520  0.07400    28.170674    35.853599     46.09755\n",
       "4      0  13.904039 12.969211  0.05600    44.062500    73.437500     88.12500\n",
       "5      0  12.361989 11.555292  0.05690     0.000000     0.000000      0.00000\n",
       "6      1  12.462986 11.183643 -0.07730     0.000000     0.000000      0.00000\n",
       "7      1  12.586116 10.351711 -0.07990     0.000000     0.000000      0.00000\n",
       "8      1  12.627301 10.722222 -0.22930     0.000000     0.000000      0.00000\n",
       "9      1  11.047898  9.540252 -0.64310     0.000000     0.000000      0.00000\n",
       "10     1   8.178487  6.448245 -0.38200     0.000000     0.000000      0.00000\n",
       "11     0  12.172994  7.479430  0.01200     0.000000     0.000000      0.00000\n",
       "12     1  11.178487  9.503234 -0.36100     0.000000     0.000000      0.00000\n",
       "13     0  13.272264 12.674838  0.30730     9.466679     7.691679      3.55000\n",
       "14     1  13.319197 12.548320 -0.74090    18.122951    15.533980     23.30097\n",
       "15     1  13.387438 12.697005 -2.03000     0.000000     0.000000      0.00000\n",
       "16     1  13.345619 12.627701 -2.02000     0.000000     0.000000      0.00000\n",
       "17     0  13.240659 12.050836  0.04726     0.000000     0.000000      0.00000\n",
       "18     1  13.285384 12.053751 -0.04000     0.000000     0.000000      0.00000\n",
       "19     1  13.384407 12.152793  0.04000     0.000000     0.000000      0.00000\n",
       "20     1  13.367247 10.894621 -0.12500     0.000000     0.000000      0.00000\n",
       "21     0  13.157946 12.184122  0.28500   160.000000   186.666400    240.00000\n",
       "22     0  26.557648 26.604581  0.07800   400.000000   300.000000    600.00000\n",
       "23     0  13.367016 12.270222  0.07800   366.666000   300.000000    600.00000\n",
       "24     1  13.161988 12.000425 -0.74000     0.000000     0.000000      0.00000\n",
       "25     1  12.567268 11.528647 -0.08000     0.000000     0.000000      0.00000\n",
       "26     1  12.630098 11.360253 -0.14000     0.000000     0.000000      0.00000\n",
       "27     1  12.729121 11.459276  0.14000     0.000000     0.000000      0.00000\n",
       "28     0  12.648188 11.230339  0.00000     0.000000     0.000000      0.00000\n",
       "29     1  13.034227 12.286007 -0.16021     0.000000     0.000000      0.00000\n",
       "30     1  13.051621 11.743038  0.16000     0.000000     0.000000      0.00000\n",
       "31     1  13.120335 12.419171 -0.42900     0.000000     0.000000      0.00000\n",
       "32     0  13.053559 11.972517  0.16800     0.000000     0.000000      0.00000\n",
       "33     0  12.521178 12.273878  0.10030     0.000000     0.000000      0.00000\n",
       "34     0  12.536600 11.978339  0.06140    29.166725    49.583275     52.50000\n",
       "35     0  12.604485 11.892651  0.05710    63.000000    78.750000     94.50000\n",
       "36     0  12.593508 11.895664  0.04340     0.000000     0.000000      0.00000\n",
       "37     0  11.666862 11.070911  0.22600     0.000000     0.000000      0.00000\n",
       "38     0  10.199997 10.067919  0.74100     0.000000     0.000000      0.00000\n",
       "39     1  12.032940  9.961287 -0.06740     0.000000     0.000000      0.00000\n",
       "40     1  12.005418 10.327182 -0.06720     0.000000     0.000000      0.00000\n",
       "41     0  12.666986 12.220319  0.48000   447.515853   528.884147    732.30000\n",
       "42     0  12.718461 12.197541  0.37600   823.334600  1013.334600   1140.00000\n",
       "43     0  12.767989 12.344724  0.13200   461.999160   587.999160    756.00000\n",
       "44     0  12.744397 12.400765  0.00100   238.333700   256.666300    330.00000\n",
       "45     0  13.156845 12.745654  0.51000   881.834690  1221.000000   1221.00000\n",
       "46     0  10.160706  9.651080  0.43000  4442.672220  4998.000000   4998.00000\n",
       "47     0  13.229869 12.546643  0.24000  3415.995120  4392.000000   4392.00000\n",
       "48     0  13.213301 12.451249  0.22000  2383.337000  2566.663000   3300.00000\n",
       "49     0  11.990291 11.639333  0.68500    83.333500   116.666500     50.00000\n",
       "50     0  12.003366 10.898229  0.32000   366.666000   566.666000    600.00000\n",
       "51     0  12.111851 11.019548  0.24000   150.000000   200.000250    225.00000\n",
       "52     0   7.998123  6.423161  0.11100   216.667000   250.000000    100.00000\n",
       "53     1  11.626658 10.428867  0.03560     0.000000     0.000000      0.00000\n",
       "54     0  12.111458 10.661709  0.03770     0.000000     0.000000      0.00000\n",
       "55     0  12.259072 10.906868  0.22200     0.000000     0.000000      0.00000\n",
       "56     0  12.307731 11.350068  0.26700    47.666580    65.000000     26.00000\n",
       "57     1  11.657034 10.129025  0.03400     0.000000     0.000000      0.00000\n",
       "58     1  11.567352 10.306359 -0.05000     0.000000     0.000000      0.00000\n",
       "59     0  11.558167  9.267976  0.00190     0.000000     0.000000      0.00000\n",
       "60     1  11.481808  9.267976 -0.19380     0.000000     0.000000      0.00000\n",
       "61     0  12.535292 11.312466  0.33060   319.833973   447.766027    575.70000\n",
       "62     0  12.711227 11.635494  0.26230   372.005794   541.100996    608.73786\n",
       "63     0  12.793110 11.843012  0.08760   155.162326   197.479401    253.90245\n",
       "64     0  12.766877 11.912288  0.01100   144.583622   231.333622    260.25000\n",
       "65     0  11.681403 11.193141  0.03000     0.000000     0.000000      0.00000\n",
       "66     0  11.681403 11.193141  0.03000     0.000000     0.000000      0.00000\n",
       "67     1  11.797025 11.224081  0.04000     0.000000     0.000000      0.00000\n",
       "68     1  11.860322 11.102078 -0.01000     0.000000     0.000000      0.00000\n",
       "69     0  12.140762 10.596012  0.00970     0.000000     0.000000      0.00000\n",
       "70     0  12.039566 10.603068  0.07100     0.000000     0.000000      0.00000\n",
       "71     0  12.039566 10.603068  0.07100     0.000000     0.000000      0.00000\n",
       "72     0  12.248873 10.774217  0.03000     0.000000     0.000000      0.00000\n",
       "73     1  12.642460 11.838104 -0.02200     5.763342     7.980000      7.98000\n",
       "74     0  12.156015 10.478199  0.06000     0.000000     0.000000      0.00000\n",
       "75     0  12.640577 12.120471  0.10600     4.129994     3.835006      5.31000\n",
       "76     0  12.627950 12.025368  0.15970     0.000000     0.000000      0.00000\n",
       "77     0  10.239420  8.884106  0.01142     0.000000     0.000000      0.00000\n",
       "78     0  12.632918 11.967641  0.06300     0.000000     0.000000      0.00000\n",
       "79     0   9.365235  8.185634  0.19100     0.000000     0.000000      0.00000\n",
       "80     0  12.242506 11.147562  0.10290     0.000000     0.000000      0.00000\n",
       "81     0  11.816881 11.274768  0.56360     0.000000     0.000000      0.00000\n",
       "82     1  13.303626 12.006113  0.02000     0.000000     0.000000      0.00000\n",
       "83     0  12.159089 11.641228  0.13890     0.000000     0.000000      0.00000\n",
       "84     0  13.439811 12.279604  0.04100     0.000000     0.000000      0.00000\n",
       "85     0  13.371470 12.936905  0.10431   136.000000   170.000000    204.00000\n",
       "86     0  13.045840 12.909016  0.15000   145.000000   169.166425    217.50000\n",
       "87     0  13.510382 12.800023  0.01500    26.878500    32.254200     32.25420\n",
       "88     0  13.510382 12.800023  0.01500    26.878500    32.254200     32.25420\n",
       "89     0  13.181879 12.751254  0.18940   176.775000   188.560236    212.13000\n",
       "90     0  13.294654 12.587551  0.25360   197.145303   242.640303    272.97000\n",
       "91     0  13.339752 12.446030  0.03200   109.876510   125.573490    141.27000\n",
       "92     1  13.343294 12.418121 -0.06270     0.000000     0.000000      0.00000\n",
       "93     0  12.072291 11.763055  0.04130     0.000000     0.000000      0.00000\n",
       "94     1  12.083943  7.962534 -0.00300     0.000000     0.000000      0.00000\n",
       "95     0  11.805509  9.941806  0.00000     0.000000     0.000000      0.00000\n",
       "96     1  10.017033  9.941806 -0.00040     0.000000     0.000000      0.00000\n",
       "97     0  12.114372 12.000101  0.15318     0.000000     0.000000      0.00000\n",
       "98     0  12.186292 11.872995  0.22000   183.333000   250.000000    100.00000\n",
       "99     0  12.202823 11.921037  0.24000    91.666500   125.000000     50.00000\n",
       "100    1  12.076132 11.649135 -0.04000    91.666500   125.000000     50.00000\n",
       "101    0  13.342667 12.559749  0.19000   221.212559   221.212559    265.45454\n",
       "102    0  13.355092 12.223294  0.04000   146.116401   212.533599    239.10000\n",
       "103    0  13.444334 12.422131  0.02000    53.300082    65.600082     49.20000\n",
       "104    0  13.465046 12.577285  0.10000     0.000000     0.000000      0.00000\n",
       "105    1  10.011735  9.707163 -0.51900     0.000000     0.000000      0.00000\n",
       "106    0  12.746386 10.922785  0.30800     0.000000     0.000000      0.00000\n",
       "107    1  12.992239 11.514182 -0.10100     0.000000     0.000000      0.00000\n",
       "108    0  13.029746 11.151057  0.09000     0.000000     0.000000      0.00000\n",
       "109    1  11.585490 11.189021 -0.06000     0.000000     0.000000      0.00000\n",
       "110    1  11.487913 10.288807 -0.24100     0.000000     0.000000      0.00000\n",
       "111    1  11.389160  9.307420 -0.20140     0.000000     0.000000      0.00000\n",
       "112    1  12.421241 10.757555 -0.02530     0.000000     0.000000      0.00000\n",
       "113    0  12.817553 11.819270  0.27000   252.166370   237.333630    267.00000\n",
       "114    0  12.787483 11.826334  0.12000   121.464857   114.320143    128.61000\n",
       "115    0  12.896708 11.787955  0.13000   140.725000   140.725000    168.87000\n",
       "116    0  12.989115 11.561693  0.13000     0.000000     0.000000      0.00000\n",
       "117    0  11.338957 10.017915  0.01000     0.000000     0.000000      0.00000\n",
       "118    0  11.245515 10.152274  0.03500     0.000000     0.000000      0.00000\n",
       "119    0  11.514495 10.115563  0.00610     0.000000     0.000000      0.00000\n",
       "120    0  11.563544 10.013425  0.01150     0.000000     0.000000      0.00000\n",
       "121    0  11.171846 10.522148  0.43750     0.000000     0.000000      0.00000\n",
       "122    0  11.171846 10.522148  0.23300     0.000000     0.000000      0.00000\n",
       "123    0  11.195880 10.699030  0.19720     5.000000     5.000000      6.00000\n",
       "124    0  11.559522 10.677500  0.02780     0.000000     0.000000      0.00000\n",
       "125    0  12.233171 10.475031  0.11000     0.000000     0.000000      0.00000\n",
       "126    0  12.177103 10.435025  0.09000     0.000000     0.000000      0.00000\n",
       "127    0  12.741634  9.184526  0.02600     0.000000     0.000000      0.00000\n",
       "128    1  12.741345 11.352799 -0.03100     0.000000     0.000000      0.00000\n",
       "129    0  12.349936 11.741363  0.34000   286.363635   381.818180    572.72727\n",
       "130    0  12.416007 11.441884  0.24000   728.156790   946.603390   1310.67960\n",
       "131    0  12.524176 11.705994  0.25000   685.975605  1067.071639   1371.95121\n",
       "132    0  12.511708 11.695668  0.17000   702.750000  1093.165105   1405.50000\n",
       "133    0  13.261354 12.535755  0.14000   123.333580   172.666420    222.00000\n",
       "134    0  13.357725 12.531697  0.03000   109.999800   139.999800    180.00000\n",
       "135    1  13.450985 12.600159 -0.00070    81.538470   111.189025    133.42683\n",
       "136    1  13.456812 12.618959 -0.03150     0.000000     0.000000      0.00000\n",
       "137    1  11.964390 10.929807 -0.04340    18.333300    21.666700     30.00000\n",
       "138    1  12.030981 10.888294 -0.15160     0.000000     0.000000      0.00000\n",
       "139    0  12.181076 11.014428  0.00650     0.000000     0.000000      0.00000\n",
       "140    1  11.190997 10.808380 -0.20020     0.000000     0.000000      0.00000\n",
       "141    0  11.735824 10.375715  0.24850     0.000000     0.000000      0.00000\n",
       "142    0  11.589957 10.746498  0.19980     0.000000     0.000000      0.00000\n",
       "143    0  11.884162 10.859127  0.03970    90.000000    91.666500     50.00000\n",
       "144    0  11.952929 10.623479  0.17920    14.400000    14.666640      8.00000\n",
       "    BRD_COMPT_DIV\n",
       "1        75.87500\n",
       "2       139.56310\n",
       "3        38.41463\n",
       "4        73.43750\n",
       "5         0.00000\n",
       "6         0.00000\n",
       "7         0.00000\n",
       "8         0.00000\n",
       "9         0.00000\n",
       "10        0.00000\n",
       "11        0.00000\n",
       "12        0.00000\n",
       "13        8.87500\n",
       "14       23.30097\n",
       "15        0.00000\n",
       "16        0.00000\n",
       "17        0.00000\n",
       "18        0.00000\n",
       "19        0.00000\n",
       "20        0.00000\n",
       "21      200.00000\n",
       "22      500.00000\n",
       "23      500.00000\n",
       "24        0.00000\n",
       "25        0.00000\n",
       "26        0.00000\n",
       "27        0.00000\n",
       "28        0.00000\n",
       "29        0.00000\n",
       "30        0.00000\n",
       "31        0.00000\n",
       "32        0.00000\n",
       "33        0.00000\n",
       "34       48.12500\n",
       "35       78.75000\n",
       "36        0.00000\n",
       "37        0.00000\n",
       "38        0.00000\n",
       "39        0.00000\n",
       "40        0.00000\n",
       "41      671.27500\n",
       "42      950.00000\n",
       "43      630.00000\n",
       "44      302.50000\n",
       "45     1119.25000\n",
       "46     4165.00000\n",
       "47     4026.00000\n",
       "48     3025.00000\n",
       "49      125.00000\n",
       "50      550.00000\n",
       "51      225.00000\n",
       "52      250.00000\n",
       "53        0.00000\n",
       "54        0.00000\n",
       "55        0.00000\n",
       "56       65.00000\n",
       "57        0.00000\n",
       "58        0.00000\n",
       "59        0.00000\n",
       "60        0.00000\n",
       "61      479.75000\n",
       "62      507.28155\n",
       "63      190.42684\n",
       "64      216.87500\n",
       "65        0.00000\n",
       "66        0.00000\n",
       "67        0.00000\n",
       "68        0.00000\n",
       "69        0.00000\n",
       "70        0.00000\n",
       "71        0.00000\n",
       "72        0.00000\n",
       "73        7.31500\n",
       "74        0.00000\n",
       "75        4.42500\n",
       "76        0.00000\n",
       "77        0.00000\n",
       "78        0.00000\n",
       "79        0.00000\n",
       "80        0.00000\n",
       "81        0.00000\n",
       "82        0.00000\n",
       "83        0.00000\n",
       "84        0.00000\n",
       "85      187.00000\n",
       "86      181.25000\n",
       "87       26.87850\n",
       "88       26.87850\n",
       "89      176.77500\n",
       "90      227.47500\n",
       "91      117.72500\n",
       "92        0.00000\n",
       "93        0.00000\n",
       "94        0.00000\n",
       "95        0.00000\n",
       "96        0.00000\n",
       "97        0.00000\n",
       "98      250.00000\n",
       "99      125.00000\n",
       "100     125.00000\n",
       "101     331.81817\n",
       "102     199.25000\n",
       "103      73.80000\n",
       "104       0.00000\n",
       "105       0.00000\n",
       "106       0.00000\n",
       "107       0.00000\n",
       "108       0.00000\n",
       "109       0.00000\n",
       "110       0.00000\n",
       "111       0.00000\n",
       "112       0.00000\n",
       "113     222.50000\n",
       "114     107.17500\n",
       "115     140.72500\n",
       "116       0.00000\n",
       "117       0.00000\n",
       "118       0.00000\n",
       "119       0.00000\n",
       "120       0.00000\n",
       "121       0.00000\n",
       "122       0.00000\n",
       "123       5.00000\n",
       "124       0.00000\n",
       "125       0.00000\n",
       "126       0.00000\n",
       "127       0.00000\n",
       "128       0.00000\n",
       "129     477.27272\n",
       "130    1092.23300\n",
       "131    1143.29267\n",
       "132    1171.25000\n",
       "133     185.00000\n",
       "134     150.00000\n",
       "135     111.18903\n",
       "136       0.00000\n",
       "137      25.00000\n",
       "138       0.00000\n",
       "139       0.00000\n",
       "140       0.00000\n",
       "141       0.00000\n",
       "142       0.00000\n",
       "143     112.50000\n",
       "144      18.00000"
      ]
     },
     "execution_count": 137,
     "metadata": {},
     "output_type": "execute_result"
    }
   ],
   "source": [
    "# ncol(data)\n",
    "dataMean <- data[4:26]\n",
    "dataMean"
   ]
  },
  {
   "cell_type": "markdown",
   "metadata": {},
   "source": [
    "# Summary Statistics\n"
   ]
  },
  {
   "cell_type": "code",
   "execution_count": 112,
   "metadata": {
    "collapsed": false
   },
   "outputs": [],
   "source": [
    "library(stargazer)\n"
   ]
  },
  {
   "cell_type": "code",
   "execution_count": 113,
   "metadata": {
    "collapsed": false
   },
   "outputs": [
    {
     "data": {
      "text/plain": [
       "      Firm            Year           CEI           BRIB_CORR     \n",
       " Min.   : 1.00   Min.   :2011   Min.   :0.0000   Min.   :0.0000  \n",
       " 1st Qu.: 9.75   1st Qu.:2012   1st Qu.:0.3051   1st Qu.:0.0000  \n",
       " Median :18.50   Median :2012   Median :0.4702   Median :0.0000  \n",
       " Mean   :18.50   Mean   :2012   Mean   :0.4814   Mean   :0.2542  \n",
       " 3rd Qu.:27.25   3rd Qu.:2013   3rd Qu.:0.6958   3rd Qu.:0.6000  \n",
       " Max.   :36.00   Max.   :2014   Max.   :0.9524   Max.   :1.0000  \n",
       "    BUSS_ETH        FAIR_COMP        POL_CONTR        INDIG_PPL     \n",
       " Min.   :0.0000   Min.   :0.0000   Min.   :0.0000   Min.   :0.0000  \n",
       " 1st Qu.:0.0000   1st Qu.:0.0000   1st Qu.:0.0000   1st Qu.:0.6667  \n",
       " Median :0.5000   Median :0.0000   Median :0.0000   Median :1.0000  \n",
       " Mean   :0.4462   Mean   :0.2708   Mean   :0.3316   Mean   :0.7865  \n",
       " 3rd Qu.:0.7500   3rd Qu.:0.5000   3rd Qu.:0.7500   3rd Qu.:1.0000  \n",
       " Max.   :1.0000   Max.   :1.0000   Max.   :1.0000   Max.   :1.0000  \n",
       "   IND_EC_IMP        X0TH_ENG         ALT_CEI          BRD_EFFC    \n",
       " Min.   :0.0000   Min.   :0.0000   Min.   :0.0000   Min.   :1.458  \n",
       " 1st Qu.:1.0000   1st Qu.:0.3332   1st Qu.:0.3000   1st Qu.:2.059  \n",
       " Median :1.0000   Median :0.5000   Median :0.5000   Median :2.235  \n",
       " Mean   :0.8681   Mean   :0.5060   Mean   :0.4361   Mean   :2.231  \n",
       " 3rd Qu.:1.0000   3rd Qu.:0.6667   3rd Qu.:0.6000   3rd Qu.:2.412  \n",
       " Max.   :1.0000   Max.   :1.0000   Max.   :0.8000   Max.   :2.882  \n",
       "    BRD_INDP        BRD_MEET        BRD_SIZE      BRD_COMPT    \n",
       " Min.   :1.167   Min.   :1.000   Min.   :1.00   Min.   :1.750  \n",
       " 1st Qu.:1.833   1st Qu.:2.000   1st Qu.:1.00   1st Qu.:2.500  \n",
       " Median :1.833   Median :2.333   Median :3.00   Median :2.500  \n",
       " Mean   :1.960   Mean   :2.333   Mean   :2.09   Mean   :2.525  \n",
       " 3rd Qu.:2.167   3rd Qu.:2.667   3rd Qu.:3.00   3rd Qu.:2.500  \n",
       " Max.   :3.000   Max.   :3.000   Max.   :3.00   Max.   :3.000  \n",
       "    DIVIDEND            LOSS          TOT_ASSETS            SLACK          \n",
       " Min.   :   0.00   Min.   :0.0000   Min.   :9.957e+07   Min.   :2.649e+06  \n",
       " 1st Qu.:   0.00   1st Qu.:0.0000   1st Qu.:7.557e+11   1st Qu.:4.009e+10  \n",
       " Median :   0.00   Median :0.0000   Median :3.332e+12   Median :3.073e+11  \n",
       " Mean   :  70.24   Mean   :0.3125   Mean   :2.508e+24   Mean   :2.794e+24  \n",
       " 3rd Qu.:  50.00   3rd Qu.:1.0000   3rd Qu.:1.348e+13   3rd Qu.:1.597e+12  \n",
       " Max.   :1666.00   Max.   :1.0000   Max.   :3.611e+26   Max.   :4.023e+26  \n",
       "      ROE             BRD_INDP_DIV      BRD_MEET_DIV     BRD_SIZE_DIV   \n",
       " Min.   :-2.030000   Min.   :   0.00   Min.   :   0.0   Min.   :   0.0  \n",
       " 1st Qu.:-0.001275   1st Qu.:   0.00   1st Qu.:   0.0   1st Qu.:   0.0  \n",
       " Median : 0.045330   Median :   0.00   Median :   0.0   Median :   0.0  \n",
       " Mean   : 0.036846   Mean   : 147.22   Mean   : 180.4   Mean   : 203.5  \n",
       " 3rd Qu.: 0.172300   3rd Qu.:  92.01   3rd Qu.: 125.0   3rd Qu.: 100.0  \n",
       " Max.   : 0.741000   Max.   :4442.67   Max.   :4998.0   Max.   :4998.0  \n",
       " BRD_COMPT_DIV   BRD_EFFC_DIV   \n",
       " Min.   :   0   Min.   :   0.0  \n",
       " 1st Qu.:   0   1st Qu.:   0.0  \n",
       " Median :   0   Median :   0.0  \n",
       " Mean   : 182   Mean   : 172.0  \n",
       " 3rd Qu.: 125   3rd Qu.: 110.6  \n",
       " Max.   :4165   Max.   :4606.0  "
      ]
     },
     "execution_count": 113,
     "metadata": {},
     "output_type": "execute_result"
    }
   ],
   "source": [
    "summary(data)"
   ]
  },
  {
   "cell_type": "markdown",
   "metadata": {},
   "source": [
    "## Plotting "
   ]
  },
  {
   "cell_type": "code",
   "execution_count": 114,
   "metadata": {
    "collapsed": false
   },
   "outputs": [],
   "source": [
    "library(\"ggplot2\")"
   ]
  },
  {
   "cell_type": "code",
   "execution_count": 115,
   "metadata": {
    "collapsed": false
   },
   "outputs": [
    {
     "ename": "ERROR",
     "evalue": "Error in exists(name, envir = env, mode = mode): argument \"env\" is missing, with no default\n",
     "output_type": "error",
     "traceback": [
      "Error in exists(name, envir = env, mode = mode): argument \"env\" is missing, with no default\n"
     ]
    }
   ],
   "source": [
    "qplot( y = data$TOBINQ, x = data$SIZE)"
   ]
  },
  {
   "cell_type": "markdown",
   "metadata": {},
   "source": [
    "## Regression"
   ]
  },
  {
   "cell_type": "code",
   "execution_count": 138,
   "metadata": {
    "collapsed": false
   },
   "outputs": [],
   "source": [
    "library(\"plm\")"
   ]
  },
  {
   "cell_type": "code",
   "execution_count": 139,
   "metadata": {
    "collapsed": false
   },
   "outputs": [],
   "source": [
    "data_panel <- pdata.frame(data, index = c(\"Firm\", \"Year\"), drop.index =  TRUE, row.names = TRUE)"
   ]
  },
  {
   "cell_type": "code",
   "execution_count": 140,
   "metadata": {
    "collapsed": false
   },
   "outputs": [
    {
     "data": {
      "text/html": [
       "<table>\n",
       "<thead><tr><th></th><th scope=col>X</th><th scope=col>CEI</th><th scope=col>BRIB_CORR</th><th scope=col>BUSS_ETH</th><th scope=col>FAIR_COMP</th><th scope=col>POL_CONTR</th><th scope=col>INDIG_PPL</th><th scope=col>IND_EC_IMP</th><th scope=col>X0TH_ENG</th><th scope=col>ALT_CEI</th><th scope=col>ellip.h</th><th scope=col>DIVIDEND</th><th scope=col>LOSS</th><th scope=col>TOT_ASSETS</th><th scope=col>SLACK</th><th scope=col>ROE</th><th scope=col>BRD_INDP_DIV</th><th scope=col>BRD_MEET_DIV</th><th scope=col>BRD_SIZE_DIV</th><th scope=col>BRD_COMPT_DIV</th><th scope=col>BRD_EFFC_DIV</th></tr></thead>\n",
       "<tbody>\n",
       "\t<tr><th scope=row>1-2011</th><td>0</td><td>0.57143</td><td>0</td><td>0.5</td><td>0.5</td><td>0.25</td><td>0.25</td><td>1</td><td>1</td><td>0.7</td><td>⋯</td><td>30.35</td><td>0</td><td>13.71135</td><td>12.70603</td><td>0.22</td><td>60.7</td><td>75.875</td><td>91.05</td><td>75.875</td><td>75.875</td></tr>\n",
       "\t<tr><th scope=row>1-2012</th><td>1</td><td>0.54762</td><td>0</td><td>0.25</td><td>0.25</td><td>0.5</td><td>1</td><td>1</td><td>0.8333</td><td>0.5</td><td>⋯</td><td>55.82524</td><td>0</td><td>13.81274</td><td>12.68645</td><td>0.141</td><td>93.04225</td><td>158.1713</td><td>167.4757</td><td>139.5631</td><td>131.3534</td></tr>\n",
       "\t<tr><th scope=row>1-2013</th><td>2</td><td>0.52381</td><td>0</td><td>0.5</td><td>0.25</td><td>0.25</td><td>1</td><td>1</td><td>0.6667</td><td>0.5</td><td>⋯</td><td>15.36585</td><td>0</td><td>13.91446</td><td>12.91952</td><td>0.074</td><td>28.17067</td><td>35.8536</td><td>46.09755</td><td>38.41463</td><td>34.34713</td></tr>\n",
       "\t<tr><th scope=row>1-2014</th><td>3</td><td>0.52381</td><td>0</td><td>0.5</td><td>0.25</td><td>0.25</td><td>1</td><td>1</td><td>0.6667</td><td>0.5</td><td>⋯</td><td>29.375</td><td>0</td><td>13.90404</td><td>12.96921</td><td>0.056</td><td>44.0625</td><td>73.4375</td><td>88.125</td><td>73.4375</td><td>63.93381</td></tr>\n",
       "\t<tr><th scope=row>2-2011</th><td>4</td><td>0.4881</td><td>0</td><td>0.5</td><td>0.75</td><td>0</td><td>1</td><td>1</td><td>0.1667</td><td>0.3</td><td>⋯</td><td>0</td><td>0</td><td>12.36199</td><td>11.55529</td><td>0.0569</td><td>0</td><td>0</td><td>0</td><td>0</td><td>0</td></tr>\n",
       "\t<tr><th scope=row>2-2012</th><td>5</td><td>0.7381</td><td>0</td><td>1</td><td>1</td><td>1</td><td>0.667</td><td>1</td><td>0.5</td><td>0.5</td><td>⋯</td><td>0</td><td>1</td><td>12.46299</td><td>11.18364</td><td>-0.0773</td><td>0</td><td>0</td><td>0</td><td>0</td><td>0</td></tr>\n",
       "</tbody>\n",
       "</table>\n"
      ],
      "text/latex": [
       "\\begin{tabular}{r|lllllllllllllllllllllllll}\n",
       "  & X & CEI & BRIB_CORR & BUSS_ETH & FAIR_COMP & POL_CONTR & INDIG_PPL & IND_EC_IMP & X0TH_ENG & ALT_CEI & ellip.h & DIVIDEND & LOSS & TOT_ASSETS & SLACK & ROE & BRD_INDP_DIV & BRD_MEET_DIV & BRD_SIZE_DIV & BRD_COMPT_DIV & BRD_EFFC_DIV\\\\\n",
       "\\hline\n",
       "\t1-2011 & 0 & 0.57143 & 0 & 0.5 & 0.5 & 0.25 & 0.25 & 1 & 1 & 0.7 & ⋯ & 30.35 & 0 & 13.71135 & 12.70603 & 0.22 & 60.7 & 75.875 & 91.05 & 75.875 & 75.875\\\\\n",
       "\t1-2012 & 1 & 0.54762 & 0 & 0.25 & 0.25 & 0.5 & 1 & 1 & 0.8333 & 0.5 & ⋯ & 55.82524 & 0 & 13.81274 & 12.68645 & 0.141 & 93.04225 & 158.1713 & 167.4757 & 139.5631 & 131.3534\\\\\n",
       "\t1-2013 & 2 & 0.52381 & 0 & 0.5 & 0.25 & 0.25 & 1 & 1 & 0.6667 & 0.5 & ⋯ & 15.36585 & 0 & 13.91446 & 12.91952 & 0.074 & 28.17067 & 35.8536 & 46.09755 & 38.41463 & 34.34713\\\\\n",
       "\t1-2014 & 3 & 0.52381 & 0 & 0.5 & 0.25 & 0.25 & 1 & 1 & 0.6667 & 0.5 & ⋯ & 29.375 & 0 & 13.90404 & 12.96921 & 0.056 & 44.0625 & 73.4375 & 88.125 & 73.4375 & 63.93381\\\\\n",
       "\t2-2011 & 4 & 0.4881 & 0 & 0.5 & 0.75 & 0 & 1 & 1 & 0.1667 & 0.3 & ⋯ & 0 & 0 & 12.36199 & 11.55529 & 0.0569 & 0 & 0 & 0 & 0 & 0\\\\\n",
       "\t2-2012 & 5 & 0.7381 & 0 & 1 & 1 & 1 & 0.667 & 1 & 0.5 & 0.5 & ⋯ & 0 & 1 & 12.46299 & 11.18364 & -0.0773 & 0 & 0 & 0 & 0 & 0\\\\\n",
       "\\end{tabular}\n"
      ],
      "text/plain": [
       "       X     CEI BRIB_CORR BUSS_ETH FAIR_COMP POL_CONTR INDIG_PPL IND_EC_IMP\n",
       "1-2011 0 0.57143         0     0.50      0.50      0.25     0.250          1\n",
       "1-2012 1 0.54762         0     0.25      0.25      0.50     1.000          1\n",
       "1-2013 2 0.52381         0     0.50      0.25      0.25     1.000          1\n",
       "1-2014 3 0.52381         0     0.50      0.25      0.25     1.000          1\n",
       "2-2011 4 0.48810         0     0.50      0.75      0.00     1.000          1\n",
       "2-2012 5 0.73810         0     1.00      1.00      1.00     0.667          1\n",
       "       X0TH_ENG ALT_CEI BRD_EFFC BRD_INDP BRD_MEET BRD_SIZE BRD_COMPT DIVIDEND\n",
       "1-2011   1.0000     0.7  2.50000  2.00000  2.50000        3     2.500 30.35000\n",
       "1-2012   0.8333     0.5  2.35294  1.66667  2.83333        3     2.500 55.82524\n",
       "1-2013   0.6667     0.5  2.23529  1.83333  2.33333        3     2.500 15.36585\n",
       "1-2014   0.6667     0.5  2.17647  1.50000  2.50000        3     2.500 29.37500\n",
       "2-2011   0.1667     0.3  2.26458  1.83333  2.00000        3     2.225  0.00000\n",
       "2-2012   0.5000     0.5  2.17647  1.83333  2.16667        3     2.500  0.00000\n",
       "       LOSS TOT_ASSETS    SLACK     ROE BRD_INDP_DIV BRD_MEET_DIV BRD_SIZE_DIV\n",
       "1-2011    0   13.71135 12.70603  0.2200     60.70000      75.8750     91.05000\n",
       "1-2012    0   13.81274 12.68645  0.1410     93.04225     158.1713    167.47572\n",
       "1-2013    0   13.91446 12.91952  0.0740     28.17067      35.8536     46.09755\n",
       "1-2014    0   13.90404 12.96921  0.0560     44.06250      73.4375     88.12500\n",
       "2-2011    0   12.36199 11.55529  0.0569      0.00000       0.0000      0.00000\n",
       "2-2012    1   12.46299 11.18364 -0.0773      0.00000       0.0000      0.00000\n",
       "       BRD_COMPT_DIV BRD_EFFC_DIV\n",
       "1-2011      75.87500     75.87500\n",
       "1-2012     139.56310    131.35344\n",
       "1-2013      38.41463     34.34713\n",
       "1-2014      73.43750     63.93381\n",
       "2-2011       0.00000      0.00000\n",
       "2-2012       0.00000      0.00000"
      ]
     },
     "execution_count": 140,
     "metadata": {},
     "output_type": "execute_result"
    }
   ],
   "source": [
    "head(data_panel)"
   ]
  },
  {
   "cell_type": "code",
   "execution_count": 141,
   "metadata": {
    "collapsed": false
   },
   "outputs": [],
   "source": [
    "tabel2_reg1 <- plm(CEI ~ BRD_INDP + BRD_MEET + BRD_SIZE + BRD_COMPT, data = data_panel, model = \"within\" )\n",
    "tabel2_reg2 <- plm(CEI ~ BRD_INDP + BRD_MEET + BRD_SIZE + BRD_COMPT + LOSS + TOT_ASSETS + SLACK + ROE , data = data_panel, model = \"within\" )\n",
    "tabel2_reg3 <- plm(BRIB_CORR ~ BRD_INDP + BRD_MEET + BRD_SIZE + BRD_COMPT + LOSS + TOT_ASSETS + SLACK + ROE , data = data_panel, model = \"within\" )\n",
    "tabel2_reg4 <- plm(BUSS_ETH ~ BRD_INDP + BRD_MEET + BRD_SIZE + BRD_COMPT + LOSS + TOT_ASSETS + SLACK + ROE , data = data_panel, model = \"within\" )\n",
    "tabel2_reg5 <- plm(FAIR_COMP ~ BRD_INDP + BRD_MEET + BRD_SIZE + BRD_COMPT + LOSS + TOT_ASSETS + SLACK + ROE , data = data_panel, model = \"within\" )\n",
    "tabel2_reg6 <- plm(POL_CONTR ~ BRD_INDP + BRD_MEET + BRD_SIZE + BRD_COMPT + LOSS + TOT_ASSETS + SLACK + ROE , data = data_panel, model = \"within\" )\n",
    "tabel2_reg7 <- plm(INDIG_PPL ~ BRD_INDP + BRD_MEET + BRD_SIZE + BRD_COMPT + LOSS + TOT_ASSETS + SLACK + ROE , data = data_panel, model = \"within\" )\n",
    "tabel2_reg8 <- plm(IND_EC_IMP ~ BRD_INDP + BRD_MEET + BRD_SIZE + BRD_COMPT + LOSS + TOT_ASSETS + SLACK + ROE , data = data_panel, model = \"within\" )\n",
    "tabel2_reg9 <- plm(X0TH_ENG ~ BRD_INDP + BRD_MEET + BRD_SIZE + BRD_COMPT + LOSS + TOT_ASSETS + SLACK + ROE , data = data_panel, model = \"within\" )\n"
   ]
  },
  {
   "cell_type": "code",
   "execution_count": null,
   "metadata": {
    "collapsed": false
   },
   "outputs": [],
   "source": []
  },
  {
   "cell_type": "code",
   "execution_count": 142,
   "metadata": {
    "collapsed": false
   },
   "outputs": [],
   "source": [
    "library(lmtest)"
   ]
  },
  {
   "cell_type": "code",
   "execution_count": 143,
   "metadata": {
    "collapsed": false
   },
   "outputs": [],
   "source": [
    "tabel3_reg2 <- plm(CEI ~ BRD_INDP + BRD_MEET + BRD_SIZE + BRD_COMPT + DIVIDEND +  LOSS + TOT_ASSETS + SLACK + ROE , data = data_panel, model = \"within\" )\n",
    "tabel3_reg2 <- plm(CEI ~ BRD_INDP + BRD_MEET + BRD_SIZE + BRD_COMPT + DIVIDEND + BRD_INDP_DIV + LOSS + TOT_ASSETS + SLACK + ROE , data = data_panel, model = \"within\" )\n",
    "tabel3_reg3 <- plm(CEI ~ BRD_INDP + BRD_MEET + BRD_SIZE + BRD_COMPT + DIVIDEND + BRD_MEET_DIV +LOSS + TOT_ASSETS + SLACK + ROE , data = data_panel, model = \"within\" )\n",
    "tabel3_reg4 <- plm(CEI ~ BRD_INDP + BRD_MEET + BRD_SIZE + BRD_COMPT + DIVIDEND + BRD_SIZE_DIV +LOSS + TOT_ASSETS + SLACK + ROE , data = data_panel, model = \"within\" )\n",
    "tabel3_reg5 <- plm(CEI ~ BRD_INDP + BRD_MEET + BRD_SIZE + BRD_COMPT + DIVIDEND + BRD_COMPT_DIV +LOSS + TOT_ASSETS + SLACK + ROE , data = data_panel, model = \"within\" )"
   ]
  },
  {
   "cell_type": "code",
   "execution_count": 144,
   "metadata": {
    "collapsed": false
   },
   "outputs": [
    {
     "data": {
      "text/plain": [
       "Oneway (individual) effect Within Model\n",
       "\n",
       "Call:\n",
       "plm(formula = CEI ~ BRD_INDP + BRD_MEET + BRD_SIZE + BRD_COMPT + \n",
       "    DIVIDEND + BRD_COMPT_DIV + LOSS + TOT_ASSETS + SLACK + ROE, \n",
       "    data = data_panel, model = \"within\")\n",
       "\n",
       "Balanced Panel: n=36, T=4, N=144\n",
       "\n",
       "Residuals :\n",
       "    Min.  1st Qu.   Median  3rd Qu.     Max. \n",
       "-0.29200 -0.06850 -0.00508  0.07040  0.29800 \n",
       "\n",
       "Coefficients :\n",
       "                 Estimate  Std. Error t-value Pr(>|t|)   \n",
       "BRD_INDP       8.4966e-02  6.6897e-02  1.2701 0.207055   \n",
       "BRD_MEET       5.1229e-02  4.7156e-02  1.0864 0.279983   \n",
       "BRD_SIZE      -7.4791e-03  2.3705e-02 -0.3155 0.753051   \n",
       "BRD_COMPT      1.0300e-03  7.6946e-02  0.0134 0.989347   \n",
       "DIVIDEND      -3.5305e-05  1.1281e-03 -0.0313 0.975098   \n",
       "BRD_COMPT_DIV -3.8764e-05  4.4336e-04 -0.0874 0.930507   \n",
       "LOSS          -4.9450e-02  3.5688e-02 -1.3856 0.169012   \n",
       "TOT_ASSETS     2.6793e-02  2.3470e-02  1.1416 0.256414   \n",
       "SLACK         -1.9605e-02  2.1756e-02 -0.9011 0.369748   \n",
       "ROE           -1.6469e-01  5.5440e-02 -2.9707 0.003737 **\n",
       "---\n",
       "Signif. codes:  0 ‘***’ 0.001 ‘**’ 0.01 ‘*’ 0.05 ‘.’ 0.1 ‘ ’ 1\n",
       "\n",
       "Total Sum of Squares:    1.7267\n",
       "Residual Sum of Squares: 1.5156\n",
       "R-Squared      :  0.12226 \n",
       "      Adj. R-Squared :  0.083202 \n",
       "F-statistic: 1.36499 on 10 and 98 DF, p-value: 0.2079"
      ]
     },
     "execution_count": 144,
     "metadata": {},
     "output_type": "execute_result"
    }
   ],
   "source": [
    "summary(tabel3_reg5)"
   ]
  },
  {
   "cell_type": "code",
   "execution_count": 145,
   "metadata": {
    "collapsed": false
   },
   "outputs": [
    {
     "data": {
      "text/html": [
       "<ol class=list-inline>\n",
       "\t<li>'X'</li>\n",
       "\t<li>'Firm'</li>\n",
       "\t<li>'Year'</li>\n",
       "\t<li>'CEI'</li>\n",
       "\t<li>'BRIB_CORR'</li>\n",
       "\t<li>'BUSS_ETH'</li>\n",
       "\t<li>'FAIR_COMP'</li>\n",
       "\t<li>'POL_CONTR'</li>\n",
       "\t<li>'INDIG_PPL'</li>\n",
       "\t<li>'IND_EC_IMP'</li>\n",
       "\t<li>'X0TH_ENG'</li>\n",
       "\t<li>'ALT_CEI'</li>\n",
       "\t<li>'BRD_EFFC'</li>\n",
       "\t<li>'BRD_INDP'</li>\n",
       "\t<li>'BRD_MEET'</li>\n",
       "\t<li>'BRD_SIZE'</li>\n",
       "\t<li>'BRD_COMPT'</li>\n",
       "\t<li>'DIVIDEND'</li>\n",
       "\t<li>'LOSS'</li>\n",
       "\t<li>'TOT_ASSETS'</li>\n",
       "\t<li>'SLACK'</li>\n",
       "\t<li>'ROE'</li>\n",
       "\t<li>'BRD_INDP_DIV'</li>\n",
       "\t<li>'BRD_MEET_DIV'</li>\n",
       "\t<li>'BRD_SIZE_DIV'</li>\n",
       "\t<li>'BRD_COMPT_DIV'</li>\n",
       "\t<li>'BRD_EFFC_DIV'</li>\n",
       "</ol>\n"
      ],
      "text/latex": [
       "\\begin{enumerate*}\n",
       "\\item 'X'\n",
       "\\item 'Firm'\n",
       "\\item 'Year'\n",
       "\\item 'CEI'\n",
       "\\item 'BRIB_CORR'\n",
       "\\item 'BUSS_ETH'\n",
       "\\item 'FAIR_COMP'\n",
       "\\item 'POL_CONTR'\n",
       "\\item 'INDIG_PPL'\n",
       "\\item 'IND_EC_IMP'\n",
       "\\item 'X0TH_ENG'\n",
       "\\item 'ALT_CEI'\n",
       "\\item 'BRD_EFFC'\n",
       "\\item 'BRD_INDP'\n",
       "\\item 'BRD_MEET'\n",
       "\\item 'BRD_SIZE'\n",
       "\\item 'BRD_COMPT'\n",
       "\\item 'DIVIDEND'\n",
       "\\item 'LOSS'\n",
       "\\item 'TOT_ASSETS'\n",
       "\\item 'SLACK'\n",
       "\\item 'ROE'\n",
       "\\item 'BRD_INDP_DIV'\n",
       "\\item 'BRD_MEET_DIV'\n",
       "\\item 'BRD_SIZE_DIV'\n",
       "\\item 'BRD_COMPT_DIV'\n",
       "\\item 'BRD_EFFC_DIV'\n",
       "\\end{enumerate*}\n"
      ],
      "text/markdown": [
       "1. 'X'\n",
       "2. 'Firm'\n",
       "3. 'Year'\n",
       "4. 'CEI'\n",
       "5. 'BRIB_CORR'\n",
       "6. 'BUSS_ETH'\n",
       "7. 'FAIR_COMP'\n",
       "8. 'POL_CONTR'\n",
       "9. 'INDIG_PPL'\n",
       "10. 'IND_EC_IMP'\n",
       "11. 'X0TH_ENG'\n",
       "12. 'ALT_CEI'\n",
       "13. 'BRD_EFFC'\n",
       "14. 'BRD_INDP'\n",
       "15. 'BRD_MEET'\n",
       "16. 'BRD_SIZE'\n",
       "17. 'BRD_COMPT'\n",
       "18. 'DIVIDEND'\n",
       "19. 'LOSS'\n",
       "20. 'TOT_ASSETS'\n",
       "21. 'SLACK'\n",
       "22. 'ROE'\n",
       "23. 'BRD_INDP_DIV'\n",
       "24. 'BRD_MEET_DIV'\n",
       "25. 'BRD_SIZE_DIV'\n",
       "26. 'BRD_COMPT_DIV'\n",
       "27. 'BRD_EFFC_DIV'\n",
       "\n",
       "\n"
      ],
      "text/plain": [
       " [1] \"X\"             \"Firm\"          \"Year\"          \"CEI\"          \n",
       " [5] \"BRIB_CORR\"     \"BUSS_ETH\"      \"FAIR_COMP\"     \"POL_CONTR\"    \n",
       " [9] \"INDIG_PPL\"     \"IND_EC_IMP\"    \"X0TH_ENG\"      \"ALT_CEI\"      \n",
       "[13] \"BRD_EFFC\"      \"BRD_INDP\"      \"BRD_MEET\"      \"BRD_SIZE\"     \n",
       "[17] \"BRD_COMPT\"     \"DIVIDEND\"      \"LOSS\"          \"TOT_ASSETS\"   \n",
       "[21] \"SLACK\"         \"ROE\"           \"BRD_INDP_DIV\"  \"BRD_MEET_DIV\" \n",
       "[25] \"BRD_SIZE_DIV\"  \"BRD_COMPT_DIV\" \"BRD_EFFC_DIV\" "
      ]
     },
     "execution_count": 145,
     "metadata": {},
     "output_type": "execute_result"
    }
   ],
   "source": [
    "names(data)"
   ]
  },
  {
   "cell_type": "code",
   "execution_count": 146,
   "metadata": {
    "collapsed": false
   },
   "outputs": [],
   "source": [
    "tabel4_reg1 <- plm(CEI ~ BRD_EFFC +  DIVIDEND +  LOSS + TOT_ASSETS + SLACK + ROE, data = data_panel, model = \"within\" )\n",
    "tabel4_reg2 <- plm(ALT_CEI ~ BRD_EFFC +  DIVIDEND +  LOSS + TOT_ASSETS + SLACK + ROE, data = data_panel, model = \"within\" )\n",
    "tabel4_reg3 <- plm(CEI ~ BRD_EFFC +  DIVIDEND + BRD_EFFC_DIV + LOSS + TOT_ASSETS + SLACK + ROE, data = data_panel, model = \"within\" )\n",
    "tabel4_reg4 <- plm(ALT_CEI ~ BRD_EFFC +  DIVIDEND + BRD_EFFC_DIV + LOSS + TOT_ASSETS + SLACK + ROE, data = data_panel, model = \"within\" )\n",
    "tabel4_reg5 <- plm(BRD_EFFC ~ ALT_CEI + LOSS + TOT_ASSETS + SLACK + ROE, data = data_panel, model = \"within\" )\n",
    "tabel4_reg6 <- plm(ALT_CEI ~ BRD_EFFC +LOSS + TOT_ASSETS + SLACK + ROE, data = data_panel, model = \"within\" )\n"
   ]
  },
  {
   "cell_type": "code",
   "execution_count": 147,
   "metadata": {
    "collapsed": true
   },
   "outputs": [],
   "source": [
    "robust111 <- coeftest(tabel4_reg1, vcov=function(x) vcovHC(x, method=\"arellano\",\n",
    "                                                          type=\"HC1\", cluster=\"group\"))\n",
    "robust222 <- coeftest(tabel4_reg2, vcov=function(x) vcovHC(x, method=\"arellano\",\n",
    "                                                          type=\"HC1\", cluster=\"group\"))\n",
    "robust333 <- coeftest(tabel4_reg3, vcov=function(x) vcovHC(x, method=\"arellano\",\n",
    "                                                          type=\"HC1\", cluster=\"group\"))\n",
    "robust445 <- coeftest(tabel4_reg4, vcov=function(x) vcovHC(x, method=\"arellano\",\n",
    "                                                          type=\"HC1\", cluster=\"group\"))\n",
    "robust555 <- coeftest(tabel4_reg5, vcov=function(x) vcovHC(x, method=\"arellano\",\n",
    "                                                          type=\"HC1\", cluster=\"group\"))\n",
    "robust666 <- coeftest(tabel4_reg5, vcov=function(x) vcovHC(x, method=\"arellano\",\n",
    "                                                          type=\"HC1\", cluster=\"group\"))"
   ]
  },
  {
   "cell_type": "markdown",
   "metadata": {},
   "source": [
    "## Coba Regresi Billy"
   ]
  },
  {
   "cell_type": "markdown",
   "metadata": {},
   "source": [
    "## Hausman Test: H0: RE vs H1: FE "
   ]
  },
  {
   "cell_type": "code",
   "execution_count": 76,
   "metadata": {
    "collapsed": false
   },
   "outputs": [
    {
     "ename": "ERROR",
     "evalue": "Error in eval(expr, envir, enclos): object 'TOBINQ' not found\n",
     "output_type": "error",
     "traceback": [
      "Error in eval(expr, envir, enclos): object 'TOBINQ' not found\n"
     ]
    },
    {
     "ename": "ERROR",
     "evalue": "Error in eval(expr, envir, enclos): object 'TOBINQ' not found\n",
     "output_type": "error",
     "traceback": [
      "Error in eval(expr, envir, enclos): object 'TOBINQ' not found\n"
     ]
    }
   ],
   "source": [
    "skripsi.fe <- plm(TOBINQ ~ PDEBT + LogAssets + LEV + LIQ + INTCOV + PROF + DR + GROWTH + FIRMAGE, data = data_panel, model = \"within\")\n",
    "skripsi.re <- plm(TOBINQ ~ PDEBT + LogAssets + LEV + LIQ + INTCOV + PROF + DR + GROWTH + FIRMAGE, data = data_panel, model = \"random\")"
   ]
  },
  {
   "cell_type": "code",
   "execution_count": 77,
   "metadata": {
    "collapsed": false
   },
   "outputs": [
    {
     "ename": "ERROR",
     "evalue": "Error in summary(skripsi.fe): object 'skripsi.fe' not found\n",
     "output_type": "error",
     "traceback": [
      "Error in summary(skripsi.fe): object 'skripsi.fe' not found\n"
     ]
    }
   ],
   "source": [
    "summary(skripsi.fe)"
   ]
  },
  {
   "cell_type": "code",
   "execution_count": 78,
   "metadata": {
    "collapsed": false
   },
   "outputs": [
    {
     "ename": "ERROR",
     "evalue": "Error in summary(skripsi.re): object 'skripsi.re' not found\n",
     "output_type": "error",
     "traceback": [
      "Error in summary(skripsi.re): object 'skripsi.re' not found\n"
     ]
    }
   ],
   "source": [
    "summary(skripsi.re)"
   ]
  },
  {
   "cell_type": "code",
   "execution_count": 79,
   "metadata": {
    "collapsed": false
   },
   "outputs": [
    {
     "ename": "ERROR",
     "evalue": "Error in phtest(skripsi.fe, skripsi.re): object 'skripsi.fe' not found\n",
     "output_type": "error",
     "traceback": [
      "Error in phtest(skripsi.fe, skripsi.re): object 'skripsi.fe' not found\n"
     ]
    }
   ],
   "source": [
    "phtest( skripsi.fe, skripsi.re)"
   ]
  },
  {
   "cell_type": "markdown",
   "metadata": {},
   "source": [
    "## Hausman menghasilkan penggunaan Fixed Effect\n",
    "\n",
    "- - -\n",
    "- - - \n",
    "- - -\n",
    "- - - \n",
    "- - -\n",
    "- - - "
   ]
  },
  {
   "cell_type": "markdown",
   "metadata": {},
   "source": [
    "## Poolability Test"
   ]
  },
  {
   "cell_type": "code",
   "execution_count": 80,
   "metadata": {
    "collapsed": false
   },
   "outputs": [
    {
     "ename": "ERROR",
     "evalue": "Error in eval(expr, envir, enclos): object 'TOBINQ' not found\n",
     "output_type": "error",
     "traceback": [
      "Error in eval(expr, envir, enclos): object 'TOBINQ' not found\n"
     ]
    }
   ],
   "source": [
    "pooltest.billy <- pooltest(TOBINQ ~ PDEBT + FIRMAGE + LIQ, data = data_panel, model=\"within\")"
   ]
  },
  {
   "cell_type": "code",
   "execution_count": 81,
   "metadata": {
    "collapsed": false
   },
   "outputs": [
    {
     "ename": "ERROR",
     "evalue": "Error in eval(expr, envir, enclos): object 'pooltest.billy' not found\n",
     "output_type": "error",
     "traceback": [
      "Error in eval(expr, envir, enclos): object 'pooltest.billy' not found\n"
     ]
    }
   ],
   "source": [
    "pooltest.billy"
   ]
  },
  {
   "cell_type": "markdown",
   "metadata": {},
   "source": [
    "## Bruesch Pagan Test"
   ]
  },
  {
   "cell_type": "code",
   "execution_count": 82,
   "metadata": {
    "collapsed": false
   },
   "outputs": [
    {
     "ename": "ERROR",
     "evalue": "Error in eval(expr, envir, enclos): object 'TOBINQ' not found\n",
     "output_type": "error",
     "traceback": [
      "Error in eval(expr, envir, enclos): object 'TOBINQ' not found\n"
     ]
    },
    {
     "ename": "ERROR",
     "evalue": "Error in plmtest(pool_rergression, effect = \"twoways\", type = \"bp\"): object 'pool_rergression' not found\n",
     "output_type": "error",
     "traceback": [
      "Error in plmtest(pool_rergression, effect = \"twoways\", type = \"bp\"): object 'pool_rergression' not found\n"
     ]
    }
   ],
   "source": [
    "pool_rergression <- plm(TOBINQ ~ PDEBT + SIZE + LEV + LIQ + INTCOV + PROF + DR + GROWTH + FIRMAGE, data = data_panel, model=\"pooling\")\n",
    "bpagan_test <- plmtest(pool_rergression,effect=\"twoways\",type=\"bp\")"
   ]
  },
  {
   "cell_type": "code",
   "execution_count": 83,
   "metadata": {
    "collapsed": false
   },
   "outputs": [
    {
     "ename": "ERROR",
     "evalue": "Error in eval(expr, envir, enclos): object 'bpagan_test' not found\n",
     "output_type": "error",
     "traceback": [
      "Error in eval(expr, envir, enclos): object 'bpagan_test' not found\n"
     ]
    }
   ],
   "source": [
    "bpagan_test"
   ]
  },
  {
   "cell_type": "markdown",
   "metadata": {},
   "source": [
    "# BP Test significant dan Hausman significant, sehinggga menggunakan Fixed effect "
   ]
  },
  {
   "cell_type": "code",
   "execution_count": 84,
   "metadata": {
    "collapsed": false
   },
   "outputs": [
    {
     "ename": "ERROR",
     "evalue": "Error in summary(skripsi.fe): object 'skripsi.fe' not found\n",
     "output_type": "error",
     "traceback": [
      "Error in summary(skripsi.fe): object 'skripsi.fe' not found\n"
     ]
    }
   ],
   "source": [
    "summary(skripsi.fe)"
   ]
  },
  {
   "cell_type": "code",
   "execution_count": 85,
   "metadata": {
    "collapsed": false
   },
   "outputs": [
    {
     "data": {
      "text/plain": [
       "       X               CEI           BRIB_CORR         BUSS_ETH     \n",
       " Min.   :  0.00   Min.   :0.0000   Min.   :0.0000   Min.   :0.0000  \n",
       " 1st Qu.: 35.75   1st Qu.:0.3051   1st Qu.:0.0000   1st Qu.:0.0000  \n",
       " Median : 71.50   Median :0.4702   Median :0.0000   Median :0.5000  \n",
       " Mean   : 71.50   Mean   :0.4814   Mean   :0.2542   Mean   :0.4462  \n",
       " 3rd Qu.:107.25   3rd Qu.:0.6958   3rd Qu.:0.6000   3rd Qu.:0.7500  \n",
       " Max.   :143.00   Max.   :0.9524   Max.   :1.0000   Max.   :1.0000  \n",
       "   FAIR_COMP        POL_CONTR        INDIG_PPL        IND_EC_IMP    \n",
       " Min.   :0.0000   Min.   :0.0000   Min.   :0.0000   Min.   :0.0000  \n",
       " 1st Qu.:0.0000   1st Qu.:0.0000   1st Qu.:0.6667   1st Qu.:1.0000  \n",
       " Median :0.0000   Median :0.0000   Median :1.0000   Median :1.0000  \n",
       " Mean   :0.2708   Mean   :0.3316   Mean   :0.7865   Mean   :0.8681  \n",
       " 3rd Qu.:0.5000   3rd Qu.:0.7500   3rd Qu.:1.0000   3rd Qu.:1.0000  \n",
       " Max.   :1.0000   Max.   :1.0000   Max.   :1.0000   Max.   :1.0000  \n",
       "    X0TH_ENG         ALT_CEI          BRD_EFFC        BRD_INDP    \n",
       " Min.   :0.0000   Min.   :0.0000   Min.   :1.458   Min.   :1.167  \n",
       " 1st Qu.:0.3332   1st Qu.:0.3000   1st Qu.:2.059   1st Qu.:1.833  \n",
       " Median :0.5000   Median :0.5000   Median :2.235   Median :1.833  \n",
       " Mean   :0.5060   Mean   :0.4361   Mean   :2.231   Mean   :1.960  \n",
       " 3rd Qu.:0.6667   3rd Qu.:0.6000   3rd Qu.:2.412   3rd Qu.:2.167  \n",
       " Max.   :1.0000   Max.   :0.8000   Max.   :2.882   Max.   :3.000  \n",
       "    BRD_MEET        BRD_SIZE      BRD_COMPT        DIVIDEND      \n",
       " Min.   :1.000   Min.   :1.00   Min.   :1.750   Min.   :   0.00  \n",
       " 1st Qu.:2.000   1st Qu.:1.00   1st Qu.:2.500   1st Qu.:   0.00  \n",
       " Median :2.333   Median :3.00   Median :2.500   Median :   0.00  \n",
       " Mean   :2.333   Mean   :2.09   Mean   :2.525   Mean   :  70.24  \n",
       " 3rd Qu.:2.667   3rd Qu.:3.00   3rd Qu.:2.500   3rd Qu.:  50.00  \n",
       " Max.   :3.000   Max.   :3.00   Max.   :3.000   Max.   :1666.00  \n",
       "      LOSS          TOT_ASSETS            SLACK                ROE           \n",
       " Min.   :0.0000   Min.   :9.957e+07   Min.   :2.649e+06   Min.   :-2.030000  \n",
       " 1st Qu.:0.0000   1st Qu.:7.557e+11   1st Qu.:4.009e+10   1st Qu.:-0.001275  \n",
       " Median :0.0000   Median :3.332e+12   Median :3.073e+11   Median : 0.045330  \n",
       " Mean   :0.3125   Mean   :2.508e+24   Mean   :2.794e+24   Mean   : 0.036846  \n",
       " 3rd Qu.:1.0000   3rd Qu.:1.348e+13   3rd Qu.:1.597e+12   3rd Qu.: 0.172300  \n",
       " Max.   :1.0000   Max.   :3.611e+26   Max.   :4.023e+26   Max.   : 0.741000  \n",
       "  BRD_INDP_DIV      BRD_MEET_DIV     BRD_SIZE_DIV    BRD_COMPT_DIV \n",
       " Min.   :   0.00   Min.   :   0.0   Min.   :   0.0   Min.   :   0  \n",
       " 1st Qu.:   0.00   1st Qu.:   0.0   1st Qu.:   0.0   1st Qu.:   0  \n",
       " Median :   0.00   Median :   0.0   Median :   0.0   Median :   0  \n",
       " Mean   : 147.22   Mean   : 180.4   Mean   : 203.5   Mean   : 182  \n",
       " 3rd Qu.:  92.01   3rd Qu.: 125.0   3rd Qu.: 100.0   3rd Qu.: 125  \n",
       " Max.   :4442.67   Max.   :4998.0   Max.   :4998.0   Max.   :4165  \n",
       "  BRD_EFFC_DIV   \n",
       " Min.   :   0.0  \n",
       " 1st Qu.:   0.0  \n",
       " Median :   0.0  \n",
       " Mean   : 172.0  \n",
       " 3rd Qu.: 110.6  \n",
       " Max.   :4606.0  "
      ]
     },
     "execution_count": 85,
     "metadata": {},
     "output_type": "execute_result"
    }
   ],
   "source": [
    "summary(data_panel)"
   ]
  },
  {
   "cell_type": "markdown",
   "metadata": {},
   "source": [
    "- - - \n",
    "- - - \n",
    "- - - \n",
    "- - - \n",
    "- - - \n",
    "- - - \n",
    "- - - \n",
    "- - - \n",
    "- - - \n",
    "- - - \n",
    "- - - \n",
    "- - - \n",
    "- - - \n",
    "- - - \n",
    "- - - \n"
   ]
  },
  {
   "cell_type": "code",
   "execution_count": 86,
   "metadata": {
    "collapsed": false
   },
   "outputs": [
    {
     "ename": "ERROR",
     "evalue": "Error in exists(name, envir = env, mode = mode): argument \"env\" is missing, with no default\n",
     "output_type": "error",
     "traceback": [
      "Error in exists(name, envir = env, mode = mode): argument \"env\" is missing, with no default\n"
     ]
    }
   ],
   "source": [
    "qplot(y = data$LogTobinsQ, x = data$LIQ, geom = c(\"point\", \"smooth\"), method = lm)"
   ]
  },
  {
   "cell_type": "code",
   "execution_count": 87,
   "metadata": {
    "collapsed": false
   },
   "outputs": [
    {
     "ename": "ERROR",
     "evalue": "Error in var(data$LIQ): 'x' is NULL\n",
     "output_type": "error",
     "traceback": [
      "Error in var(data$LIQ): 'x' is NULL\n"
     ]
    }
   ],
   "source": [
    "var(data$LIQ)"
   ]
  },
  {
   "cell_type": "code",
   "execution_count": 88,
   "metadata": {
    "collapsed": false
   },
   "outputs": [
    {
     "ename": "ERROR",
     "evalue": "Error in var(data$TOBINQ): 'x' is NULL\n",
     "output_type": "error",
     "traceback": [
      "Error in var(data$TOBINQ): 'x' is NULL\n"
     ]
    }
   ],
   "source": [
    "var(data$TOBINQ)"
   ]
  },
  {
   "cell_type": "code",
   "execution_count": 89,
   "metadata": {
    "collapsed": false
   },
   "outputs": [
    {
     "ename": "ERROR",
     "evalue": "Error in exists(name, envir = env, mode = mode): argument \"env\" is missing, with no default\n",
     "output_type": "error",
     "traceback": [
      "Error in exists(name, envir = env, mode = mode): argument \"env\" is missing, with no default\n"
     ]
    }
   ],
   "source": [
    "qplot(data$TOBINQ)"
   ]
  },
  {
   "cell_type": "code",
   "execution_count": 90,
   "metadata": {
    "collapsed": false
   },
   "outputs": [
    {
     "ename": "ERROR",
     "evalue": "Error in eval(expr, envir, enclos): object 'TOBINQ' not found\n",
     "output_type": "error",
     "traceback": [
      "Error in eval(expr, envir, enclos): object 'TOBINQ' not found\n"
     ]
    }
   ],
   "source": [
    "skripsi.try1 <- plm(log(TOBINQ) ~ PDEBT + log(SIZE) + log(LEV) + log(LIQ) + log(INTCOV) + log(PROF) + DR + log(GROWTH) + FIRMAGE + y1 + y2 + y3 , data = data_panel, model = \"within\")\n"
   ]
  },
  {
   "cell_type": "code",
   "execution_count": 91,
   "metadata": {
    "collapsed": false
   },
   "outputs": [
    {
     "ename": "ERROR",
     "evalue": "Error in summary(skripsi.try1): object 'skripsi.try1' not found\n",
     "output_type": "error",
     "traceback": [
      "Error in summary(skripsi.try1): object 'skripsi.try1' not found\n"
     ]
    }
   ],
   "source": [
    "summary(skripsi.try1)"
   ]
  },
  {
   "cell_type": "code",
   "execution_count": 92,
   "metadata": {
    "collapsed": false
   },
   "outputs": [
    {
     "name": "stderr",
     "output_type": "stream",
     "text": [
      "Installing package into ‘/home/qbits7/R/x86_64-pc-linux-gnu-library/3.2’\n",
      "(as ‘lib’ is unspecified)\n"
     ]
    },
    {
     "ename": "ERROR",
     "evalue": "Error in contrib.url(repos, type): trying to use CRAN without setting a mirror\n",
     "output_type": "error",
     "traceback": [
      "Error in contrib.url(repos, type): trying to use CRAN without setting a mirror\n"
     ]
    }
   ],
   "source": [
    "install.packages(\"R2wd\")"
   ]
  },
  {
   "cell_type": "code",
   "execution_count": null,
   "metadata": {
    "collapsed": true
   },
   "outputs": [],
   "source": []
  },
  {
   "cell_type": "code",
   "execution_count": null,
   "metadata": {
    "collapsed": true
   },
   "outputs": [],
   "source": []
  },
  {
   "cell_type": "code",
   "execution_count": null,
   "metadata": {
    "collapsed": true
   },
   "outputs": [],
   "source": []
  },
  {
   "cell_type": "code",
   "execution_count": null,
   "metadata": {
    "collapsed": true
   },
   "outputs": [],
   "source": []
  },
  {
   "cell_type": "code",
   "execution_count": null,
   "metadata": {
    "collapsed": true
   },
   "outputs": [],
   "source": []
  },
  {
   "cell_type": "code",
   "execution_count": null,
   "metadata": {
    "collapsed": true
   },
   "outputs": [],
   "source": []
  }
 ],
 "metadata": {
  "kernelspec": {
   "display_name": "R",
   "language": "R",
   "name": "ir"
  },
  "language_info": {
   "codemirror_mode": "r",
   "file_extension": ".r",
   "mimetype": "text/x-r-source",
   "name": "R",
   "pygments_lexer": "r",
   "version": "3.2.2"
  }
 },
 "nbformat": 4,
 "nbformat_minor": 0
}
